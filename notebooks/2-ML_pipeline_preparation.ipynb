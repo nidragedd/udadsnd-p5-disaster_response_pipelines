{
 "cells": [
  {
   "cell_type": "markdown",
   "metadata": {},
   "source": [
    "# ML Pipeline Preparation & Algorithm choice\n",
    "This notebook will be used to explore some possibilities about feature engineering and model evaluation + choice.  \n",
    "We are dealing with text and we want to classify some input text into one to many categories. \n",
    "\n",
    "**We will build a supervised NLP model with multilabel classification (and not multiclass!).**  \n",
    "What is the difference? \n",
    "Well, _\"in multi-class problems the classes are mutually exclusive, whereas for multi-label problems each label represents a different classification task\"_ [source](https://towardsdatascience.com/journey-to-the-center-of-multi-label-classification-384c40229bff)."
   ]
  },
  {
   "cell_type": "code",
   "execution_count": 1,
   "metadata": {},
   "outputs": [],
   "source": [
    "import pandas as pd\n",
    "import numpy as np\n",
    "from sqlalchemy import create_engine\n",
    "import re\n",
    "\n",
    "# NLP transformations\n",
    "import spacy\n",
    "from sklearn.feature_extraction.text import TfidfVectorizer\n",
    "\n",
    "# sklearn pipelines import\n",
    "from sklearn.pipeline import Pipeline, FeatureUnion\n",
    "\n",
    "# sklearn estimators and transformers\n",
    "from sklearn.base import BaseEstimator, TransformerMixin\n",
    "\n",
    "# Training\n",
    "from sklearn.model_selection import train_test_split, GridSearchCV, RandomizedSearchCV\n",
    "\n",
    "# Models\n",
    "from sklearn.linear_model import LogisticRegression\n",
    "from sklearn.ensemble import RandomForestClassifier\n",
    "# Multiclass\n",
    "from sklearn.multioutput import MultiOutputClassifier\n",
    "from sklearn.multiclass import OneVsRestClassifier\n",
    "\n",
    "# Model evaluation\n",
    "from sklearn.metrics import classification_report, f1_score, make_scorer, precision_score, recall_score, confusion_matrix"
   ]
  },
  {
   "cell_type": "markdown",
   "metadata": {},
   "source": [
    "---\n",
    "## 1. Load data from database on disk and build X, Y"
   ]
  },
  {
   "cell_type": "code",
   "execution_count": 2,
   "metadata": {},
   "outputs": [],
   "source": [
    "# load data from database\n",
    "engine = create_engine('sqlite:///../data/output/disaster.db')\n",
    "df = pd.read_sql_table('messages', engine)"
   ]
  },
  {
   "cell_type": "code",
   "execution_count": 3,
   "metadata": {},
   "outputs": [
    {
     "data": {
      "text/html": [
       "<div>\n",
       "<style scoped>\n",
       "    .dataframe tbody tr th:only-of-type {\n",
       "        vertical-align: middle;\n",
       "    }\n",
       "\n",
       "    .dataframe tbody tr th {\n",
       "        vertical-align: top;\n",
       "    }\n",
       "\n",
       "    .dataframe thead th {\n",
       "        text-align: right;\n",
       "    }\n",
       "</style>\n",
       "<table border=\"1\" class=\"dataframe\">\n",
       "  <thead>\n",
       "    <tr style=\"text-align: right;\">\n",
       "      <th></th>\n",
       "      <th>id</th>\n",
       "      <th>message</th>\n",
       "      <th>genre</th>\n",
       "      <th>related</th>\n",
       "      <th>request</th>\n",
       "      <th>offer</th>\n",
       "      <th>aid_related</th>\n",
       "      <th>medical_help</th>\n",
       "      <th>medical_products</th>\n",
       "      <th>search_and_rescue</th>\n",
       "      <th>...</th>\n",
       "      <th>aid_centers</th>\n",
       "      <th>other_infrastructure</th>\n",
       "      <th>weather_related</th>\n",
       "      <th>floods</th>\n",
       "      <th>storm</th>\n",
       "      <th>fire</th>\n",
       "      <th>earthquake</th>\n",
       "      <th>cold</th>\n",
       "      <th>other_weather</th>\n",
       "      <th>direct_report</th>\n",
       "    </tr>\n",
       "  </thead>\n",
       "  <tbody>\n",
       "    <tr>\n",
       "      <td>0</td>\n",
       "      <td>2</td>\n",
       "      <td>Weather update - a cold front from Cuba that c...</td>\n",
       "      <td>direct</td>\n",
       "      <td>1</td>\n",
       "      <td>0</td>\n",
       "      <td>0</td>\n",
       "      <td>0</td>\n",
       "      <td>0</td>\n",
       "      <td>0</td>\n",
       "      <td>0</td>\n",
       "      <td>...</td>\n",
       "      <td>0</td>\n",
       "      <td>0</td>\n",
       "      <td>0</td>\n",
       "      <td>0</td>\n",
       "      <td>0</td>\n",
       "      <td>0</td>\n",
       "      <td>0</td>\n",
       "      <td>0</td>\n",
       "      <td>0</td>\n",
       "      <td>0</td>\n",
       "    </tr>\n",
       "    <tr>\n",
       "      <td>1</td>\n",
       "      <td>7</td>\n",
       "      <td>Is the Hurricane over or is it not over</td>\n",
       "      <td>direct</td>\n",
       "      <td>1</td>\n",
       "      <td>0</td>\n",
       "      <td>0</td>\n",
       "      <td>1</td>\n",
       "      <td>0</td>\n",
       "      <td>0</td>\n",
       "      <td>0</td>\n",
       "      <td>...</td>\n",
       "      <td>0</td>\n",
       "      <td>0</td>\n",
       "      <td>1</td>\n",
       "      <td>0</td>\n",
       "      <td>1</td>\n",
       "      <td>0</td>\n",
       "      <td>0</td>\n",
       "      <td>0</td>\n",
       "      <td>0</td>\n",
       "      <td>0</td>\n",
       "    </tr>\n",
       "    <tr>\n",
       "      <td>2</td>\n",
       "      <td>8</td>\n",
       "      <td>Looking for someone but no name</td>\n",
       "      <td>direct</td>\n",
       "      <td>1</td>\n",
       "      <td>0</td>\n",
       "      <td>0</td>\n",
       "      <td>0</td>\n",
       "      <td>0</td>\n",
       "      <td>0</td>\n",
       "      <td>0</td>\n",
       "      <td>...</td>\n",
       "      <td>0</td>\n",
       "      <td>0</td>\n",
       "      <td>0</td>\n",
       "      <td>0</td>\n",
       "      <td>0</td>\n",
       "      <td>0</td>\n",
       "      <td>0</td>\n",
       "      <td>0</td>\n",
       "      <td>0</td>\n",
       "      <td>0</td>\n",
       "    </tr>\n",
       "    <tr>\n",
       "      <td>3</td>\n",
       "      <td>9</td>\n",
       "      <td>UN reports Leogane 80-90 destroyed. Only Hospi...</td>\n",
       "      <td>direct</td>\n",
       "      <td>1</td>\n",
       "      <td>1</td>\n",
       "      <td>0</td>\n",
       "      <td>1</td>\n",
       "      <td>0</td>\n",
       "      <td>1</td>\n",
       "      <td>0</td>\n",
       "      <td>...</td>\n",
       "      <td>0</td>\n",
       "      <td>0</td>\n",
       "      <td>0</td>\n",
       "      <td>0</td>\n",
       "      <td>0</td>\n",
       "      <td>0</td>\n",
       "      <td>0</td>\n",
       "      <td>0</td>\n",
       "      <td>0</td>\n",
       "      <td>0</td>\n",
       "    </tr>\n",
       "    <tr>\n",
       "      <td>4</td>\n",
       "      <td>12</td>\n",
       "      <td>says: west side of Haiti, rest of the country ...</td>\n",
       "      <td>direct</td>\n",
       "      <td>1</td>\n",
       "      <td>0</td>\n",
       "      <td>0</td>\n",
       "      <td>0</td>\n",
       "      <td>0</td>\n",
       "      <td>0</td>\n",
       "      <td>0</td>\n",
       "      <td>...</td>\n",
       "      <td>0</td>\n",
       "      <td>0</td>\n",
       "      <td>0</td>\n",
       "      <td>0</td>\n",
       "      <td>0</td>\n",
       "      <td>0</td>\n",
       "      <td>0</td>\n",
       "      <td>0</td>\n",
       "      <td>0</td>\n",
       "      <td>0</td>\n",
       "    </tr>\n",
       "  </tbody>\n",
       "</table>\n",
       "<p>5 rows × 38 columns</p>\n",
       "</div>"
      ],
      "text/plain": [
       "   id                                            message   genre  related  \\\n",
       "0   2  Weather update - a cold front from Cuba that c...  direct        1   \n",
       "1   7            Is the Hurricane over or is it not over  direct        1   \n",
       "2   8                    Looking for someone but no name  direct        1   \n",
       "3   9  UN reports Leogane 80-90 destroyed. Only Hospi...  direct        1   \n",
       "4  12  says: west side of Haiti, rest of the country ...  direct        1   \n",
       "\n",
       "   request  offer  aid_related  medical_help  medical_products  \\\n",
       "0        0      0            0             0                 0   \n",
       "1        0      0            1             0                 0   \n",
       "2        0      0            0             0                 0   \n",
       "3        1      0            1             0                 1   \n",
       "4        0      0            0             0                 0   \n",
       "\n",
       "   search_and_rescue  ...  aid_centers  other_infrastructure  weather_related  \\\n",
       "0                  0  ...            0                     0                0   \n",
       "1                  0  ...            0                     0                1   \n",
       "2                  0  ...            0                     0                0   \n",
       "3                  0  ...            0                     0                0   \n",
       "4                  0  ...            0                     0                0   \n",
       "\n",
       "   floods  storm  fire  earthquake  cold  other_weather  direct_report  \n",
       "0       0      0     0           0     0              0              0  \n",
       "1       0      1     0           0     0              0              0  \n",
       "2       0      0     0           0     0              0              0  \n",
       "3       0      0     0           0     0              0              0  \n",
       "4       0      0     0           0     0              0              0  \n",
       "\n",
       "[5 rows x 38 columns]"
      ]
     },
     "execution_count": 3,
     "metadata": {},
     "output_type": "execute_result"
    }
   ],
   "source": [
    "df.head()"
   ]
  },
  {
   "cell_type": "markdown",
   "metadata": {},
   "source": [
    "* X (input feature columns) is just the `message` (text), the `id` will not help us and the `genre` neither\n",
    "* target classes are all other columns (36 categories)"
   ]
  },
  {
   "cell_type": "code",
   "execution_count": 4,
   "metadata": {},
   "outputs": [],
   "source": [
    "X = df['message']\n",
    "Y = df.drop(['id', 'message', 'genre'], axis=1)"
   ]
  },
  {
   "cell_type": "code",
   "execution_count": 5,
   "metadata": {},
   "outputs": [
    {
     "data": {
      "text/plain": [
       "0    Weather update - a cold front from Cuba that c...\n",
       "1              Is the Hurricane over or is it not over\n",
       "2                      Looking for someone but no name\n",
       "3    UN reports Leogane 80-90 destroyed. Only Hospi...\n",
       "4    says: west side of Haiti, rest of the country ...\n",
       "Name: message, dtype: object"
      ]
     },
     "execution_count": 5,
     "metadata": {},
     "output_type": "execute_result"
    }
   ],
   "source": [
    "X.head()"
   ]
  },
  {
   "cell_type": "code",
   "execution_count": 6,
   "metadata": {},
   "outputs": [
    {
     "data": {
      "text/html": [
       "<div>\n",
       "<style scoped>\n",
       "    .dataframe tbody tr th:only-of-type {\n",
       "        vertical-align: middle;\n",
       "    }\n",
       "\n",
       "    .dataframe tbody tr th {\n",
       "        vertical-align: top;\n",
       "    }\n",
       "\n",
       "    .dataframe thead th {\n",
       "        text-align: right;\n",
       "    }\n",
       "</style>\n",
       "<table border=\"1\" class=\"dataframe\">\n",
       "  <thead>\n",
       "    <tr style=\"text-align: right;\">\n",
       "      <th></th>\n",
       "      <th>related</th>\n",
       "      <th>request</th>\n",
       "      <th>offer</th>\n",
       "      <th>aid_related</th>\n",
       "      <th>medical_help</th>\n",
       "      <th>medical_products</th>\n",
       "      <th>search_and_rescue</th>\n",
       "      <th>security</th>\n",
       "      <th>military</th>\n",
       "      <th>water</th>\n",
       "      <th>...</th>\n",
       "      <th>aid_centers</th>\n",
       "      <th>other_infrastructure</th>\n",
       "      <th>weather_related</th>\n",
       "      <th>floods</th>\n",
       "      <th>storm</th>\n",
       "      <th>fire</th>\n",
       "      <th>earthquake</th>\n",
       "      <th>cold</th>\n",
       "      <th>other_weather</th>\n",
       "      <th>direct_report</th>\n",
       "    </tr>\n",
       "  </thead>\n",
       "  <tbody>\n",
       "    <tr>\n",
       "      <td>0</td>\n",
       "      <td>1</td>\n",
       "      <td>0</td>\n",
       "      <td>0</td>\n",
       "      <td>0</td>\n",
       "      <td>0</td>\n",
       "      <td>0</td>\n",
       "      <td>0</td>\n",
       "      <td>0</td>\n",
       "      <td>0</td>\n",
       "      <td>0</td>\n",
       "      <td>...</td>\n",
       "      <td>0</td>\n",
       "      <td>0</td>\n",
       "      <td>0</td>\n",
       "      <td>0</td>\n",
       "      <td>0</td>\n",
       "      <td>0</td>\n",
       "      <td>0</td>\n",
       "      <td>0</td>\n",
       "      <td>0</td>\n",
       "      <td>0</td>\n",
       "    </tr>\n",
       "    <tr>\n",
       "      <td>1</td>\n",
       "      <td>1</td>\n",
       "      <td>0</td>\n",
       "      <td>0</td>\n",
       "      <td>1</td>\n",
       "      <td>0</td>\n",
       "      <td>0</td>\n",
       "      <td>0</td>\n",
       "      <td>0</td>\n",
       "      <td>0</td>\n",
       "      <td>0</td>\n",
       "      <td>...</td>\n",
       "      <td>0</td>\n",
       "      <td>0</td>\n",
       "      <td>1</td>\n",
       "      <td>0</td>\n",
       "      <td>1</td>\n",
       "      <td>0</td>\n",
       "      <td>0</td>\n",
       "      <td>0</td>\n",
       "      <td>0</td>\n",
       "      <td>0</td>\n",
       "    </tr>\n",
       "    <tr>\n",
       "      <td>2</td>\n",
       "      <td>1</td>\n",
       "      <td>0</td>\n",
       "      <td>0</td>\n",
       "      <td>0</td>\n",
       "      <td>0</td>\n",
       "      <td>0</td>\n",
       "      <td>0</td>\n",
       "      <td>0</td>\n",
       "      <td>0</td>\n",
       "      <td>0</td>\n",
       "      <td>...</td>\n",
       "      <td>0</td>\n",
       "      <td>0</td>\n",
       "      <td>0</td>\n",
       "      <td>0</td>\n",
       "      <td>0</td>\n",
       "      <td>0</td>\n",
       "      <td>0</td>\n",
       "      <td>0</td>\n",
       "      <td>0</td>\n",
       "      <td>0</td>\n",
       "    </tr>\n",
       "    <tr>\n",
       "      <td>3</td>\n",
       "      <td>1</td>\n",
       "      <td>1</td>\n",
       "      <td>0</td>\n",
       "      <td>1</td>\n",
       "      <td>0</td>\n",
       "      <td>1</td>\n",
       "      <td>0</td>\n",
       "      <td>0</td>\n",
       "      <td>0</td>\n",
       "      <td>0</td>\n",
       "      <td>...</td>\n",
       "      <td>0</td>\n",
       "      <td>0</td>\n",
       "      <td>0</td>\n",
       "      <td>0</td>\n",
       "      <td>0</td>\n",
       "      <td>0</td>\n",
       "      <td>0</td>\n",
       "      <td>0</td>\n",
       "      <td>0</td>\n",
       "      <td>0</td>\n",
       "    </tr>\n",
       "    <tr>\n",
       "      <td>4</td>\n",
       "      <td>1</td>\n",
       "      <td>0</td>\n",
       "      <td>0</td>\n",
       "      <td>0</td>\n",
       "      <td>0</td>\n",
       "      <td>0</td>\n",
       "      <td>0</td>\n",
       "      <td>0</td>\n",
       "      <td>0</td>\n",
       "      <td>0</td>\n",
       "      <td>...</td>\n",
       "      <td>0</td>\n",
       "      <td>0</td>\n",
       "      <td>0</td>\n",
       "      <td>0</td>\n",
       "      <td>0</td>\n",
       "      <td>0</td>\n",
       "      <td>0</td>\n",
       "      <td>0</td>\n",
       "      <td>0</td>\n",
       "      <td>0</td>\n",
       "    </tr>\n",
       "  </tbody>\n",
       "</table>\n",
       "<p>5 rows × 35 columns</p>\n",
       "</div>"
      ],
      "text/plain": [
       "   related  request  offer  aid_related  medical_help  medical_products  \\\n",
       "0        1        0      0            0             0                 0   \n",
       "1        1        0      0            1             0                 0   \n",
       "2        1        0      0            0             0                 0   \n",
       "3        1        1      0            1             0                 1   \n",
       "4        1        0      0            0             0                 0   \n",
       "\n",
       "   search_and_rescue  security  military  water  ...  aid_centers  \\\n",
       "0                  0         0         0      0  ...            0   \n",
       "1                  0         0         0      0  ...            0   \n",
       "2                  0         0         0      0  ...            0   \n",
       "3                  0         0         0      0  ...            0   \n",
       "4                  0         0         0      0  ...            0   \n",
       "\n",
       "   other_infrastructure  weather_related  floods  storm  fire  earthquake  \\\n",
       "0                     0                0       0      0     0           0   \n",
       "1                     0                1       0      1     0           0   \n",
       "2                     0                0       0      0     0           0   \n",
       "3                     0                0       0      0     0           0   \n",
       "4                     0                0       0      0     0           0   \n",
       "\n",
       "   cold  other_weather  direct_report  \n",
       "0     0              0              0  \n",
       "1     0              0              0  \n",
       "2     0              0              0  \n",
       "3     0              0              0  \n",
       "4     0              0              0  \n",
       "\n",
       "[5 rows x 35 columns]"
      ]
     },
     "execution_count": 6,
     "metadata": {},
     "output_type": "execute_result"
    }
   ],
   "source": [
    "Y.head()"
   ]
  },
  {
   "cell_type": "markdown",
   "metadata": {},
   "source": [
    "---\n",
    "## 2. NLP tasks\n",
    "In the project they suggest us to use **[nltk](https://www.nltk.org/)** which is a famous NLP library. I will instead use another package which has also became very famous recently: **[spacy](https://spacy.io/)** because I find this package easier to use.  \n",
    "\n",
    "Before going further, you need to ensure that you have spacy package installed with the _'en_core_web_sm'_ downloaded. This can be done with:\n",
    "> ```pip install spacy```  \n",
    "> ```python -m spacy download en_core_web_sm```\n",
    "\n",
    "First step is to load the downloaded module. I have obviously chosen one in english and a small one (note the trailing _'sm'_ in the _'en_core_web_sm'_ name). There are larger but spacy recommends us to always start with small and go to larger only if needed.  \n",
    "**Note:** because I will not use it, it is a good option to provide a list of submodules that we do not want spacy to load so that the operation is faster. Please refer to this [spacy documentation about pipeline](https://spacy.io/usage/processing-pipelines) to discover all of them."
   ]
  },
  {
   "cell_type": "code",
   "execution_count": 5,
   "metadata": {},
   "outputs": [],
   "source": [
    "# Dependency labels, Name Entity Recognition and Text Categorization are not need for our specific usage\n",
    "nlp = spacy.load('en_core_web_sm', disable=['parser', 'ner', 'textcat'])"
   ]
  },
  {
   "cell_type": "markdown",
   "metadata": {},
   "source": [
    "For the text transformation, there are easy tricks such as putting everything in lower case, remove digits and stop words, etc. Then we have the [choice between Stemming or Lemmatization](https://www.datacamp.com/community/tutorials/stemming-lemmatization-python):  \n",
    "_\"Stemming and Lemmatization helps us to achieve the root forms (sometimes called synonyms in search context) of inflected (derived) words.\"_  \n",
    "* \"Stemming is different to Lemmatization in the approach it uses to produce root forms of words and the word produced. Stemming a word or sentence may result in words that are not actual words. Stems are created by removing the suffixes or prefixes used with a word.\"\n",
    "* \"Lemmatization, unlike Stemming, reduces the inflected words properly ensuring that the root word belongs to the language. In Lemmatization root word is called Lemma. A lemma is the canonical form, dictionary form, or citation form of a set of words.\"\n",
    "\n",
    "I will **go for Lemmatization** and for that I will just use the spacy NLP module that has been loaded and remove punctuation, whitespaces, stop words, digits, url and emails."
   ]
  },
  {
   "cell_type": "code",
   "execution_count": 6,
   "metadata": {},
   "outputs": [],
   "source": [
    "def lemmatize_txt(x):\n",
    "    \"\"\"\n",
    "    Lemmatize text from a string.\n",
    "    :param x: (string) the text we want to lemmatize\n",
    "    :return: (string) string containing the lemmatized text.\n",
    "    \"\"\"\n",
    "    doc = nlp.tokenizer(x.lower())\n",
    "    lemma_txt = [token.lemma_ for token in doc if not \n",
    "              token.is_punct |\n",
    "              token.is_space |\n",
    "              token.is_stop |\n",
    "              token.is_digit |\n",
    "              token.is_quote |\n",
    "              token.is_bracket |\n",
    "              token.is_currency |\n",
    "              token.like_url |\n",
    "              token.like_email ]\n",
    "    lemma_txt = ' '.join(lemma_txt)\n",
    "    return lemma_txt"
   ]
  },
  {
   "cell_type": "markdown",
   "metadata": {},
   "source": [
    "#### Trying it!"
   ]
  },
  {
   "cell_type": "code",
   "execution_count": 7,
   "metadata": {},
   "outputs": [
    {
     "name": "stdout",
     "output_type": "stream",
     "text": [
      "Verbs: ['start', 'work', 'drive', 'take', 'can', 'tell', 'would', 'shake', 'turn', 'be', 'talk', 'say']\n"
     ]
    }
   ],
   "source": [
    "# Process whole documents\n",
    "text = (\"When Sebastian Thrun started working on self-driving cars at \"\n",
    "        \"Google in 2007, few people outside of the company took him \"\n",
    "        \"seriously. “I can tell you very senior CEOs of major American \"\n",
    "        \"car companies would shake my hand and turn away because I wasn’t \"\n",
    "        \"worth talking to,” said Thrun, in an interview with Recode earlier \"\n",
    "        \"this week.\")\n",
    "doc = nlp(text)\n",
    "\n",
    "# Analyze syntax\n",
    "print(\"Verbs:\", [token.lemma_ for token in doc if token.pos_ == \"VERB\"])"
   ]
  },
  {
   "cell_type": "code",
   "execution_count": 8,
   "metadata": {},
   "outputs": [
    {
     "data": {
      "text/plain": [
       "'sebastian thrun start work self drive car google people outside company take seriously tell senior ceos major american car company shake hand turn away not worth talk say thrun interview recode early week'"
      ]
     },
     "execution_count": 8,
     "metadata": {},
     "output_type": "execute_result"
    }
   ],
   "source": [
    "lemmatize_txt(text)"
   ]
  },
  {
   "cell_type": "markdown",
   "metadata": {},
   "source": [
    "---\n",
    "## 3. Build pipelines models\n",
    "### 3.1. Models to try\n",
    "Next phase is to build some different pipelines, one for each model that I will try:\n",
    "* [Logistic Regression](https://scikit-learn.org/stable/modules/generated/sklearn.linear_model.LogisticRegression.html), simple and basic model when dealing with classification\n",
    "* [RandomForest](https://scikit-learn.org/stable/modules/generated/sklearn.ensemble.RandomForestClassifier.html), a tree based algorithm that I wand to try because it is an ensemble model but easier and faster to use than [GradientBoostingTree](https://scikit-learn.org/stable/modules/generated/sklearn.ensemble.GradientBoostingClassifier.html) or even [XGBoost](https://xgboost.readthedocs.io/en/latest/) that can both take some huge computation time.\n",
    "\n",
    "### 3.2. How to perform multiple class classification?\n",
    "* As per scikit-learn documentation, for Logistic Regression: _\"In the multiclass case, the training algorithm uses the one-vs-rest (OvR) scheme\"_. So the Logistic Regression classifier will be wrapped by a [OneVsRestClassifier](https://scikit-learn.org/stable/modules/generated/sklearn.multiclass.OneVsRestClassifier.html) which consists in _\"fitting one classifier per class. For each classifier, the class is fitted against all the other classes\"_.\n",
    "* For the RandomForest we can wrapper it within a [MultiOutputClassifier](https://scikit-learn.org/stable/modules/generated/sklearn.multioutput.MultiOutputClassifier.html) which can be used to _\"extend classifiers that do not natively support multi-target classification\"_.\n",
    "\n",
    "There is a sample of the usage of MultiOutputClassifier with RandomForestClassifier on [scikit-learn documentation about multiclass](https://scikit-learn.org/stable/modules/multiclass.html).\n",
    "\n",
    "### 3.3. For the pipeline, use _FeatureUnion_ or  _ColumnTransformer_ ?\n",
    "Based on this [reading](https://stackoverflow.com/questions/55604249/featureunion-vs-columntransformer) I have decided to go for [FeatureUnion](https://scikit-learn.org/stable/modules/generated/sklearn.pipeline.FeatureUnion.html) usage because it is said that:  \n",
    "_\"FeatureUnion applies different transformers to the whole of the input data and then combines the results by concatenating them.  \n",
    "ColumnTransformer, on the other hand, applies different transformers to different subsets of the whole input data, and again concatenates the results.\"_\n",
    "\n",
    "In our case, there is only one feature which is the original text message on which we want to apply several transformations.\n",
    "\n",
    "#### 3.3.1. TF-IDF\n",
    "Let's start with a very common feature engineering in NLP: TF-IDF vectorization. This will allow us to give more weight to important words (based on their frequency in a text and the number of documents/texts they appear in). The parameters are the ones from the sklearn [TfidfVectorizer](https://scikit-learn.org/stable/modules/generated/sklearn.feature_extraction.text.TfidfVectorizer.html), they are all eligible to tuning through GridSearch but for the first run let's put some arbitrary values:\n",
    "* max_df: 0.5 to ignore terms that have a document frequency strictly higher than this threshold (50%)\n",
    "* max_features: 5000 seems to be a pretty good choice to start with. It will help us to build a vocabulary that only consider the top 5000 ordered by term frequency across the corpus.\n",
    "* ngram_range: here we specify that we also want to consider bi-grams\n",
    "* binary: if set to True we force all non-zero term counts to be set to 1 (even if they appear more than that)\n",
    "* norm: no regularization for the moment (default is 'l2')\n",
    "* use_idf: do we have to use the Inverse Document Frequency reweighting? (default is True)\n",
    "\n",
    "#### 3.3.2. Logistic Regression with OneVsRest pipeline\n",
    "As per sklearn documentation, solver to use is liblinear which \"is limited to one-versus-rest schemes\"."
   ]
  },
  {
   "cell_type": "code",
   "execution_count": 144,
   "metadata": {},
   "outputs": [],
   "source": [
    "pipeline_lr = Pipeline([\n",
    "            (\"features\", FeatureUnion([\n",
    "                (\"text\", TfidfVectorizer(tokenizer=lemmatize_txt, max_df=0.5, \n",
    "                                 max_features=5000, ngram_range=(1, 2),\n",
    "                                 binary=False, norm=None, \n",
    "                                 use_idf=True))\n",
    "            ])),    \n",
    "            (\"clf\", OneVsRestClassifier(LogisticRegression(solver='liblinear')))\n",
    "            ])"
   ]
  },
  {
   "cell_type": "markdown",
   "metadata": {},
   "source": [
    "#### 3.3.3. RandomForest with MultiOutputClassifier pipeline\n",
    "Here the RandomForest classifier has few parameters set and no tuning made:\n",
    "* random state to ensure reproducibility\n",
    "* an arbitrary number of estimators\n",
    "* max_depth also to limit the tree size and computation time"
   ]
  },
  {
   "cell_type": "code",
   "execution_count": 145,
   "metadata": {},
   "outputs": [],
   "source": [
    "pipeline_rf = Pipeline([\n",
    "            (\"features\", FeatureUnion([\n",
    "                (\"text\", TfidfVectorizer(tokenizer=lemmatize_txt, max_df=0.5, \n",
    "                                 max_features=5000, ngram_range=(1, 2),\n",
    "                                 binary=False, norm=None, \n",
    "                                 use_idf=True))\n",
    "            ])),    \n",
    "            (\"clf\", MultiOutputClassifier(RandomForestClassifier(random_state=42, max_depth=8,\n",
    "                                                                 n_estimators=300)))\n",
    "            ])"
   ]
  },
  {
   "cell_type": "markdown",
   "metadata": {},
   "source": [
    "---\n",
    "## 4. Split into train/test and build models pipelines"
   ]
  },
  {
   "cell_type": "code",
   "execution_count": 7,
   "metadata": {},
   "outputs": [],
   "source": [
    "x_train_val, x_test, y_train_val, y_test = train_test_split(X, Y, test_size=0.2, random_state=42)"
   ]
  },
  {
   "cell_type": "markdown",
   "metadata": {},
   "source": [
    "### 4.1. Logistic regression"
   ]
  },
  {
   "cell_type": "code",
   "execution_count": 147,
   "metadata": {
    "scrolled": false
   },
   "outputs": [
    {
     "name": "stderr",
     "output_type": "stream",
     "text": [
      "C:\\Users\\David\\AppData\\Local\\Continuum\\miniconda3\\envs\\udadsnd-p5\\lib\\site-packages\\sklearn\\svm\\base.py:922: ConvergenceWarning: Liblinear failed to converge, increase the number of iterations.\n",
      "  \"the number of iterations.\", ConvergenceWarning)\n"
     ]
    },
    {
     "name": "stdout",
     "output_type": "stream",
     "text": [
      "Wall time: 1min 55s\n"
     ]
    },
    {
     "data": {
      "text/plain": [
       "Pipeline(memory=None,\n",
       "     steps=[('features', FeatureUnion(n_jobs=None,\n",
       "       transformer_list=[('text', TfidfVectorizer(analyzer='word', binary=False, decode_error='strict',\n",
       "        dtype=<class 'numpy.float64'>, encoding='utf-8', input='content',\n",
       "        lowercase=True, max_df=0.5, max_features=5000, min_df=1,\n",
       "        ngr...ne, solver='liblinear',\n",
       "          tol=0.0001, verbose=0, warm_start=False),\n",
       "          n_jobs=None))])"
      ]
     },
     "execution_count": 147,
     "metadata": {},
     "output_type": "execute_result"
    }
   ],
   "source": [
    "%%time\n",
    "pipeline_lr.fit(x_train_val, y_train_val)"
   ]
  },
  {
   "cell_type": "markdown",
   "metadata": {},
   "source": [
    "### 4.2. Random Forest"
   ]
  },
  {
   "cell_type": "code",
   "execution_count": 148,
   "metadata": {
    "scrolled": false
   },
   "outputs": [
    {
     "name": "stdout",
     "output_type": "stream",
     "text": [
      "Wall time: 1min 37s\n"
     ]
    },
    {
     "data": {
      "text/plain": [
       "Pipeline(memory=None,\n",
       "     steps=[('features', FeatureUnion(n_jobs=None,\n",
       "       transformer_list=[('text', TfidfVectorizer(analyzer='word', binary=False, decode_error='strict',\n",
       "        dtype=<class 'numpy.float64'>, encoding='utf-8', input='content',\n",
       "        lowercase=True, max_df=0.5, max_features=5000, min_df=1,\n",
       "        ngr...           oob_score=False, random_state=42, verbose=0, warm_start=False),\n",
       "           n_jobs=None))])"
      ]
     },
     "execution_count": 148,
     "metadata": {},
     "output_type": "execute_result"
    }
   ],
   "source": [
    "%%time\n",
    "pipeline_rf.fit(x_train_val, y_train_val)"
   ]
  },
  {
   "cell_type": "markdown",
   "metadata": {},
   "source": [
    "--- \n",
    "## 5. Models evaluation\n",
    "How can we evaluate? As explained in this [towardsdatascience post](https://towardsdatascience.com/journey-to-the-center-of-multi-label-classification-384c40229bff) we have to average our results made for all categories and for that there are 2 options: the micro-averaging way or the macro-averaging one.  \n",
    "Read this post for further information if needed, I will go for the micro way as \"it is a useful measure when your dataset varies in size\" (and remember that our classes/targets are imbalanced).  \n",
    "Another interesting source about the difference and what to choose is available [here](https://datascience.stackexchange.com/questions/15989/micro-average-vs-macro-average-performance-in-a-multiclass-classification-settin) where it is written that **_\"In a multi-class classification setup, micro-average is preferable if you suspect there might be class imbalance (i.e you may have many more examples of one class than of other classes).\"_**."
   ]
  },
  {
   "cell_type": "code",
   "execution_count": 8,
   "metadata": {},
   "outputs": [],
   "source": [
    "def evaluate_model_perf(model_name, pipeline, x_test, y_test):\n",
    "    \"\"\"\n",
    "    Evaluate model performance by predicting on test dataset and then printing performance metrics\n",
    "    :param model_name: (string) name of the model, just for display purpose\n",
    "    :pipeline: (object) the sklearn classifier pipeline to use for inference\n",
    "    :x_test: (pandas DataFrame) features of the test subset used to evaluate\n",
    "    :y_test: (pandas DataFrame) ground truth targets for the test subset used to evaluate\n",
    "    \"\"\"\n",
    "    y_pred = pipeline.predict(x_test)\n",
    "    \n",
    "    p = precision_score(y_test, y_pred, average=\"micro\")\n",
    "    r = recall_score(y_test, y_pred, average=\"micro\")\n",
    "    f1 = f1_score(y_test, y_pred, average=\"micro\")\n",
    "    wp = precision_score(y_test, y_pred, average=\"weighted\")\n",
    "    wr = recall_score(y_test, y_pred, average=\"weighted\")\n",
    "    wf1 = f1_score(y_test, y_pred, average=\"weighted\")\n",
    "    \n",
    "    print(\"Model {} -- MICRO metrics -- Precision: {:.4f}, Recall: {:.4f}, F1-Score: {:.4f}\".format(model_name, p, r, f1))\n",
    "    print(\"Model {} -- WEIGHTED metrics -- Precision: {:.4f}, Recall: {:.4f}, F1-Score: {:.4f}\".format(model_name, wp, wr, wf1))\n",
    "    \n",
    "    # Build a df with results, class per class\n",
    "    records = []\n",
    "    records.append(('GLOBAL', f1))\n",
    "    for i, col in enumerate(y_test.columns):\n",
    "        records.append((col, f1_score(y_test[col], y_pred.T[i])))\n",
    "    \n",
    "    df = pd.DataFrame.from_records(records, columns=['class', 'F1-Score {}'.format(model_name)])\n",
    "    df.set_index('class')\n",
    "    return y_pred, df"
   ]
  },
  {
   "cell_type": "markdown",
   "metadata": {},
   "source": [
    "### 5.1. Results for our first models"
   ]
  },
  {
   "cell_type": "code",
   "execution_count": 149,
   "metadata": {
    "scrolled": false
   },
   "outputs": [
    {
     "name": "stdout",
     "output_type": "stream",
     "text": [
      "Model LogisticReg -- MICRO metrics -- Precision: 0.6726, Recall: 0.5169, F1-Score: 0.5845\n",
      "Model LogisticReg -- WEIGHTED metrics -- Precision: 0.6228, Recall: 0.5169, F1-Score: 0.5535\n"
     ]
    },
    {
     "name": "stderr",
     "output_type": "stream",
     "text": [
      "C:\\Users\\David\\AppData\\Local\\Continuum\\miniconda3\\envs\\udadsnd-p5\\lib\\site-packages\\sklearn\\metrics\\classification.py:1143: UndefinedMetricWarning: Precision is ill-defined and being set to 0.0 in labels with no predicted samples.\n",
      "  'precision', 'predicted', average, warn_for)\n",
      "C:\\Users\\David\\AppData\\Local\\Continuum\\miniconda3\\envs\\udadsnd-p5\\lib\\site-packages\\sklearn\\metrics\\classification.py:1143: UndefinedMetricWarning: F-score is ill-defined and being set to 0.0 in labels with no predicted samples.\n",
      "  'precision', 'predicted', average, warn_for)\n"
     ]
    },
    {
     "name": "stdout",
     "output_type": "stream",
     "text": [
      "Model RandomForest -- MICRO metrics -- Precision: 0.7683, Recall: 0.3281, F1-Score: 0.4599\n",
      "Model RandomForest -- WEIGHTED metrics -- Precision: 0.6506, Recall: 0.3281, F1-Score: 0.3327\n"
     ]
    },
    {
     "name": "stderr",
     "output_type": "stream",
     "text": [
      "C:\\Users\\David\\AppData\\Local\\Continuum\\miniconda3\\envs\\udadsnd-p5\\lib\\site-packages\\sklearn\\metrics\\classification.py:1143: UndefinedMetricWarning: F-score is ill-defined and being set to 0.0 due to no predicted samples.\n",
      "  'precision', 'predicted', average, warn_for)\n"
     ]
    }
   ],
   "source": [
    "y_pred_lr, df_lr = evaluate_model_perf('LogisticReg', pipeline_lr, x_test, y_test)\n",
    "y_pred_rf, df_rf = evaluate_model_perf('RandomForest', pipeline_rf, x_test, y_test)"
   ]
  },
  {
   "cell_type": "code",
   "execution_count": 153,
   "metadata": {},
   "outputs": [
    {
     "data": {
      "text/html": [
       "<div>\n",
       "<style scoped>\n",
       "    .dataframe tbody tr th:only-of-type {\n",
       "        vertical-align: middle;\n",
       "    }\n",
       "\n",
       "    .dataframe tbody tr th {\n",
       "        vertical-align: top;\n",
       "    }\n",
       "\n",
       "    .dataframe thead th {\n",
       "        text-align: right;\n",
       "    }\n",
       "</style>\n",
       "<table border=\"1\" class=\"dataframe\">\n",
       "  <thead>\n",
       "    <tr style=\"text-align: right;\">\n",
       "      <th></th>\n",
       "      <th>F1-Score LogisticReg</th>\n",
       "    </tr>\n",
       "    <tr>\n",
       "      <th>class</th>\n",
       "      <th></th>\n",
       "    </tr>\n",
       "  </thead>\n",
       "  <tbody>\n",
       "    <tr>\n",
       "      <td>GLOBAL</td>\n",
       "      <td>0.584541</td>\n",
       "    </tr>\n",
       "    <tr>\n",
       "      <td>related</td>\n",
       "      <td>0.862293</td>\n",
       "    </tr>\n",
       "    <tr>\n",
       "      <td>request</td>\n",
       "      <td>0.519973</td>\n",
       "    </tr>\n",
       "    <tr>\n",
       "      <td>offer</td>\n",
       "      <td>0.034483</td>\n",
       "    </tr>\n",
       "    <tr>\n",
       "      <td>aid_related</td>\n",
       "      <td>0.624843</td>\n",
       "    </tr>\n",
       "    <tr>\n",
       "      <td>medical_help</td>\n",
       "      <td>0.311111</td>\n",
       "    </tr>\n",
       "    <tr>\n",
       "      <td>medical_products</td>\n",
       "      <td>0.325123</td>\n",
       "    </tr>\n",
       "    <tr>\n",
       "      <td>search_and_rescue</td>\n",
       "      <td>0.220000</td>\n",
       "    </tr>\n",
       "    <tr>\n",
       "      <td>security</td>\n",
       "      <td>0.017699</td>\n",
       "    </tr>\n",
       "    <tr>\n",
       "      <td>military</td>\n",
       "      <td>0.248996</td>\n",
       "    </tr>\n",
       "    <tr>\n",
       "      <td>water</td>\n",
       "      <td>0.519164</td>\n",
       "    </tr>\n",
       "    <tr>\n",
       "      <td>food</td>\n",
       "      <td>0.623106</td>\n",
       "    </tr>\n",
       "    <tr>\n",
       "      <td>shelter</td>\n",
       "      <td>0.455959</td>\n",
       "    </tr>\n",
       "    <tr>\n",
       "      <td>clothing</td>\n",
       "      <td>0.344828</td>\n",
       "    </tr>\n",
       "    <tr>\n",
       "      <td>money</td>\n",
       "      <td>0.285714</td>\n",
       "    </tr>\n",
       "    <tr>\n",
       "      <td>missing_people</td>\n",
       "      <td>0.043478</td>\n",
       "    </tr>\n",
       "    <tr>\n",
       "      <td>refugees</td>\n",
       "      <td>0.240000</td>\n",
       "    </tr>\n",
       "    <tr>\n",
       "      <td>death</td>\n",
       "      <td>0.308483</td>\n",
       "    </tr>\n",
       "    <tr>\n",
       "      <td>other_aid</td>\n",
       "      <td>0.184946</td>\n",
       "    </tr>\n",
       "    <tr>\n",
       "      <td>infrastructure_related</td>\n",
       "      <td>0.147186</td>\n",
       "    </tr>\n",
       "    <tr>\n",
       "      <td>transport</td>\n",
       "      <td>0.173653</td>\n",
       "    </tr>\n",
       "    <tr>\n",
       "      <td>buildings</td>\n",
       "      <td>0.364964</td>\n",
       "    </tr>\n",
       "    <tr>\n",
       "      <td>electricity</td>\n",
       "      <td>0.309392</td>\n",
       "    </tr>\n",
       "    <tr>\n",
       "      <td>tools</td>\n",
       "      <td>0.066667</td>\n",
       "    </tr>\n",
       "    <tr>\n",
       "      <td>hospitals</td>\n",
       "      <td>0.112360</td>\n",
       "    </tr>\n",
       "    <tr>\n",
       "      <td>shops</td>\n",
       "      <td>0.000000</td>\n",
       "    </tr>\n",
       "    <tr>\n",
       "      <td>aid_centers</td>\n",
       "      <td>0.056075</td>\n",
       "    </tr>\n",
       "    <tr>\n",
       "      <td>other_infrastructure</td>\n",
       "      <td>0.091873</td>\n",
       "    </tr>\n",
       "    <tr>\n",
       "      <td>weather_related</td>\n",
       "      <td>0.651236</td>\n",
       "    </tr>\n",
       "    <tr>\n",
       "      <td>floods</td>\n",
       "      <td>0.568182</td>\n",
       "    </tr>\n",
       "    <tr>\n",
       "      <td>storm</td>\n",
       "      <td>0.465786</td>\n",
       "    </tr>\n",
       "    <tr>\n",
       "      <td>fire</td>\n",
       "      <td>0.217391</td>\n",
       "    </tr>\n",
       "    <tr>\n",
       "      <td>earthquake</td>\n",
       "      <td>0.762322</td>\n",
       "    </tr>\n",
       "    <tr>\n",
       "      <td>cold</td>\n",
       "      <td>0.316940</td>\n",
       "    </tr>\n",
       "    <tr>\n",
       "      <td>other_weather</td>\n",
       "      <td>0.138298</td>\n",
       "    </tr>\n",
       "    <tr>\n",
       "      <td>direct_report</td>\n",
       "      <td>0.435214</td>\n",
       "    </tr>\n",
       "  </tbody>\n",
       "</table>\n",
       "</div>"
      ],
      "text/plain": [
       "                        F1-Score LogisticReg\n",
       "class                                       \n",
       "GLOBAL                              0.584541\n",
       "related                             0.862293\n",
       "request                             0.519973\n",
       "offer                               0.034483\n",
       "aid_related                         0.624843\n",
       "medical_help                        0.311111\n",
       "medical_products                    0.325123\n",
       "search_and_rescue                   0.220000\n",
       "security                            0.017699\n",
       "military                            0.248996\n",
       "water                               0.519164\n",
       "food                                0.623106\n",
       "shelter                             0.455959\n",
       "clothing                            0.344828\n",
       "money                               0.285714\n",
       "missing_people                      0.043478\n",
       "refugees                            0.240000\n",
       "death                               0.308483\n",
       "other_aid                           0.184946\n",
       "infrastructure_related              0.147186\n",
       "transport                           0.173653\n",
       "buildings                           0.364964\n",
       "electricity                         0.309392\n",
       "tools                               0.066667\n",
       "hospitals                           0.112360\n",
       "shops                               0.000000\n",
       "aid_centers                         0.056075\n",
       "other_infrastructure                0.091873\n",
       "weather_related                     0.651236\n",
       "floods                              0.568182\n",
       "storm                               0.465786\n",
       "fire                                0.217391\n",
       "earthquake                          0.762322\n",
       "cold                                0.316940\n",
       "other_weather                       0.138298\n",
       "direct_report                       0.435214"
      ]
     },
     "execution_count": 153,
     "metadata": {},
     "output_type": "execute_result"
    }
   ],
   "source": [
    "df_lr"
   ]
  },
  {
   "cell_type": "markdown",
   "metadata": {},
   "source": [
    "---\n",
    "### 5.2. Let's have a better understanding of micro, macro and weighted average\n",
    "Let's try to analyze for one class, the first one."
   ]
  },
  {
   "cell_type": "code",
   "execution_count": 156,
   "metadata": {},
   "outputs": [
    {
     "name": "stdout",
     "output_type": "stream",
     "text": [
      "              precision    recall  f1-score   support\n",
      "\n",
      "           0       0.59      0.39      0.47      1306\n",
      "           1       0.82      0.91      0.86      3938\n",
      "\n",
      "   micro avg       0.78      0.78      0.78      5244\n",
      "   macro avg       0.71      0.65      0.67      5244\n",
      "weighted avg       0.76      0.78      0.76      5244\n",
      "\n"
     ]
    }
   ],
   "source": [
    "print(classification_report(y_test['related'], y_pred_lr.T[0]))"
   ]
  },
  {
   "cell_type": "code",
   "execution_count": 155,
   "metadata": {},
   "outputs": [
    {
     "data": {
      "text/plain": [
       "array([[ 510,  796],\n",
       "       [ 350, 3588]], dtype=int64)"
      ]
     },
     "execution_count": 155,
     "metadata": {},
     "output_type": "execute_result"
    }
   ],
   "source": [
    "# We will need the confusion matrix to see how many elements were classified as positive in this category\n",
    "confusion_matrix(y_test['related'], y_pred_lr.T[0])"
   ]
  },
  {
   "cell_type": "markdown",
   "metadata": {},
   "source": [
    "Line 1 is when truth is 0 whereas column 1 is when prediction is 0. So we have here:\n",
    "* 510 True Negative (TN) (truth is O and prediction is 0 as well)\n",
    "* 3588 True Positive (TP) (same for the 1)\n",
    "* 796 False Positive (FP) (we say it is positive whereas actually it is not)\n",
    "* 350 False Negative (FN) (we say it is negative and actually it is positive)\n",
    "\n",
    "Precision formula is : TP/(TP + FP) and Recall one is TP/(TP + FN)"
   ]
  },
  {
   "cell_type": "code",
   "execution_count": 157,
   "metadata": {},
   "outputs": [
    {
     "name": "stdout",
     "output_type": "stream",
     "text": [
      "Precision for Positive is 0.82, Recall is 0.91\n",
      "Precision for Negative is 0.59, Recall is 0.39\n"
     ]
    }
   ],
   "source": [
    "print(\"Precision for Positive is {:.2f}, Recall is {:.2f}\".format(3588/(3588+796), 3588/(3588+350)))\n",
    "print(\"Precision for Negative is {:.2f}, Recall is {:.2f}\".format(510/(510+350), 510/(510+796)))"
   ]
  },
  {
   "cell_type": "markdown",
   "metadata": {},
   "source": [
    "There are 1306 samples that should be classified as Negative and 3938 as Positive (cf. 'support' column).  \n",
    "The macro average is a classic mean of both Precision for Positive and Precision for Negative.  \n",
    "The weighted one takes into account the ratio 1306/(1306+3938) which is around 25%.\n",
    "The micro one is still a mystery..."
   ]
  },
  {
   "cell_type": "code",
   "execution_count": 158,
   "metadata": {},
   "outputs": [
    {
     "name": "stdout",
     "output_type": "stream",
     "text": [
      "Precision macro is 0.705, Precision weighted is 0.763\n"
     ]
    }
   ],
   "source": [
    "print(\"Precision macro is {}, Precision weighted is {:.3f}\".format((0.59+0.82)/2, (1306*0.59+3938*0.82)/(1306+3938)))"
   ]
  },
  {
   "cell_type": "markdown",
   "metadata": {},
   "source": [
    "For micro averaging it is a little bit tricky but the goal is to sum all true positives and divide by the sum of all true positives plus the sum of all false positives:"
   ]
  },
  {
   "cell_type": "code",
   "execution_count": 159,
   "metadata": {},
   "outputs": [
    {
     "name": "stdout",
     "output_type": "stream",
     "text": [
      "Micro averaged precision is 0.78\n"
     ]
    }
   ],
   "source": [
    "print(\"Micro averaged precision is {:.2f}\".format((3588+510)/(1306+3938)))"
   ]
  },
  {
   "cell_type": "markdown",
   "metadata": {},
   "source": [
    "It will be the same value for recall as we will still have the same amount of True Positive (3597+510) and now we take the False Negative. But, as very well explained in this [great post](https://towardsdatascience.com/multi-class-metrics-made-simple-part-ii-the-f1-score-ebe8b2c2ca1) with pictures, _\"each prediction error (X is misclassified as Y) is a False Positive for Y, and a False Negative for X. Thus, the total number of False Negatives is again the total number of prediction errors\"_\n",
    "\n",
    "When looking at a specific class in a multilabel classification, taking micro average metric for a specific class has no sense but on the overall this is a much better metric than the macro one that will just perform a mean operation over all precision, recall and F1 metrics. The weighted average is also a good option as it is taking into account the number of samples, that's why **I am looking at both of them, micro and weighted**.\n",
    "\n",
    "***Observations about the first results:***\n",
    "* The **Logistic Regression has a best F1-Score than the Random Forest (so far)** (0.58 vs. 0.46).\n",
    "* When using the `weighted` average method (instead of `micro`) then the result is even lower for both of them.\n",
    "* There are classes with a F1-Score very low, near 0 (for instance `offer` or `security`)\n",
    "\n",
    "Let's print the full classification report so that we will also have access to the number of samples for each class:"
   ]
  },
  {
   "cell_type": "code",
   "execution_count": 160,
   "metadata": {},
   "outputs": [
    {
     "name": "stderr",
     "output_type": "stream",
     "text": [
      "C:\\Users\\David\\AppData\\Local\\Continuum\\miniconda3\\envs\\udadsnd-p5\\lib\\site-packages\\sklearn\\metrics\\classification.py:1143: UndefinedMetricWarning: Precision and F-score are ill-defined and being set to 0.0 in samples with no predicted labels.\n",
      "  'precision', 'predicted', average, warn_for)\n",
      "C:\\Users\\David\\AppData\\Local\\Continuum\\miniconda3\\envs\\udadsnd-p5\\lib\\site-packages\\sklearn\\metrics\\classification.py:1145: UndefinedMetricWarning: Recall and F-score are ill-defined and being set to 0.0 in samples with no true labels.\n",
      "  'recall', 'true', average, warn_for)\n"
     ]
    },
    {
     "name": "stdout",
     "output_type": "stream",
     "text": [
      "              precision    recall  f1-score   support\n",
      "\n",
      "           0       0.82      0.91      0.86      3938\n",
      "           1       0.66      0.43      0.52       895\n",
      "           2       0.03      0.04      0.03        26\n",
      "           3       0.67      0.58      0.62      2131\n",
      "           4       0.47      0.23      0.31       422\n",
      "           5       0.49      0.24      0.33       270\n",
      "           6       0.30      0.17      0.22       127\n",
      "           7       0.04      0.01      0.02        88\n",
      "           8       0.33      0.20      0.25       155\n",
      "           9       0.63      0.44      0.52       339\n",
      "          10       0.71      0.55      0.62       595\n",
      "          11       0.58      0.37      0.46       470\n",
      "          12       0.47      0.27      0.34        73\n",
      "          13       0.33      0.25      0.29       104\n",
      "          14       0.06      0.03      0.04        60\n",
      "          15       0.32      0.19      0.24       171\n",
      "          16       0.39      0.25      0.31       237\n",
      "          17       0.37      0.12      0.18       695\n",
      "          18       0.25      0.10      0.15       328\n",
      "          19       0.31      0.12      0.17       240\n",
      "          20       0.52      0.28      0.36       267\n",
      "          21       0.47      0.23      0.31       122\n",
      "          22       0.07      0.06      0.07        32\n",
      "          23       0.12      0.11      0.11        46\n",
      "          24       0.00      0.00      0.00        22\n",
      "          25       0.07      0.04      0.06        67\n",
      "          26       0.22      0.06      0.09       223\n",
      "          27       0.75      0.58      0.65      1438\n",
      "          28       0.68      0.49      0.57       411\n",
      "          29       0.56      0.40      0.47       486\n",
      "          30       0.26      0.19      0.22        53\n",
      "          31       0.80      0.73      0.76       478\n",
      "          32       0.44      0.25      0.32       117\n",
      "          33       0.26      0.09      0.14       276\n",
      "          34       0.59      0.34      0.44      1021\n",
      "\n",
      "   micro avg       0.67      0.52      0.58     16423\n",
      "   macro avg       0.40      0.27      0.32     16423\n",
      "weighted avg       0.62      0.52      0.55     16423\n",
      " samples avg       0.57      0.45      0.45     16423\n",
      "\n"
     ]
    }
   ],
   "source": [
    "print(classification_report(y_test, y_pred_lr))"
   ]
  },
  {
   "cell_type": "markdown",
   "metadata": {},
   "source": [
    "### 5.3. Specific error analysis for categories `offer` and `security`"
   ]
  },
  {
   "cell_type": "code",
   "execution_count": 161,
   "metadata": {},
   "outputs": [
    {
     "name": "stdout",
     "output_type": "stream",
     "text": [
      "              precision    recall  f1-score   support\n",
      "\n",
      "           0       1.00      0.99      0.99      5218\n",
      "           1       0.03      0.04      0.03        26\n",
      "\n",
      "   micro avg       0.99      0.99      0.99      5244\n",
      "   macro avg       0.51      0.52      0.51      5244\n",
      "weighted avg       0.99      0.99      0.99      5244\n",
      "\n"
     ]
    }
   ],
   "source": [
    "print(classification_report(y_test['offer'], y_pred_lr.T[2]))"
   ]
  },
  {
   "cell_type": "code",
   "execution_count": 162,
   "metadata": {},
   "outputs": [
    {
     "name": "stdout",
     "output_type": "stream",
     "text": [
      "              precision    recall  f1-score   support\n",
      "\n",
      "           0       0.98      1.00      0.99      5156\n",
      "           1       0.04      0.01      0.02        88\n",
      "\n",
      "   micro avg       0.98      0.98      0.98      5244\n",
      "   macro avg       0.51      0.50      0.50      5244\n",
      "weighted avg       0.97      0.98      0.97      5244\n",
      "\n"
     ]
    }
   ],
   "source": [
    "print(classification_report(y_test['security'], y_pred_lr.T[7]))"
   ]
  },
  {
   "cell_type": "code",
   "execution_count": 163,
   "metadata": {},
   "outputs": [
    {
     "data": {
      "text/plain": [
       "array([[5187,   31],\n",
       "       [  25,    1]], dtype=int64)"
      ]
     },
     "execution_count": 163,
     "metadata": {},
     "output_type": "execute_result"
    }
   ],
   "source": [
    "confusion_matrix(y_test['offer'], y_pred_lr.T[2])"
   ]
  },
  {
   "cell_type": "code",
   "execution_count": 164,
   "metadata": {},
   "outputs": [
    {
     "data": {
      "text/plain": [
       "array([[5132,   24],\n",
       "       [  87,    1]], dtype=int64)"
      ]
     },
     "execution_count": 164,
     "metadata": {},
     "output_type": "execute_result"
    }
   ],
   "source": [
    "confusion_matrix(y_test['security'], y_pred_lr.T[7])"
   ]
  },
  {
   "cell_type": "markdown",
   "metadata": {},
   "source": [
    "***Observations:*** there are **too few samples that should be classified as 1 so our model tends to classify them into 0** and is still good when looking at the micro average value. Even the weighted one is good.  \n",
    "Question: how did the model learn for those categories? Let's count how many samples for each of those 2 categories:"
   ]
  },
  {
   "cell_type": "code",
   "execution_count": 165,
   "metadata": {},
   "outputs": [
    {
     "name": "stdout",
     "output_type": "stream",
     "text": [
      "383 samples with class security in training dataset (so 1.83% of the dataset)\n"
     ]
    }
   ],
   "source": [
    "print(\"{} samples with class {} in training dataset (so {:.2f}% of the dataset)\".\n",
    "      format(y_train_val['security'].sum(), 'security', y_train_val['security'].sum()*100/len(y_train_val)))"
   ]
  },
  {
   "cell_type": "code",
   "execution_count": 166,
   "metadata": {},
   "outputs": [
    {
     "name": "stdout",
     "output_type": "stream",
     "text": [
      "92 samples with class security in training dataset (so 0.44% of the dataset)\n"
     ]
    }
   ],
   "source": [
    "print(\"{} samples with class {} in training dataset (so {:.2f}% of the dataset)\".\n",
    "      format(y_train_val['offer'].sum(), 'security', y_train_val['offer'].sum()*100/len(y_train_val)))"
   ]
  },
  {
   "cell_type": "markdown",
   "metadata": {},
   "source": [
    "---\n",
    "## 6. Adding new features to the pipelines\n",
    "Before trying to fine tune those models to improve the metrics, we could try to add some features as the only one we got for the moment is the TF-IDF vectorization. Reading this [post on Kaggle](https://www.kaggle.com/shaz13/feature-engineering-for-nlp-classification), we could add some other informations to see if it helps such as:\n",
    "* number of sentences, words\n",
    "* length of the text, length of sentences\n",
    "* by using the part-of-speech tags (a.k.a POS), count the number of NOUNS, VERBS, ADJECTIVES and so on\n",
    "* ...\n",
    "\n",
    "Okay, once this is said, how do we do that? Thanks to sickit-learn we can build our own Transformers instances and put them in the pipeline.\n",
    "\n",
    "### 6.1. Looking for POS tags with Spacy\n",
    "As per [Spacy documenation on POS tags](https://spacy.io/api/annotation#pos-tagging), we will look after:\n",
    "* adjectives (POS='ADJ')\n",
    "* nouns (POS='NOUN')\n",
    "* verbs (POS='VERB')  \n",
    "Particles, pronouns, determiners, auxiliaries and so on are less relevant and should not bring very useful information."
   ]
  },
  {
   "cell_type": "code",
   "execution_count": 9,
   "metadata": {},
   "outputs": [],
   "source": [
    "def get_pos(text, pos):\n",
    "    doc = nlp(text)\n",
    "    elements = [token for token in doc if token.pos_ == pos]\n",
    "    return elements, len(elements)"
   ]
  },
  {
   "cell_type": "code",
   "execution_count": 355,
   "metadata": {
    "scrolled": true
   },
   "outputs": [
    {
     "name": "stdout",
     "output_type": "stream",
     "text": [
      "* How do beneficiaries (gender/economic status) in varying circumstances (emergency/non-emergency) spend cash?\n",
      "Verbs: ([do, varying, spend], 3)\n",
      "Nouns: ([beneficiaries, gender, status, circumstances, emergency, emergency, cash], 7)\n",
      "Adjectives: ([economic, non], 2)\n"
     ]
    }
   ],
   "source": [
    "text = x_train_val.loc[22944]\n",
    "print(text)\n",
    "print(\"Verbs:\", get_pos(text, \"VERB\"))\n",
    "print(\"Nouns:\", get_pos(text, \"NOUN\"))\n",
    "print(\"Adjectives:\", get_pos(text, \"ADJ\"))"
   ]
  },
  {
   "cell_type": "markdown",
   "metadata": {},
   "source": [
    "### 6.2. Build custom transformers\n",
    "The next section has been developped with the help of this [blog post](https://michelleful.github.io/code-blog/2015/06/20/pipelines/)."
   ]
  },
  {
   "cell_type": "code",
   "execution_count": 10,
   "metadata": {},
   "outputs": [],
   "source": [
    "class WordCountExtractor(BaseEstimator, TransformerMixin):\n",
    "    \"\"\"Takes in dataframe and outputs number of words\"\"\"\n",
    "\n",
    "    def __init__(self):\n",
    "        pass\n",
    "    \n",
    "    def fit(self, x, y=None):\n",
    "        return self\n",
    "\n",
    "    def nb_words(self, text):\n",
    "        return len(text.split())\n",
    "\n",
    "    def transform(self, x):\n",
    "        \"\"\"\n",
    "        Need to encapsulate the result within a DataFrame otherwise an error is thrown (\"ValueError: blocks[0,:] has \n",
    "        incompatible row dimensions. Got blocks[0,1].shape[0] == 1, expected 20972.\")\n",
    "        \"\"\"\n",
    "        return pd.DataFrame(x.apply(self.nb_words))"
   ]
  },
  {
   "cell_type": "code",
   "execution_count": 11,
   "metadata": {},
   "outputs": [],
   "source": [
    "class AverageWordLengthExtractor(BaseEstimator, TransformerMixin):\n",
    "    \"\"\"Takes in dataframe and outputs average word length\"\"\"\n",
    "\n",
    "    def __init__(self):\n",
    "        pass\n",
    "    \n",
    "    def fit(self, x, y=None):\n",
    "        return self\n",
    "\n",
    "    def average_word_length(self, text):\n",
    "        \"\"\"\n",
    "        Sometimes text is empty so need to handle this case\n",
    "        \"\"\"\n",
    "        return np.mean([len(word) for word in text.split()]) if len(text.split()) > 0 else 0\n",
    "\n",
    "    def transform(self, x):\n",
    "        return pd.DataFrame(x.apply(self.average_word_length))"
   ]
  },
  {
   "cell_type": "code",
   "execution_count": 12,
   "metadata": {},
   "outputs": [],
   "source": [
    "def get_sentences(text):\n",
    "    \"\"\"\n",
    "    Homemade function to retrieve all sentences within a given text. I have decided that sentences have \n",
    "    words and several characters and should end by either a '.', a '?' or a '!'\n",
    "    \"\"\"\n",
    "    # Add a trailing dot if the last character is not \".\", \"?\" or \"!\" to ensure we will capture the last sentence\n",
    "    if text.strip()[-1:] not in ['.', '?', '!']:\n",
    "        text = text + '.'\n",
    "    sentence_detection_regex = r\"\\s?[\\w,-;:'()\\\"\\s]+[.?!]\"\n",
    "    sentences = re.findall(sentence_detection_regex, text)\n",
    "    return sentences"
   ]
  },
  {
   "cell_type": "code",
   "execution_count": 13,
   "metadata": {},
   "outputs": [],
   "source": [
    "class SentenceCountExtractor(BaseEstimator, TransformerMixin):\n",
    "    \"\"\"Takes in dataframe and outputs number of sentences\"\"\"\n",
    "\n",
    "    def __init__(self):\n",
    "        pass\n",
    "    \n",
    "    def fit(self, x, y=None):\n",
    "        return self\n",
    "\n",
    "    def nb_sentences(self, text):\n",
    "        return len(get_sentences(text))\n",
    "\n",
    "    def transform(self, x):\n",
    "        return pd.DataFrame(x.apply(self.nb_sentences))"
   ]
  },
  {
   "cell_type": "code",
   "execution_count": 14,
   "metadata": {},
   "outputs": [],
   "source": [
    "class AverageSentenceLengthExtractor(BaseEstimator, TransformerMixin):\n",
    "    \"\"\"Takes in dataframe and outputs average sentence length\"\"\"\n",
    "\n",
    "    def __init__(self):\n",
    "        pass\n",
    "    \n",
    "    def fit(self, x, y=None):\n",
    "        return self\n",
    "\n",
    "    def average_sentence_length(self, text):\n",
    "        return np.mean([len(sentence) for sentence in get_sentences(text)]) if len(get_sentences(text)) > 0 else 0\n",
    "\n",
    "    def transform(self, x):\n",
    "        return pd.DataFrame(x.apply(self.average_sentence_length))"
   ]
  },
  {
   "cell_type": "code",
   "execution_count": 15,
   "metadata": {},
   "outputs": [],
   "source": [
    "def count_pos(doc, pos):\n",
    "    return len([token for token in doc if token.pos_ == pos])"
   ]
  },
  {
   "cell_type": "code",
   "execution_count": 16,
   "metadata": {},
   "outputs": [],
   "source": [
    "class PosCountExtractor(BaseEstimator, TransformerMixin):\n",
    "    \"\"\"Takes in dataframe and outputs number of words tagged as the given part-of-speech (POS)\"\"\"\n",
    "\n",
    "    def __init__(self):\n",
    "        pass\n",
    "    \n",
    "    def fit(self, x, y=None):\n",
    "        return self\n",
    "\n",
    "    def nb_pos(self, text):\n",
    "        \"\"\"\n",
    "        For performance reasons, we load through spacy nlp only once and get all counts we are interested in\n",
    "        \"\"\"\n",
    "        doc = nlp(text)\n",
    "        nb_nouns = count_pos(doc, \"NOUN\")\n",
    "        nb_verbs = count_pos(doc, \"VERB\")\n",
    "        nb_adjectives = count_pos(doc, \"ADJ\")\n",
    "        return nb_nouns, nb_verbs, nb_adjectives\n",
    "\n",
    "    def transform(self, x):\n",
    "        df = pd.DataFrame(x.apply(self.nb_pos))\n",
    "        # At this point all we have is a dataframe with only one column where each value is a tuple (nb_nouns, nb_verbs, nb_adjectives)\n",
    "        # We have to split and transform into 3 columns\n",
    "        df = df.astype(str).message.str[1:-1].str.split(',', expand=True)\n",
    "        # Do not forget to put back all values as numeric ones\n",
    "        return df.astype(int)"
   ]
  },
  {
   "cell_type": "markdown",
   "metadata": {},
   "source": [
    "### 6.3. Putting it all together in a new pipeline\n",
    "#### 6.3.1. Logistic Regression"
   ]
  },
  {
   "cell_type": "code",
   "execution_count": 17,
   "metadata": {},
   "outputs": [],
   "source": [
    "pipeline_lr_v2 = Pipeline([\n",
    "            (\"features\", FeatureUnion([\n",
    "                (\"text\", TfidfVectorizer(tokenizer=lemmatize_txt, max_df=0.5, \n",
    "                                 max_features=5000, ngram_range=(1, 2),\n",
    "                                 binary=False, norm=None, \n",
    "                                 use_idf=True)),\n",
    "                (\"word-count\", WordCountExtractor()),\n",
    "                (\"word-len\", AverageWordLengthExtractor()),\n",
    "                (\"sentence-count\", SentenceCountExtractor()),\n",
    "                (\"sentence-len\", AverageSentenceLengthExtractor()),\n",
    "                (\"verb-count\", PosCountExtractor())\n",
    "            ])),    \n",
    "            (\"clf\", OneVsRestClassifier(LogisticRegression(solver='liblinear')))\n",
    "            ])"
   ]
  },
  {
   "cell_type": "code",
   "execution_count": 18,
   "metadata": {
    "scrolled": false
   },
   "outputs": [
    {
     "name": "stderr",
     "output_type": "stream",
     "text": [
      "C:\\Users\\David\\AppData\\Local\\Continuum\\miniconda3\\envs\\udadsnd-p5\\lib\\site-packages\\sklearn\\svm\\base.py:922: ConvergenceWarning: Liblinear failed to converge, increase the number of iterations.\n",
      "  \"the number of iterations.\", ConvergenceWarning)\n"
     ]
    },
    {
     "name": "stdout",
     "output_type": "stream",
     "text": [
      "Wall time: 6min 44s\n"
     ]
    },
    {
     "data": {
      "text/plain": [
       "Pipeline(memory=None,\n",
       "     steps=[('features', FeatureUnion(n_jobs=None,\n",
       "       transformer_list=[('text', TfidfVectorizer(analyzer='word', binary=False, decode_error='strict',\n",
       "        dtype=<class 'numpy.float64'>, encoding='utf-8', input='content',\n",
       "        lowercase=True, max_df=0.5, max_features=5000, min_df=1,\n",
       "        ngr...ne, solver='liblinear',\n",
       "          tol=0.0001, verbose=0, warm_start=False),\n",
       "          n_jobs=None))])"
      ]
     },
     "execution_count": 18,
     "metadata": {},
     "output_type": "execute_result"
    }
   ],
   "source": [
    "%%time\n",
    "pipeline_lr_v2.fit(x_train_val, y_train_val)"
   ]
  },
  {
   "cell_type": "code",
   "execution_count": 19,
   "metadata": {
    "scrolled": false
   },
   "outputs": [
    {
     "name": "stdout",
     "output_type": "stream",
     "text": [
      "Model LogisticReg -- MICRO metrics -- Precision: 0.6857, Recall: 0.5206, F1-Score: 0.5919\n",
      "Model LogisticReg -- WEIGHTED metrics -- Precision: 0.6360, Recall: 0.5206, F1-Score: 0.5592\n"
     ]
    }
   ],
   "source": [
    "y_pred_lr_v2, _ = evaluate_model_perf('LogisticReg', pipeline_lr_v2, x_test, y_test)"
   ]
  },
  {
   "cell_type": "markdown",
   "metadata": {},
   "source": [
    "***Observations:*** we have made progress on F1-Score metric.  \n",
    "Note that the fit on training dataset took almost 3 times the time it took with just the TF-IDF vectorization. This might be an issue to deal with as it will take ages if we want to run GridSearch Cross Validation (around 15 minutes for each combination).\n",
    "\n",
    "As a reminder, previous results were:"
   ]
  },
  {
   "cell_type": "code",
   "execution_count": 448,
   "metadata": {},
   "outputs": [
    {
     "name": "stdout",
     "output_type": "stream",
     "text": [
      "Model LogisticReg -- MICRO metrics -- Precision: 0.6726, Recall: 0.5169, F1-Score: 0.5845\n",
      "Model LogisticReg -- WEIGHTED metrics -- Precision: 0.6228, Recall: 0.5169, F1-Score: 0.5535\n"
     ]
    }
   ],
   "source": [
    "y_pred_lr, _ = evaluate_model_perf('LogisticReg', pipeline_lr, x_test, y_test)"
   ]
  },
  {
   "cell_type": "markdown",
   "metadata": {},
   "source": [
    "So **we have 2% more on F1-Score and this is mostly due to a big increase on _precision_** (the _recall_ remained more or less the same).\n",
    "\n",
    "#### 6.3.2. Random Forest"
   ]
  },
  {
   "cell_type": "code",
   "execution_count": 449,
   "metadata": {},
   "outputs": [],
   "source": [
    "pipeline_rf_v2 = Pipeline([\n",
    "            (\"features\", FeatureUnion([\n",
    "                (\"text\", TfidfVectorizer(tokenizer=lemmatize_txt, max_df=0.5, \n",
    "                                 max_features=5000, ngram_range=(1, 2),\n",
    "                                 binary=False, norm=None, \n",
    "                                 use_idf=True)),\n",
    "                (\"word-count\", WordCountExtractor()),\n",
    "                (\"word-len\", AverageWordLengthExtractor()),\n",
    "                (\"sentence-count\", SentenceCountExtractor()),\n",
    "                (\"sentence-len\", AverageSentenceLengthExtractor()),\n",
    "                (\"verb-count\", PosCountExtractor())\n",
    "            ])),    \n",
    "            (\"clf\", MultiOutputClassifier(RandomForestClassifier(random_state=42, max_depth=8,\n",
    "                                                                 n_estimators=300)))\n",
    "            ])"
   ]
  },
  {
   "cell_type": "code",
   "execution_count": 450,
   "metadata": {},
   "outputs": [
    {
     "name": "stdout",
     "output_type": "stream",
     "text": [
      "Wall time: 6min 45s\n"
     ]
    },
    {
     "data": {
      "text/plain": [
       "Pipeline(memory=None,\n",
       "     steps=[('features', FeatureUnion(n_jobs=None,\n",
       "       transformer_list=[('text', TfidfVectorizer(analyzer='word', binary=False, decode_error='strict',\n",
       "        dtype=<class 'numpy.float64'>, encoding='utf-8', input='content',\n",
       "        lowercase=True, max_df=0.5, max_features=5000, min_df=1,\n",
       "        ngr...           oob_score=False, random_state=42, verbose=0, warm_start=False),\n",
       "           n_jobs=None))])"
      ]
     },
     "execution_count": 450,
     "metadata": {},
     "output_type": "execute_result"
    }
   ],
   "source": [
    "%%time\n",
    "pipeline_rf_v2.fit(x_train_val, y_train_val)"
   ]
  },
  {
   "cell_type": "code",
   "execution_count": 451,
   "metadata": {},
   "outputs": [
    {
     "name": "stderr",
     "output_type": "stream",
     "text": [
      "C:\\Users\\David\\AppData\\Local\\Continuum\\miniconda3\\envs\\udadsnd-p5\\lib\\site-packages\\sklearn\\metrics\\classification.py:1143: UndefinedMetricWarning: Precision is ill-defined and being set to 0.0 in labels with no predicted samples.\n",
      "  'precision', 'predicted', average, warn_for)\n",
      "C:\\Users\\David\\AppData\\Local\\Continuum\\miniconda3\\envs\\udadsnd-p5\\lib\\site-packages\\sklearn\\metrics\\classification.py:1143: UndefinedMetricWarning: F-score is ill-defined and being set to 0.0 in labels with no predicted samples.\n",
      "  'precision', 'predicted', average, warn_for)\n"
     ]
    },
    {
     "name": "stdout",
     "output_type": "stream",
     "text": [
      "Model RandomForest -- MICRO metrics -- Precision: 0.7656, Recall: 0.3250, F1-Score: 0.4563\n",
      "Model RandomForest -- WEIGHTED metrics -- Precision: 0.6381, Recall: 0.3250, F1-Score: 0.3305\n"
     ]
    },
    {
     "name": "stderr",
     "output_type": "stream",
     "text": [
      "C:\\Users\\David\\AppData\\Local\\Continuum\\miniconda3\\envs\\udadsnd-p5\\lib\\site-packages\\sklearn\\metrics\\classification.py:1143: UndefinedMetricWarning: F-score is ill-defined and being set to 0.0 due to no predicted samples.\n",
      "  'precision', 'predicted', average, warn_for)\n"
     ]
    }
   ],
   "source": [
    "y_pred_rf_v2, df_rf_v2 = evaluate_model_perf('RandomForest', pipeline_rf_v2, x_test, y_test)"
   ]
  },
  {
   "cell_type": "code",
   "execution_count": 452,
   "metadata": {},
   "outputs": [
    {
     "name": "stdout",
     "output_type": "stream",
     "text": [
      "Model RandomForest -- MICRO metrics -- Precision: 0.7683, Recall: 0.3281, F1-Score: 0.4599\n",
      "Model RandomForest -- WEIGHTED metrics -- Precision: 0.6506, Recall: 0.3281, F1-Score: 0.3327\n"
     ]
    }
   ],
   "source": [
    "y_pred_rf, df_rf = evaluate_model_perf('RandomForest', pipeline_rf, x_test, y_test)"
   ]
  },
  {
   "cell_type": "markdown",
   "metadata": {},
   "source": [
    "***Note:*** with the random forest and arbitrary chosen parameters, the new features did not help, the F1-Score is even slightly lower.\n",
    "\n",
    "For the tuning phase, as the Logistic Regression has less parameters than the Random Forest and is less longer to train, I will first fine tune the TF-IDF with Logistic Regression. Then, I will take the best parameters and apply them to Random Forest and perform another GridSearch to see if I am able to improve the metrics."
   ]
  },
  {
   "cell_type": "markdown",
   "metadata": {},
   "source": [
    "#### Handy: see the transformed dataset!"
   ]
  },
  {
   "cell_type": "code",
   "execution_count": 368,
   "metadata": {},
   "outputs": [
    {
     "data": {
      "text/plain": [
       "7917             Please ,give me some help.Thanks before. \n",
       "25322    A positive development is that cooling has bee...\n",
       "22191    Witnesses say 200 to 500 people have so far di...\n",
       "18442    The 15-nation Economic Community of West Afric...\n",
       "1336     and in addition what time will it be possible ...\n",
       "Name: message, dtype: object"
      ]
     },
     "execution_count": 368,
     "metadata": {},
     "output_type": "execute_result"
    }
   ],
   "source": [
    "x_test.head()"
   ]
  },
  {
   "cell_type": "code",
   "execution_count": 441,
   "metadata": {},
   "outputs": [
    {
     "data": {
      "text/plain": [
       "array([[  6.        ,   5.83333333,   1.        ,  40.        ,\n",
       "          2.        ,   1.        ,   0.        ],\n",
       "       [ 19.        ,   4.63157895,   1.        , 106.        ,\n",
       "          6.        ,   4.        ,   1.        ],\n",
       "       [ 52.        ,   4.61538462,   1.        , 291.        ,\n",
       "         10.        ,   6.        ,   3.        ],\n",
       "       [ 30.        ,   5.33333333,   1.        , 189.        ,\n",
       "          5.        ,   4.        ,   3.        ],\n",
       "       [ 16.        ,   3.6875    ,   1.        ,  74.        ,\n",
       "          4.        ,   3.        ,   2.        ]])"
      ]
     },
     "execution_count": 441,
     "metadata": {},
     "output_type": "execute_result"
    }
   ],
   "source": [
    "pipeline_lr_v2.named_steps['features'].transform(x_test[:5])"
   ]
  },
  {
   "cell_type": "markdown",
   "metadata": {},
   "source": [
    "---\n",
    "## 7. Improve model\n",
    "Here we will use grid search to find better parameters.\n",
    "\n",
    "### 7.1. Logistic Regression\n",
    "Here are the parameters that we can tune for the Logistic Regression model:"
   ]
  },
  {
   "cell_type": "code",
   "execution_count": 22,
   "metadata": {},
   "outputs": [
    {
     "data": {
      "text/plain": [
       "dict_keys(['memory', 'steps', 'features', 'clf', 'features__n_jobs', 'features__transformer_list', 'features__transformer_weights', 'features__text', 'features__word-count', 'features__word-len', 'features__sentence-count', 'features__sentence-len', 'features__verb-count', 'features__text__analyzer', 'features__text__binary', 'features__text__decode_error', 'features__text__dtype', 'features__text__encoding', 'features__text__input', 'features__text__lowercase', 'features__text__max_df', 'features__text__max_features', 'features__text__min_df', 'features__text__ngram_range', 'features__text__norm', 'features__text__preprocessor', 'features__text__smooth_idf', 'features__text__stop_words', 'features__text__strip_accents', 'features__text__sublinear_tf', 'features__text__token_pattern', 'features__text__tokenizer', 'features__text__use_idf', 'features__text__vocabulary', 'clf__estimator__C', 'clf__estimator__class_weight', 'clf__estimator__dual', 'clf__estimator__fit_intercept', 'clf__estimator__intercept_scaling', 'clf__estimator__max_iter', 'clf__estimator__multi_class', 'clf__estimator__n_jobs', 'clf__estimator__penalty', 'clf__estimator__random_state', 'clf__estimator__solver', 'clf__estimator__tol', 'clf__estimator__verbose', 'clf__estimator__warm_start', 'clf__estimator', 'clf__n_jobs'])"
      ]
     },
     "execution_count": 22,
     "metadata": {},
     "output_type": "execute_result"
    }
   ],
   "source": [
    "pipeline_lr_v2.get_params().keys()"
   ]
  },
  {
   "cell_type": "markdown",
   "metadata": {},
   "source": [
    "Let's start with just one parameter to check if it works fine and the time it takes before launching it with too many parameters. For that, we will choose to vary the use of IDF which is a boolean value."
   ]
  },
  {
   "cell_type": "code",
   "execution_count": 22,
   "metadata": {},
   "outputs": [],
   "source": [
    "# Only TF-IDF parameters (Logistic Regression has more or less only the C value to change)\n",
    "param_grid = {\n",
    "    'features__text__use_idf': [True, False]\n",
    "}\n",
    "\n",
    "cv = GridSearchCV(pipeline_lr_v2, param_grid, cv=2, scoring=make_scorer(f1_score, average='micro'), verbose=3)"
   ]
  },
  {
   "cell_type": "code",
   "execution_count": 23,
   "metadata": {
    "scrolled": false
   },
   "outputs": [
    {
     "name": "stdout",
     "output_type": "stream",
     "text": [
      "Fitting 2 folds for each of 2 candidates, totalling 4 fits\n"
     ]
    },
    {
     "name": "stderr",
     "output_type": "stream",
     "text": [
      "[Parallel(n_jobs=1)]: Using backend SequentialBackend with 1 concurrent workers.\n"
     ]
    },
    {
     "name": "stdout",
     "output_type": "stream",
     "text": [
      "[CV] features__text__use_idf=True ....................................\n"
     ]
    },
    {
     "name": "stderr",
     "output_type": "stream",
     "text": [
      "C:\\Users\\David\\AppData\\Local\\Continuum\\miniconda3\\envs\\udadsnd-p5\\lib\\site-packages\\sklearn\\svm\\base.py:922: ConvergenceWarning: Liblinear failed to converge, increase the number of iterations.\n",
      "  \"the number of iterations.\", ConvergenceWarning)\n"
     ]
    },
    {
     "name": "stdout",
     "output_type": "stream",
     "text": [
      "[CV]  features__text__use_idf=True, score=0.5695081860495396, total= 1.9min\n"
     ]
    },
    {
     "name": "stderr",
     "output_type": "stream",
     "text": [
      "[Parallel(n_jobs=1)]: Done   1 out of   1 | elapsed:  2.4min remaining:    0.0s\n"
     ]
    },
    {
     "name": "stdout",
     "output_type": "stream",
     "text": [
      "[CV] features__text__use_idf=True ....................................\n"
     ]
    },
    {
     "name": "stderr",
     "output_type": "stream",
     "text": [
      "C:\\Users\\David\\AppData\\Local\\Continuum\\miniconda3\\envs\\udadsnd-p5\\lib\\site-packages\\sklearn\\svm\\base.py:922: ConvergenceWarning: Liblinear failed to converge, increase the number of iterations.\n",
      "  \"the number of iterations.\", ConvergenceWarning)\n"
     ]
    },
    {
     "name": "stdout",
     "output_type": "stream",
     "text": [
      "[CV]  features__text__use_idf=True, score=0.5710950729117004, total= 1.8min\n"
     ]
    },
    {
     "name": "stderr",
     "output_type": "stream",
     "text": [
      "[Parallel(n_jobs=1)]: Done   2 out of   2 | elapsed:  4.8min remaining:    0.0s\n"
     ]
    },
    {
     "name": "stdout",
     "output_type": "stream",
     "text": [
      "[CV] features__text__use_idf=False ...................................\n"
     ]
    },
    {
     "name": "stderr",
     "output_type": "stream",
     "text": [
      "C:\\Users\\David\\AppData\\Local\\Continuum\\miniconda3\\envs\\udadsnd-p5\\lib\\site-packages\\sklearn\\svm\\base.py:922: ConvergenceWarning: Liblinear failed to converge, increase the number of iterations.\n",
      "  \"the number of iterations.\", ConvergenceWarning)\n"
     ]
    },
    {
     "name": "stdout",
     "output_type": "stream",
     "text": [
      "[CV]  features__text__use_idf=False, score=0.5976489217053063, total= 1.7min\n",
      "[CV] features__text__use_idf=False ...................................\n"
     ]
    },
    {
     "name": "stderr",
     "output_type": "stream",
     "text": [
      "C:\\Users\\David\\AppData\\Local\\Continuum\\miniconda3\\envs\\udadsnd-p5\\lib\\site-packages\\sklearn\\svm\\base.py:922: ConvergenceWarning: Liblinear failed to converge, increase the number of iterations.\n",
      "  \"the number of iterations.\", ConvergenceWarning)\n"
     ]
    },
    {
     "name": "stdout",
     "output_type": "stream",
     "text": [
      "[CV]  features__text__use_idf=False, score=0.5982751110723931, total= 1.9min\n"
     ]
    },
    {
     "name": "stderr",
     "output_type": "stream",
     "text": [
      "[Parallel(n_jobs=1)]: Done   4 out of   4 | elapsed:  9.4min finished\n",
      "C:\\Users\\David\\AppData\\Local\\Continuum\\miniconda3\\envs\\udadsnd-p5\\lib\\site-packages\\sklearn\\svm\\base.py:922: ConvergenceWarning: Liblinear failed to converge, increase the number of iterations.\n",
      "  \"the number of iterations.\", ConvergenceWarning)\n"
     ]
    },
    {
     "name": "stdout",
     "output_type": "stream",
     "text": [
      "Wall time: 12min 1s\n"
     ]
    },
    {
     "data": {
      "text/plain": [
       "GridSearchCV(cv=2, error_score='raise-deprecating',\n",
       "       estimator=Pipeline(memory=None,\n",
       "     steps=[('features', FeatureUnion(n_jobs=None,\n",
       "       transformer_list=[('text', TfidfVectorizer(analyzer='word', binary=False, decode_error='strict',\n",
       "        dtype=<class 'numpy.float64'>, encoding='utf-8', input='content',\n",
       "        lowercase=True, max_df=0.5, max_features=5000, min_df=1,\n",
       "        ngr...ne, solver='liblinear',\n",
       "          tol=0.0001, verbose=0, warm_start=False),\n",
       "          n_jobs=None))]),\n",
       "       fit_params=None, iid='warn', n_jobs=None,\n",
       "       param_grid={'features__text__use_idf': [True, False]},\n",
       "       pre_dispatch='2*n_jobs', refit=True, return_train_score='warn',\n",
       "       scoring=make_scorer(f1_score, average=micro), verbose=3)"
      ]
     },
     "execution_count": 23,
     "metadata": {},
     "output_type": "execute_result"
    }
   ],
   "source": [
    "%%time\n",
    "cv.fit(x_train_val, y_train_val)"
   ]
  },
  {
   "cell_type": "code",
   "execution_count": 24,
   "metadata": {},
   "outputs": [
    {
     "name": "stdout",
     "output_type": "stream",
     "text": [
      "Best score is 0.5980 with params = {'features__text__use_idf': False}\n"
     ]
    }
   ],
   "source": [
    "print(\"Best score is {:.4f} with params = {}\".format(cv.best_score_, cv.best_params_))"
   ]
  },
  {
   "cell_type": "markdown",
   "metadata": {},
   "source": [
    "***Observations:***\n",
    "* 12 minutes for just 2 parameters and a 2 folds for Cross Validation, wow, it is taking too much time. I will go for a [RandomizedSearchCV](https://scikit-learn.org/stable/modules/generated/sklearn.model_selection.RandomizedSearchCV.html) instead and see whethere the n_jobs can be tuned as well.\n",
    "* Interesting point: **it seems that Logistic Regression gives a better score when we do not use the IDF value in TF-IDF** (so only term frequency)!"
   ]
  },
  {
   "cell_type": "code",
   "execution_count": 25,
   "metadata": {},
   "outputs": [],
   "source": [
    "# Only TF-IDF parameters (Logistic Regression has more or less only the C value to change)\n",
    "param_grid = {\n",
    "    'features__text__ngram_range': ((1, 1), (1, 2)),\n",
    "    'features__text__max_df': [0.5, 0.7, 1.0],\n",
    "    'features__text__max_features': [3000, 5000],\n",
    "    'features__text__norm': [None, 'l1', 'l2'],\n",
    "    'features__text__binary': [True, False],\n",
    "    'features__text__use_idf': [False]\n",
    "}\n",
    "\n",
    "rs = RandomizedSearchCV(pipeline_lr_v2, param_distributions=param_grid, cv=3, n_iter=50, \n",
    "                        scoring=make_scorer(f1_score, average='micro'), verbose=3)"
   ]
  },
  {
   "cell_type": "code",
   "execution_count": 26,
   "metadata": {
    "scrolled": false
   },
   "outputs": [
    {
     "name": "stdout",
     "output_type": "stream",
     "text": [
      "Fitting 3 folds for each of 50 candidates, totalling 150 fits\n"
     ]
    },
    {
     "name": "stderr",
     "output_type": "stream",
     "text": [
      "[Parallel(n_jobs=1)]: Using backend SequentialBackend with 1 concurrent workers.\n"
     ]
    },
    {
     "name": "stdout",
     "output_type": "stream",
     "text": [
      "[CV] features__text__use_idf=False, features__text__norm=None, features__text__ngram_range=(1, 2), features__text__max_features=5000, features__text__max_df=1.0, features__text__binary=True \n"
     ]
    },
    {
     "name": "stderr",
     "output_type": "stream",
     "text": [
      "C:\\Users\\David\\AppData\\Local\\Continuum\\miniconda3\\envs\\udadsnd-p5\\lib\\site-packages\\sklearn\\svm\\base.py:922: ConvergenceWarning: Liblinear failed to converge, increase the number of iterations.\n",
      "  \"the number of iterations.\", ConvergenceWarning)\n"
     ]
    },
    {
     "name": "stdout",
     "output_type": "stream",
     "text": [
      "[CV]  features__text__use_idf=False, features__text__norm=None, features__text__ngram_range=(1, 2), features__text__max_features=5000, features__text__max_df=1.0, features__text__binary=True, score=0.6137650162649522, total= 4.9min\n"
     ]
    },
    {
     "name": "stderr",
     "output_type": "stream",
     "text": [
      "[Parallel(n_jobs=1)]: Done   1 out of   1 | elapsed:  7.0min remaining:    0.0s\n"
     ]
    },
    {
     "name": "stdout",
     "output_type": "stream",
     "text": [
      "[CV] features__text__use_idf=False, features__text__norm=None, features__text__ngram_range=(1, 2), features__text__max_features=5000, features__text__max_df=1.0, features__text__binary=True \n"
     ]
    },
    {
     "name": "stderr",
     "output_type": "stream",
     "text": [
      "C:\\Users\\David\\AppData\\Local\\Continuum\\miniconda3\\envs\\udadsnd-p5\\lib\\site-packages\\sklearn\\svm\\base.py:922: ConvergenceWarning: Liblinear failed to converge, increase the number of iterations.\n",
      "  \"the number of iterations.\", ConvergenceWarning)\n"
     ]
    },
    {
     "name": "stdout",
     "output_type": "stream",
     "text": [
      "[CV]  features__text__use_idf=False, features__text__norm=None, features__text__ngram_range=(1, 2), features__text__max_features=5000, features__text__max_df=1.0, features__text__binary=True, score=0.6055517657553655, total= 3.4min\n"
     ]
    },
    {
     "name": "stderr",
     "output_type": "stream",
     "text": [
      "[Parallel(n_jobs=1)]: Done   2 out of   2 | elapsed: 11.2min remaining:    0.0s\n"
     ]
    },
    {
     "name": "stdout",
     "output_type": "stream",
     "text": [
      "[CV] features__text__use_idf=False, features__text__norm=None, features__text__ngram_range=(1, 2), features__text__max_features=5000, features__text__max_df=1.0, features__text__binary=True \n"
     ]
    },
    {
     "name": "stderr",
     "output_type": "stream",
     "text": [
      "C:\\Users\\David\\AppData\\Local\\Continuum\\miniconda3\\envs\\udadsnd-p5\\lib\\site-packages\\sklearn\\svm\\base.py:922: ConvergenceWarning: Liblinear failed to converge, increase the number of iterations.\n",
      "  \"the number of iterations.\", ConvergenceWarning)\n"
     ]
    },
    {
     "name": "stdout",
     "output_type": "stream",
     "text": [
      "[CV]  features__text__use_idf=False, features__text__norm=None, features__text__ngram_range=(1, 2), features__text__max_features=5000, features__text__max_df=1.0, features__text__binary=True, score=0.597986595102673, total= 2.0min\n",
      "[CV] features__text__use_idf=False, features__text__norm=l2, features__text__ngram_range=(1, 1), features__text__max_features=3000, features__text__max_df=1.0, features__text__binary=False \n",
      "[CV]  features__text__use_idf=False, features__text__norm=l2, features__text__ngram_range=(1, 1), features__text__max_features=3000, features__text__max_df=1.0, features__text__binary=False, score=0.4822838751974252, total= 1.4min\n",
      "[CV] features__text__use_idf=False, features__text__norm=l2, features__text__ngram_range=(1, 1), features__text__max_features=3000, features__text__max_df=1.0, features__text__binary=False \n"
     ]
    },
    {
     "name": "stderr",
     "output_type": "stream",
     "text": [
      "C:\\Users\\David\\AppData\\Local\\Continuum\\miniconda3\\envs\\udadsnd-p5\\lib\\site-packages\\sklearn\\svm\\base.py:922: ConvergenceWarning: Liblinear failed to converge, increase the number of iterations.\n",
      "  \"the number of iterations.\", ConvergenceWarning)\n"
     ]
    },
    {
     "name": "stdout",
     "output_type": "stream",
     "text": [
      "[CV]  features__text__use_idf=False, features__text__norm=l2, features__text__ngram_range=(1, 1), features__text__max_features=3000, features__text__max_df=1.0, features__text__binary=False, score=0.4734446130500758, total= 1.2min\n",
      "[CV] features__text__use_idf=False, features__text__norm=l2, features__text__ngram_range=(1, 1), features__text__max_features=3000, features__text__max_df=1.0, features__text__binary=False \n"
     ]
    },
    {
     "name": "stderr",
     "output_type": "stream",
     "text": [
      "C:\\Users\\David\\AppData\\Local\\Continuum\\miniconda3\\envs\\udadsnd-p5\\lib\\site-packages\\sklearn\\svm\\base.py:922: ConvergenceWarning: Liblinear failed to converge, increase the number of iterations.\n",
      "  \"the number of iterations.\", ConvergenceWarning)\n"
     ]
    },
    {
     "name": "stdout",
     "output_type": "stream",
     "text": [
      "[CV]  features__text__use_idf=False, features__text__norm=l2, features__text__ngram_range=(1, 1), features__text__max_features=3000, features__text__max_df=1.0, features__text__binary=False, score=0.4873703477730324, total= 1.2min\n",
      "[CV] features__text__use_idf=False, features__text__norm=l1, features__text__ngram_range=(1, 1), features__text__max_features=3000, features__text__max_df=0.7, features__text__binary=False \n",
      "[CV]  features__text__use_idf=False, features__text__norm=l1, features__text__ngram_range=(1, 1), features__text__max_features=3000, features__text__max_df=0.7, features__text__binary=False, score=0.4384428672381479, total= 1.1min\n",
      "[CV] features__text__use_idf=False, features__text__norm=l1, features__text__ngram_range=(1, 1), features__text__max_features=3000, features__text__max_df=0.7, features__text__binary=False \n",
      "[CV]  features__text__use_idf=False, features__text__norm=l1, features__text__ngram_range=(1, 1), features__text__max_features=3000, features__text__max_df=0.7, features__text__binary=False, score=0.4370658775891606, total= 1.1min\n",
      "[CV] features__text__use_idf=False, features__text__norm=l1, features__text__ngram_range=(1, 1), features__text__max_features=3000, features__text__max_df=0.7, features__text__binary=False \n",
      "[CV]  features__text__use_idf=False, features__text__norm=l1, features__text__ngram_range=(1, 1), features__text__max_features=3000, features__text__max_df=0.7, features__text__binary=False, score=0.44796436860924654, total= 1.1min\n",
      "[CV] features__text__use_idf=False, features__text__norm=l2, features__text__ngram_range=(1, 2), features__text__max_features=3000, features__text__max_df=1.0, features__text__binary=True \n"
     ]
    },
    {
     "name": "stderr",
     "output_type": "stream",
     "text": [
      "C:\\Users\\David\\AppData\\Local\\Continuum\\miniconda3\\envs\\udadsnd-p5\\lib\\site-packages\\sklearn\\svm\\base.py:922: ConvergenceWarning: Liblinear failed to converge, increase the number of iterations.\n",
      "  \"the number of iterations.\", ConvergenceWarning)\n"
     ]
    },
    {
     "name": "stdout",
     "output_type": "stream",
     "text": [
      "[CV]  features__text__use_idf=False, features__text__norm=l2, features__text__ngram_range=(1, 2), features__text__max_features=3000, features__text__max_df=1.0, features__text__binary=True, score=0.5909784025063074, total= 1.7min\n",
      "[CV] features__text__use_idf=False, features__text__norm=l2, features__text__ngram_range=(1, 2), features__text__max_features=3000, features__text__max_df=1.0, features__text__binary=True \n"
     ]
    },
    {
     "name": "stderr",
     "output_type": "stream",
     "text": [
      "C:\\Users\\David\\AppData\\Local\\Continuum\\miniconda3\\envs\\udadsnd-p5\\lib\\site-packages\\sklearn\\svm\\base.py:922: ConvergenceWarning: Liblinear failed to converge, increase the number of iterations.\n",
      "  \"the number of iterations.\", ConvergenceWarning)\n"
     ]
    },
    {
     "name": "stdout",
     "output_type": "stream",
     "text": [
      "[CV]  features__text__use_idf=False, features__text__norm=l2, features__text__ngram_range=(1, 2), features__text__max_features=3000, features__text__max_df=1.0, features__text__binary=True, score=0.5886673956318166, total= 1.7min\n",
      "[CV] features__text__use_idf=False, features__text__norm=l2, features__text__ngram_range=(1, 2), features__text__max_features=3000, features__text__max_df=1.0, features__text__binary=True \n"
     ]
    },
    {
     "name": "stderr",
     "output_type": "stream",
     "text": [
      "C:\\Users\\David\\AppData\\Local\\Continuum\\miniconda3\\envs\\udadsnd-p5\\lib\\site-packages\\sklearn\\svm\\base.py:922: ConvergenceWarning: Liblinear failed to converge, increase the number of iterations.\n",
      "  \"the number of iterations.\", ConvergenceWarning)\n"
     ]
    },
    {
     "name": "stdout",
     "output_type": "stream",
     "text": [
      "[CV]  features__text__use_idf=False, features__text__norm=l2, features__text__ngram_range=(1, 2), features__text__max_features=3000, features__text__max_df=1.0, features__text__binary=True, score=0.5922631773995838, total= 1.7min\n",
      "[CV] features__text__use_idf=False, features__text__norm=None, features__text__ngram_range=(1, 1), features__text__max_features=3000, features__text__max_df=1.0, features__text__binary=True \n",
      "[CV]  features__text__use_idf=False, features__text__norm=None, features__text__ngram_range=(1, 1), features__text__max_features=3000, features__text__max_df=1.0, features__text__binary=True, score=0.47765894236482465, total= 1.2min\n",
      "[CV] features__text__use_idf=False, features__text__norm=None, features__text__ngram_range=(1, 1), features__text__max_features=3000, features__text__max_df=1.0, features__text__binary=True \n",
      "[CV]  features__text__use_idf=False, features__text__norm=None, features__text__ngram_range=(1, 1), features__text__max_features=3000, features__text__max_df=1.0, features__text__binary=True, score=0.47751239296980624, total= 1.2min\n",
      "[CV] features__text__use_idf=False, features__text__norm=None, features__text__ngram_range=(1, 1), features__text__max_features=3000, features__text__max_df=1.0, features__text__binary=True \n",
      "[CV]  features__text__use_idf=False, features__text__norm=None, features__text__ngram_range=(1, 1), features__text__max_features=3000, features__text__max_df=1.0, features__text__binary=True, score=0.48377830859008863, total= 1.2min\n",
      "[CV] features__text__use_idf=False, features__text__norm=None, features__text__ngram_range=(1, 1), features__text__max_features=3000, features__text__max_df=0.5, features__text__binary=True \n",
      "[CV]  features__text__use_idf=False, features__text__norm=None, features__text__ngram_range=(1, 1), features__text__max_features=3000, features__text__max_df=0.5, features__text__binary=True, score=0.4477195536147501, total= 1.1min\n",
      "[CV] features__text__use_idf=False, features__text__norm=None, features__text__ngram_range=(1, 1), features__text__max_features=3000, features__text__max_df=0.5, features__text__binary=True \n"
     ]
    },
    {
     "name": "stderr",
     "output_type": "stream",
     "text": [
      "C:\\Users\\David\\AppData\\Local\\Continuum\\miniconda3\\envs\\udadsnd-p5\\lib\\site-packages\\sklearn\\svm\\base.py:922: ConvergenceWarning: Liblinear failed to converge, increase the number of iterations.\n",
      "  \"the number of iterations.\", ConvergenceWarning)\n"
     ]
    },
    {
     "name": "stdout",
     "output_type": "stream",
     "text": [
      "[CV]  features__text__use_idf=False, features__text__norm=None, features__text__ngram_range=(1, 1), features__text__max_features=3000, features__text__max_df=0.5, features__text__binary=True, score=0.4418209351917669, total= 1.1min\n",
      "[CV] features__text__use_idf=False, features__text__norm=None, features__text__ngram_range=(1, 1), features__text__max_features=3000, features__text__max_df=0.5, features__text__binary=True \n",
      "[CV]  features__text__use_idf=False, features__text__norm=None, features__text__ngram_range=(1, 1), features__text__max_features=3000, features__text__max_df=0.5, features__text__binary=True, score=0.4541622760800843, total= 1.1min\n",
      "[CV] features__text__use_idf=False, features__text__norm=l1, features__text__ngram_range=(1, 1), features__text__max_features=5000, features__text__max_df=0.5, features__text__binary=False \n",
      "[CV]  features__text__use_idf=False, features__text__norm=l1, features__text__ngram_range=(1, 1), features__text__max_features=5000, features__text__max_df=0.5, features__text__binary=False, score=0.44409985101401683, total= 1.1min\n",
      "[CV] features__text__use_idf=False, features__text__norm=l1, features__text__ngram_range=(1, 1), features__text__max_features=5000, features__text__max_df=0.5, features__text__binary=False \n"
     ]
    },
    {
     "name": "stderr",
     "output_type": "stream",
     "text": [
      "C:\\Users\\David\\AppData\\Local\\Continuum\\miniconda3\\envs\\udadsnd-p5\\lib\\site-packages\\sklearn\\svm\\base.py:922: ConvergenceWarning: Liblinear failed to converge, increase the number of iterations.\n",
      "  \"the number of iterations.\", ConvergenceWarning)\n"
     ]
    },
    {
     "name": "stdout",
     "output_type": "stream",
     "text": [
      "[CV]  features__text__use_idf=False, features__text__norm=l1, features__text__ngram_range=(1, 1), features__text__max_features=5000, features__text__max_df=0.5, features__text__binary=False, score=0.44178883824072923, total= 1.1min\n",
      "[CV] features__text__use_idf=False, features__text__norm=l1, features__text__ngram_range=(1, 1), features__text__max_features=5000, features__text__max_df=0.5, features__text__binary=False \n",
      "[CV]  features__text__use_idf=False, features__text__norm=l1, features__text__ngram_range=(1, 1), features__text__max_features=5000, features__text__max_df=0.5, features__text__binary=False, score=0.44808640819129675, total= 1.1min\n",
      "[CV] features__text__use_idf=False, features__text__norm=None, features__text__ngram_range=(1, 2), features__text__max_features=5000, features__text__max_df=1.0, features__text__binary=False \n"
     ]
    },
    {
     "name": "stderr",
     "output_type": "stream",
     "text": [
      "C:\\Users\\David\\AppData\\Local\\Continuum\\miniconda3\\envs\\udadsnd-p5\\lib\\site-packages\\sklearn\\svm\\base.py:922: ConvergenceWarning: Liblinear failed to converge, increase the number of iterations.\n",
      "  \"the number of iterations.\", ConvergenceWarning)\n"
     ]
    },
    {
     "name": "stdout",
     "output_type": "stream",
     "text": [
      "[CV]  features__text__use_idf=False, features__text__norm=None, features__text__ngram_range=(1, 2), features__text__max_features=5000, features__text__max_df=1.0, features__text__binary=False, score=0.6071161338596899, total= 2.8min\n",
      "[CV] features__text__use_idf=False, features__text__norm=None, features__text__ngram_range=(1, 2), features__text__max_features=5000, features__text__max_df=1.0, features__text__binary=False \n"
     ]
    },
    {
     "name": "stderr",
     "output_type": "stream",
     "text": [
      "C:\\Users\\David\\AppData\\Local\\Continuum\\miniconda3\\envs\\udadsnd-p5\\lib\\site-packages\\sklearn\\svm\\base.py:922: ConvergenceWarning: Liblinear failed to converge, increase the number of iterations.\n",
      "  \"the number of iterations.\", ConvergenceWarning)\n"
     ]
    },
    {
     "name": "stdout",
     "output_type": "stream",
     "text": [
      "[CV]  features__text__use_idf=False, features__text__norm=None, features__text__ngram_range=(1, 2), features__text__max_features=5000, features__text__max_df=1.0, features__text__binary=False, score=0.5951271186440678, total= 2.8min\n",
      "[CV] features__text__use_idf=False, features__text__norm=None, features__text__ngram_range=(1, 2), features__text__max_features=5000, features__text__max_df=1.0, features__text__binary=False \n"
     ]
    },
    {
     "name": "stderr",
     "output_type": "stream",
     "text": [
      "C:\\Users\\David\\AppData\\Local\\Continuum\\miniconda3\\envs\\udadsnd-p5\\lib\\site-packages\\sklearn\\svm\\base.py:922: ConvergenceWarning: Liblinear failed to converge, increase the number of iterations.\n",
      "  \"the number of iterations.\", ConvergenceWarning)\n"
     ]
    },
    {
     "name": "stdout",
     "output_type": "stream",
     "text": [
      "[CV]  features__text__use_idf=False, features__text__norm=None, features__text__ngram_range=(1, 2), features__text__max_features=5000, features__text__max_df=1.0, features__text__binary=False, score=0.5995923661293311, total= 3.0min\n",
      "[CV] features__text__use_idf=False, features__text__norm=l1, features__text__ngram_range=(1, 2), features__text__max_features=5000, features__text__max_df=1.0, features__text__binary=True \n",
      "[CV]  features__text__use_idf=False, features__text__norm=l1, features__text__ngram_range=(1, 2), features__text__max_features=5000, features__text__max_df=1.0, features__text__binary=True, score=0.4344044303995494, total= 1.8min\n",
      "[CV] features__text__use_idf=False, features__text__norm=l1, features__text__ngram_range=(1, 2), features__text__max_features=5000, features__text__max_df=1.0, features__text__binary=True \n"
     ]
    },
    {
     "name": "stderr",
     "output_type": "stream",
     "text": [
      "C:\\Users\\David\\AppData\\Local\\Continuum\\miniconda3\\envs\\udadsnd-p5\\lib\\site-packages\\sklearn\\svm\\base.py:922: ConvergenceWarning: Liblinear failed to converge, increase the number of iterations.\n",
      "  \"the number of iterations.\", ConvergenceWarning)\n"
     ]
    },
    {
     "name": "stdout",
     "output_type": "stream",
     "text": [
      "[CV]  features__text__use_idf=False, features__text__norm=l1, features__text__ngram_range=(1, 2), features__text__max_features=5000, features__text__max_df=1.0, features__text__binary=True, score=0.4325352782622483, total= 1.8min\n",
      "[CV] features__text__use_idf=False, features__text__norm=l1, features__text__ngram_range=(1, 2), features__text__max_features=5000, features__text__max_df=1.0, features__text__binary=True \n"
     ]
    },
    {
     "name": "stderr",
     "output_type": "stream",
     "text": [
      "C:\\Users\\David\\AppData\\Local\\Continuum\\miniconda3\\envs\\udadsnd-p5\\lib\\site-packages\\sklearn\\svm\\base.py:922: ConvergenceWarning: Liblinear failed to converge, increase the number of iterations.\n",
      "  \"the number of iterations.\", ConvergenceWarning)\n"
     ]
    },
    {
     "name": "stdout",
     "output_type": "stream",
     "text": [
      "[CV]  features__text__use_idf=False, features__text__norm=l1, features__text__ngram_range=(1, 2), features__text__max_features=5000, features__text__max_df=1.0, features__text__binary=True, score=0.4443234587670136, total= 1.9min\n",
      "[CV] features__text__use_idf=False, features__text__norm=l2, features__text__ngram_range=(1, 2), features__text__max_features=3000, features__text__max_df=0.5, features__text__binary=False \n",
      "[CV]  features__text__use_idf=False, features__text__norm=l2, features__text__ngram_range=(1, 2), features__text__max_features=3000, features__text__max_df=0.5, features__text__binary=False, score=0.5933151470061447, total= 1.6min\n",
      "[CV] features__text__use_idf=False, features__text__norm=l2, features__text__ngram_range=(1, 2), features__text__max_features=3000, features__text__max_df=0.5, features__text__binary=False \n"
     ]
    },
    {
     "name": "stderr",
     "output_type": "stream",
     "text": [
      "C:\\Users\\David\\AppData\\Local\\Continuum\\miniconda3\\envs\\udadsnd-p5\\lib\\site-packages\\sklearn\\svm\\base.py:922: ConvergenceWarning: Liblinear failed to converge, increase the number of iterations.\n",
      "  \"the number of iterations.\", ConvergenceWarning)\n"
     ]
    },
    {
     "name": "stdout",
     "output_type": "stream",
     "text": [
      "[CV]  features__text__use_idf=False, features__text__norm=l2, features__text__ngram_range=(1, 2), features__text__max_features=3000, features__text__max_df=0.5, features__text__binary=False, score=0.5965584235359424, total= 1.5min\n",
      "[CV] features__text__use_idf=False, features__text__norm=l2, features__text__ngram_range=(1, 2), features__text__max_features=3000, features__text__max_df=0.5, features__text__binary=False \n"
     ]
    },
    {
     "name": "stderr",
     "output_type": "stream",
     "text": [
      "C:\\Users\\David\\AppData\\Local\\Continuum\\miniconda3\\envs\\udadsnd-p5\\lib\\site-packages\\sklearn\\svm\\base.py:922: ConvergenceWarning: Liblinear failed to converge, increase the number of iterations.\n",
      "  \"the number of iterations.\", ConvergenceWarning)\n"
     ]
    },
    {
     "name": "stdout",
     "output_type": "stream",
     "text": [
      "[CV]  features__text__use_idf=False, features__text__norm=l2, features__text__ngram_range=(1, 2), features__text__max_features=3000, features__text__max_df=0.5, features__text__binary=False, score=0.5974011235317482, total= 1.5min\n",
      "[CV] features__text__use_idf=False, features__text__norm=l1, features__text__ngram_range=(1, 1), features__text__max_features=5000, features__text__max_df=0.5, features__text__binary=True \n",
      "[CV]  features__text__use_idf=False, features__text__norm=l1, features__text__ngram_range=(1, 1), features__text__max_features=5000, features__text__max_df=0.5, features__text__binary=True, score=0.4435049727789775, total= 1.1min\n",
      "[CV] features__text__use_idf=False, features__text__norm=l1, features__text__ngram_range=(1, 1), features__text__max_features=5000, features__text__max_df=0.5, features__text__binary=True \n",
      "[CV]  features__text__use_idf=False, features__text__norm=l1, features__text__ngram_range=(1, 1), features__text__max_features=5000, features__text__max_df=0.5, features__text__binary=True, score=0.4419321052307313, total= 1.1min\n",
      "[CV] features__text__use_idf=False, features__text__norm=l1, features__text__ngram_range=(1, 1), features__text__max_features=5000, features__text__max_df=0.5, features__text__binary=True \n",
      "[CV]  features__text__use_idf=False, features__text__norm=l1, features__text__ngram_range=(1, 1), features__text__max_features=5000, features__text__max_df=0.5, features__text__binary=True, score=0.44734377926212626, total= 1.1min\n",
      "[CV] features__text__use_idf=False, features__text__norm=None, features__text__ngram_range=(1, 2), features__text__max_features=3000, features__text__max_df=0.5, features__text__binary=False \n"
     ]
    },
    {
     "name": "stderr",
     "output_type": "stream",
     "text": [
      "C:\\Users\\David\\AppData\\Local\\Continuum\\miniconda3\\envs\\udadsnd-p5\\lib\\site-packages\\sklearn\\svm\\base.py:922: ConvergenceWarning: Liblinear failed to converge, increase the number of iterations.\n",
      "  \"the number of iterations.\", ConvergenceWarning)\n"
     ]
    },
    {
     "name": "stdout",
     "output_type": "stream",
     "text": [
      "[CV]  features__text__use_idf=False, features__text__norm=None, features__text__ngram_range=(1, 2), features__text__max_features=3000, features__text__max_df=0.5, features__text__binary=False, score=0.5986415882967607, total= 2.0min\n",
      "[CV] features__text__use_idf=False, features__text__norm=None, features__text__ngram_range=(1, 2), features__text__max_features=3000, features__text__max_df=0.5, features__text__binary=False \n"
     ]
    },
    {
     "name": "stderr",
     "output_type": "stream",
     "text": [
      "C:\\Users\\David\\AppData\\Local\\Continuum\\miniconda3\\envs\\udadsnd-p5\\lib\\site-packages\\sklearn\\svm\\base.py:922: ConvergenceWarning: Liblinear failed to converge, increase the number of iterations.\n",
      "  \"the number of iterations.\", ConvergenceWarning)\n"
     ]
    },
    {
     "name": "stdout",
     "output_type": "stream",
     "text": [
      "[CV]  features__text__use_idf=False, features__text__norm=None, features__text__ngram_range=(1, 2), features__text__max_features=3000, features__text__max_df=0.5, features__text__binary=False, score=0.596294246329828, total= 1.9min\n",
      "[CV] features__text__use_idf=False, features__text__norm=None, features__text__ngram_range=(1, 2), features__text__max_features=3000, features__text__max_df=0.5, features__text__binary=False \n"
     ]
    },
    {
     "name": "stderr",
     "output_type": "stream",
     "text": [
      "C:\\Users\\David\\AppData\\Local\\Continuum\\miniconda3\\envs\\udadsnd-p5\\lib\\site-packages\\sklearn\\svm\\base.py:922: ConvergenceWarning: Liblinear failed to converge, increase the number of iterations.\n",
      "  \"the number of iterations.\", ConvergenceWarning)\n"
     ]
    },
    {
     "name": "stdout",
     "output_type": "stream",
     "text": [
      "[CV]  features__text__use_idf=False, features__text__norm=None, features__text__ngram_range=(1, 2), features__text__max_features=3000, features__text__max_df=0.5, features__text__binary=False, score=0.5980428655001861, total= 2.0min\n",
      "[CV] features__text__use_idf=False, features__text__norm=l2, features__text__ngram_range=(1, 1), features__text__max_features=3000, features__text__max_df=0.5, features__text__binary=True \n",
      "[CV]  features__text__use_idf=False, features__text__norm=l2, features__text__ngram_range=(1, 1), features__text__max_features=3000, features__text__max_df=0.5, features__text__binary=True, score=0.45369143683006136, total= 1.1min\n",
      "[CV] features__text__use_idf=False, features__text__norm=l2, features__text__ngram_range=(1, 1), features__text__max_features=3000, features__text__max_df=0.5, features__text__binary=True \n",
      "[CV]  features__text__use_idf=False, features__text__norm=l2, features__text__ngram_range=(1, 1), features__text__max_features=3000, features__text__max_df=0.5, features__text__binary=True, score=0.451473189776124, total= 1.1min\n",
      "[CV] features__text__use_idf=False, features__text__norm=l2, features__text__ngram_range=(1, 1), features__text__max_features=3000, features__text__max_df=0.5, features__text__binary=True \n",
      "[CV]  features__text__use_idf=False, features__text__norm=l2, features__text__ngram_range=(1, 1), features__text__max_features=3000, features__text__max_df=0.5, features__text__binary=True, score=0.45614469006028746, total= 1.1min\n",
      "[CV] features__text__use_idf=False, features__text__norm=l1, features__text__ngram_range=(1, 2), features__text__max_features=5000, features__text__max_df=0.7, features__text__binary=False \n",
      "[CV]  features__text__use_idf=False, features__text__norm=l1, features__text__ngram_range=(1, 2), features__text__max_features=5000, features__text__max_df=0.7, features__text__binary=False, score=0.4610423512791376, total= 1.5min\n",
      "[CV] features__text__use_idf=False, features__text__norm=l1, features__text__ngram_range=(1, 2), features__text__max_features=5000, features__text__max_df=0.7, features__text__binary=False \n",
      "[CV]  features__text__use_idf=False, features__text__norm=l1, features__text__ngram_range=(1, 2), features__text__max_features=5000, features__text__max_df=0.7, features__text__binary=False, score=0.45696867904575283, total= 1.5min\n",
      "[CV] features__text__use_idf=False, features__text__norm=l1, features__text__ngram_range=(1, 2), features__text__max_features=5000, features__text__max_df=0.7, features__text__binary=False \n"
     ]
    },
    {
     "name": "stderr",
     "output_type": "stream",
     "text": [
      "C:\\Users\\David\\AppData\\Local\\Continuum\\miniconda3\\envs\\udadsnd-p5\\lib\\site-packages\\sklearn\\svm\\base.py:922: ConvergenceWarning: Liblinear failed to converge, increase the number of iterations.\n",
      "  \"the number of iterations.\", ConvergenceWarning)\n"
     ]
    },
    {
     "name": "stdout",
     "output_type": "stream",
     "text": [
      "[CV]  features__text__use_idf=False, features__text__norm=l1, features__text__ngram_range=(1, 2), features__text__max_features=5000, features__text__max_df=0.7, features__text__binary=False, score=0.4647114474929044, total= 1.5min\n",
      "[CV] features__text__use_idf=False, features__text__norm=l2, features__text__ngram_range=(1, 1), features__text__max_features=5000, features__text__max_df=0.5, features__text__binary=False \n",
      "[CV]  features__text__use_idf=False, features__text__norm=l2, features__text__ngram_range=(1, 1), features__text__max_features=5000, features__text__max_df=0.5, features__text__binary=False, score=0.4520783650798443, total= 1.1min\n",
      "[CV] features__text__use_idf=False, features__text__norm=l2, features__text__ngram_range=(1, 1), features__text__max_features=5000, features__text__max_df=0.5, features__text__binary=False \n",
      "[CV]  features__text__use_idf=False, features__text__norm=l2, features__text__ngram_range=(1, 1), features__text__max_features=5000, features__text__max_df=0.5, features__text__binary=False, score=0.45100433481897545, total= 1.1min\n",
      "[CV] features__text__use_idf=False, features__text__norm=l2, features__text__ngram_range=(1, 1), features__text__max_features=5000, features__text__max_df=0.5, features__text__binary=False \n",
      "[CV]  features__text__use_idf=False, features__text__norm=l2, features__text__ngram_range=(1, 1), features__text__max_features=5000, features__text__max_df=0.5, features__text__binary=False, score=0.45664078210562137, total= 1.1min\n",
      "[CV] features__text__use_idf=False, features__text__norm=None, features__text__ngram_range=(1, 2), features__text__max_features=3000, features__text__max_df=1.0, features__text__binary=True \n"
     ]
    },
    {
     "name": "stderr",
     "output_type": "stream",
     "text": [
      "C:\\Users\\David\\AppData\\Local\\Continuum\\miniconda3\\envs\\udadsnd-p5\\lib\\site-packages\\sklearn\\svm\\base.py:922: ConvergenceWarning: Liblinear failed to converge, increase the number of iterations.\n",
      "  \"the number of iterations.\", ConvergenceWarning)\n"
     ]
    },
    {
     "name": "stdout",
     "output_type": "stream",
     "text": [
      "[CV]  features__text__use_idf=False, features__text__norm=None, features__text__ngram_range=(1, 2), features__text__max_features=3000, features__text__max_df=1.0, features__text__binary=True, score=0.6137650162649522, total= 1.9min\n",
      "[CV] features__text__use_idf=False, features__text__norm=None, features__text__ngram_range=(1, 2), features__text__max_features=3000, features__text__max_df=1.0, features__text__binary=True \n"
     ]
    },
    {
     "name": "stderr",
     "output_type": "stream",
     "text": [
      "C:\\Users\\David\\AppData\\Local\\Continuum\\miniconda3\\envs\\udadsnd-p5\\lib\\site-packages\\sklearn\\svm\\base.py:922: ConvergenceWarning: Liblinear failed to converge, increase the number of iterations.\n",
      "  \"the number of iterations.\", ConvergenceWarning)\n"
     ]
    },
    {
     "name": "stdout",
     "output_type": "stream",
     "text": [
      "[CV]  features__text__use_idf=False, features__text__norm=None, features__text__ngram_range=(1, 2), features__text__max_features=3000, features__text__max_df=1.0, features__text__binary=True, score=0.6055517657553655, total= 1.9min\n",
      "[CV] features__text__use_idf=False, features__text__norm=None, features__text__ngram_range=(1, 2), features__text__max_features=3000, features__text__max_df=1.0, features__text__binary=True \n"
     ]
    },
    {
     "name": "stderr",
     "output_type": "stream",
     "text": [
      "C:\\Users\\David\\AppData\\Local\\Continuum\\miniconda3\\envs\\udadsnd-p5\\lib\\site-packages\\sklearn\\svm\\base.py:922: ConvergenceWarning: Liblinear failed to converge, increase the number of iterations.\n",
      "  \"the number of iterations.\", ConvergenceWarning)\n"
     ]
    },
    {
     "name": "stdout",
     "output_type": "stream",
     "text": [
      "[CV]  features__text__use_idf=False, features__text__norm=None, features__text__ngram_range=(1, 2), features__text__max_features=3000, features__text__max_df=1.0, features__text__binary=True, score=0.597986595102673, total= 1.8min\n",
      "[CV] features__text__use_idf=False, features__text__norm=l2, features__text__ngram_range=(1, 2), features__text__max_features=3000, features__text__max_df=0.7, features__text__binary=False \n",
      "[CV]  features__text__use_idf=False, features__text__norm=l2, features__text__ngram_range=(1, 2), features__text__max_features=3000, features__text__max_df=0.7, features__text__binary=False, score=0.5897698634689413, total= 1.6min\n",
      "[CV] features__text__use_idf=False, features__text__norm=l2, features__text__ngram_range=(1, 2), features__text__max_features=3000, features__text__max_df=0.7, features__text__binary=False \n"
     ]
    },
    {
     "name": "stderr",
     "output_type": "stream",
     "text": [
      "C:\\Users\\David\\AppData\\Local\\Continuum\\miniconda3\\envs\\udadsnd-p5\\lib\\site-packages\\sklearn\\svm\\base.py:922: ConvergenceWarning: Liblinear failed to converge, increase the number of iterations.\n",
      "  \"the number of iterations.\", ConvergenceWarning)\n"
     ]
    },
    {
     "name": "stdout",
     "output_type": "stream",
     "text": [
      "[CV]  features__text__use_idf=False, features__text__norm=l2, features__text__ngram_range=(1, 2), features__text__max_features=3000, features__text__max_df=0.7, features__text__binary=False, score=0.5906243007384201, total= 1.6min\n",
      "[CV] features__text__use_idf=False, features__text__norm=l2, features__text__ngram_range=(1, 2), features__text__max_features=3000, features__text__max_df=0.7, features__text__binary=False \n"
     ]
    },
    {
     "name": "stderr",
     "output_type": "stream",
     "text": [
      "C:\\Users\\David\\AppData\\Local\\Continuum\\miniconda3\\envs\\udadsnd-p5\\lib\\site-packages\\sklearn\\svm\\base.py:922: ConvergenceWarning: Liblinear failed to converge, increase the number of iterations.\n",
      "  \"the number of iterations.\", ConvergenceWarning)\n"
     ]
    },
    {
     "name": "stdout",
     "output_type": "stream",
     "text": [
      "[CV]  features__text__use_idf=False, features__text__norm=l2, features__text__ngram_range=(1, 2), features__text__max_features=3000, features__text__max_df=0.7, features__text__binary=False, score=0.5952340328726611, total= 1.6min\n",
      "[CV] features__text__use_idf=False, features__text__norm=l1, features__text__ngram_range=(1, 1), features__text__max_features=5000, features__text__max_df=1.0, features__text__binary=False \n",
      "[CV]  features__text__use_idf=False, features__text__norm=l1, features__text__ngram_range=(1, 1), features__text__max_features=5000, features__text__max_df=1.0, features__text__binary=False, score=0.44345706439569255, total= 1.2min\n",
      "[CV] features__text__use_idf=False, features__text__norm=l1, features__text__ngram_range=(1, 1), features__text__max_features=5000, features__text__max_df=1.0, features__text__binary=False \n"
     ]
    },
    {
     "name": "stderr",
     "output_type": "stream",
     "text": [
      "C:\\Users\\David\\AppData\\Local\\Continuum\\miniconda3\\envs\\udadsnd-p5\\lib\\site-packages\\sklearn\\svm\\base.py:922: ConvergenceWarning: Liblinear failed to converge, increase the number of iterations.\n",
      "  \"the number of iterations.\", ConvergenceWarning)\n"
     ]
    },
    {
     "name": "stdout",
     "output_type": "stream",
     "text": [
      "[CV]  features__text__use_idf=False, features__text__norm=l1, features__text__ngram_range=(1, 1), features__text__max_features=5000, features__text__max_df=1.0, features__text__binary=False, score=0.43628157713282767, total= 1.2min\n",
      "[CV] features__text__use_idf=False, features__text__norm=l1, features__text__ngram_range=(1, 1), features__text__max_features=5000, features__text__max_df=1.0, features__text__binary=False \n",
      "[CV]  features__text__use_idf=False, features__text__norm=l1, features__text__ngram_range=(1, 1), features__text__max_features=5000, features__text__max_df=1.0, features__text__binary=False, score=0.4507734475914433, total= 1.2min\n",
      "[CV] features__text__use_idf=False, features__text__norm=None, features__text__ngram_range=(1, 2), features__text__max_features=3000, features__text__max_df=0.7, features__text__binary=False \n"
     ]
    },
    {
     "name": "stderr",
     "output_type": "stream",
     "text": [
      "C:\\Users\\David\\AppData\\Local\\Continuum\\miniconda3\\envs\\udadsnd-p5\\lib\\site-packages\\sklearn\\svm\\base.py:922: ConvergenceWarning: Liblinear failed to converge, increase the number of iterations.\n",
      "  \"the number of iterations.\", ConvergenceWarning)\n"
     ]
    },
    {
     "name": "stdout",
     "output_type": "stream",
     "text": [
      "[CV]  features__text__use_idf=False, features__text__norm=None, features__text__ngram_range=(1, 2), features__text__max_features=3000, features__text__max_df=0.7, features__text__binary=False, score=0.6053467648198374, total= 2.2min\n",
      "[CV] features__text__use_idf=False, features__text__norm=None, features__text__ngram_range=(1, 2), features__text__max_features=3000, features__text__max_df=0.7, features__text__binary=False \n"
     ]
    },
    {
     "name": "stderr",
     "output_type": "stream",
     "text": [
      "C:\\Users\\David\\AppData\\Local\\Continuum\\miniconda3\\envs\\udadsnd-p5\\lib\\site-packages\\sklearn\\svm\\base.py:922: ConvergenceWarning: Liblinear failed to converge, increase the number of iterations.\n",
      "  \"the number of iterations.\", ConvergenceWarning)\n"
     ]
    },
    {
     "name": "stdout",
     "output_type": "stream",
     "text": [
      "[CV]  features__text__use_idf=False, features__text__norm=None, features__text__ngram_range=(1, 2), features__text__max_features=3000, features__text__max_df=0.7, features__text__binary=False, score=0.6007670484396344, total= 2.2min\n",
      "[CV] features__text__use_idf=False, features__text__norm=None, features__text__ngram_range=(1, 2), features__text__max_features=3000, features__text__max_df=0.7, features__text__binary=False \n"
     ]
    },
    {
     "name": "stderr",
     "output_type": "stream",
     "text": [
      "C:\\Users\\David\\AppData\\Local\\Continuum\\miniconda3\\envs\\udadsnd-p5\\lib\\site-packages\\sklearn\\svm\\base.py:922: ConvergenceWarning: Liblinear failed to converge, increase the number of iterations.\n",
      "  \"the number of iterations.\", ConvergenceWarning)\n"
     ]
    },
    {
     "name": "stdout",
     "output_type": "stream",
     "text": [
      "[CV]  features__text__use_idf=False, features__text__norm=None, features__text__ngram_range=(1, 2), features__text__max_features=3000, features__text__max_df=0.7, features__text__binary=False, score=0.5999468932554435, total= 2.2min\n",
      "[CV] features__text__use_idf=False, features__text__norm=None, features__text__ngram_range=(1, 1), features__text__max_features=5000, features__text__max_df=0.5, features__text__binary=True \n",
      "[CV]  features__text__use_idf=False, features__text__norm=None, features__text__ngram_range=(1, 1), features__text__max_features=5000, features__text__max_df=0.5, features__text__binary=True, score=0.4477195536147501, total= 1.1min\n",
      "[CV] features__text__use_idf=False, features__text__norm=None, features__text__ngram_range=(1, 1), features__text__max_features=5000, features__text__max_df=0.5, features__text__binary=True \n"
     ]
    },
    {
     "name": "stderr",
     "output_type": "stream",
     "text": [
      "C:\\Users\\David\\AppData\\Local\\Continuum\\miniconda3\\envs\\udadsnd-p5\\lib\\site-packages\\sklearn\\svm\\base.py:922: ConvergenceWarning: Liblinear failed to converge, increase the number of iterations.\n",
      "  \"the number of iterations.\", ConvergenceWarning)\n"
     ]
    },
    {
     "name": "stdout",
     "output_type": "stream",
     "text": [
      "[CV]  features__text__use_idf=False, features__text__norm=None, features__text__ngram_range=(1, 1), features__text__max_features=5000, features__text__max_df=0.5, features__text__binary=True, score=0.4418209351917669, total= 1.1min\n",
      "[CV] features__text__use_idf=False, features__text__norm=None, features__text__ngram_range=(1, 1), features__text__max_features=5000, features__text__max_df=0.5, features__text__binary=True \n",
      "[CV]  features__text__use_idf=False, features__text__norm=None, features__text__ngram_range=(1, 1), features__text__max_features=5000, features__text__max_df=0.5, features__text__binary=True, score=0.4541622760800843, total= 1.0min\n",
      "[CV] features__text__use_idf=False, features__text__norm=l2, features__text__ngram_range=(1, 1), features__text__max_features=3000, features__text__max_df=0.5, features__text__binary=False \n",
      "[CV]  features__text__use_idf=False, features__text__norm=l2, features__text__ngram_range=(1, 1), features__text__max_features=3000, features__text__max_df=0.5, features__text__binary=False, score=0.4520783650798443, total= 1.0min\n",
      "[CV] features__text__use_idf=False, features__text__norm=l2, features__text__ngram_range=(1, 1), features__text__max_features=3000, features__text__max_df=0.5, features__text__binary=False \n",
      "[CV]  features__text__use_idf=False, features__text__norm=l2, features__text__ngram_range=(1, 1), features__text__max_features=3000, features__text__max_df=0.5, features__text__binary=False, score=0.45100433481897545, total= 1.0min\n",
      "[CV] features__text__use_idf=False, features__text__norm=l2, features__text__ngram_range=(1, 1), features__text__max_features=3000, features__text__max_df=0.5, features__text__binary=False \n",
      "[CV]  features__text__use_idf=False, features__text__norm=l2, features__text__ngram_range=(1, 1), features__text__max_features=3000, features__text__max_df=0.5, features__text__binary=False, score=0.45664078210562137, total= 1.1min\n",
      "[CV] features__text__use_idf=False, features__text__norm=l2, features__text__ngram_range=(1, 1), features__text__max_features=5000, features__text__max_df=0.7, features__text__binary=False \n",
      "[CV]  features__text__use_idf=False, features__text__norm=l2, features__text__ngram_range=(1, 1), features__text__max_features=5000, features__text__max_df=0.7, features__text__binary=False, score=0.45247217661010763, total= 1.1min\n",
      "[CV] features__text__use_idf=False, features__text__norm=l2, features__text__ngram_range=(1, 1), features__text__max_features=5000, features__text__max_df=0.7, features__text__binary=False \n",
      "[CV]  features__text__use_idf=False, features__text__norm=l2, features__text__ngram_range=(1, 1), features__text__max_features=5000, features__text__max_df=0.7, features__text__binary=False, score=0.45297622704097307, total= 1.1min\n",
      "[CV] features__text__use_idf=False, features__text__norm=l2, features__text__ngram_range=(1, 1), features__text__max_features=5000, features__text__max_df=0.7, features__text__binary=False \n",
      "[CV]  features__text__use_idf=False, features__text__norm=l2, features__text__ngram_range=(1, 1), features__text__max_features=5000, features__text__max_df=0.7, features__text__binary=False, score=0.4607427137857342, total= 1.1min\n",
      "[CV] features__text__use_idf=False, features__text__norm=l2, features__text__ngram_range=(1, 1), features__text__max_features=5000, features__text__max_df=0.7, features__text__binary=True \n",
      "[CV]  features__text__use_idf=False, features__text__norm=l2, features__text__ngram_range=(1, 1), features__text__max_features=5000, features__text__max_df=0.7, features__text__binary=True, score=0.45836858006042297, total= 1.1min\n",
      "[CV] features__text__use_idf=False, features__text__norm=l2, features__text__ngram_range=(1, 1), features__text__max_features=5000, features__text__max_df=0.7, features__text__binary=True \n",
      "[CV]  features__text__use_idf=False, features__text__norm=l2, features__text__ngram_range=(1, 1), features__text__max_features=5000, features__text__max_df=0.7, features__text__binary=True, score=0.4603261530972374, total= 1.1min\n",
      "[CV] features__text__use_idf=False, features__text__norm=l2, features__text__ngram_range=(1, 1), features__text__max_features=5000, features__text__max_df=0.7, features__text__binary=True \n",
      "[CV]  features__text__use_idf=False, features__text__norm=l2, features__text__ngram_range=(1, 1), features__text__max_features=5000, features__text__max_df=0.7, features__text__binary=True, score=0.466711747710088, total= 1.1min\n",
      "[CV] features__text__use_idf=False, features__text__norm=l1, features__text__ngram_range=(1, 2), features__text__max_features=5000, features__text__max_df=0.5, features__text__binary=False \n"
     ]
    },
    {
     "name": "stderr",
     "output_type": "stream",
     "text": [
      "C:\\Users\\David\\AppData\\Local\\Continuum\\miniconda3\\envs\\udadsnd-p5\\lib\\site-packages\\sklearn\\svm\\base.py:922: ConvergenceWarning: Liblinear failed to converge, increase the number of iterations.\n",
      "  \"the number of iterations.\", ConvergenceWarning)\n"
     ]
    },
    {
     "name": "stdout",
     "output_type": "stream",
     "text": [
      "[CV]  features__text__use_idf=False, features__text__norm=l1, features__text__ngram_range=(1, 2), features__text__max_features=5000, features__text__max_df=0.5, features__text__binary=False, score=0.4686640171201467, total= 1.5min\n",
      "[CV] features__text__use_idf=False, features__text__norm=l1, features__text__ngram_range=(1, 2), features__text__max_features=5000, features__text__max_df=0.5, features__text__binary=False \n"
     ]
    },
    {
     "name": "stderr",
     "output_type": "stream",
     "text": [
      "C:\\Users\\David\\AppData\\Local\\Continuum\\miniconda3\\envs\\udadsnd-p5\\lib\\site-packages\\sklearn\\svm\\base.py:922: ConvergenceWarning: Liblinear failed to converge, increase the number of iterations.\n",
      "  \"the number of iterations.\", ConvergenceWarning)\n"
     ]
    },
    {
     "name": "stdout",
     "output_type": "stream",
     "text": [
      "[CV]  features__text__use_idf=False, features__text__norm=l1, features__text__ngram_range=(1, 2), features__text__max_features=5000, features__text__max_df=0.5, features__text__binary=False, score=0.46575003096742235, total= 1.4min\n",
      "[CV] features__text__use_idf=False, features__text__norm=l1, features__text__ngram_range=(1, 2), features__text__max_features=5000, features__text__max_df=0.5, features__text__binary=False \n"
     ]
    },
    {
     "name": "stderr",
     "output_type": "stream",
     "text": [
      "C:\\Users\\David\\AppData\\Local\\Continuum\\miniconda3\\envs\\udadsnd-p5\\lib\\site-packages\\sklearn\\svm\\base.py:922: ConvergenceWarning: Liblinear failed to converge, increase the number of iterations.\n",
      "  \"the number of iterations.\", ConvergenceWarning)\n"
     ]
    },
    {
     "name": "stdout",
     "output_type": "stream",
     "text": [
      "[CV]  features__text__use_idf=False, features__text__norm=l1, features__text__ngram_range=(1, 2), features__text__max_features=5000, features__text__max_df=0.5, features__text__binary=False, score=0.4757963380988212, total= 1.5min\n",
      "[CV] features__text__use_idf=False, features__text__norm=None, features__text__ngram_range=(1, 2), features__text__max_features=5000, features__text__max_df=0.5, features__text__binary=True \n"
     ]
    },
    {
     "name": "stderr",
     "output_type": "stream",
     "text": [
      "C:\\Users\\David\\AppData\\Local\\Continuum\\miniconda3\\envs\\udadsnd-p5\\lib\\site-packages\\sklearn\\svm\\base.py:922: ConvergenceWarning: Liblinear failed to converge, increase the number of iterations.\n",
      "  \"the number of iterations.\", ConvergenceWarning)\n"
     ]
    },
    {
     "name": "stdout",
     "output_type": "stream",
     "text": [
      "[CV]  features__text__use_idf=False, features__text__norm=None, features__text__ngram_range=(1, 2), features__text__max_features=5000, features__text__max_df=0.5, features__text__binary=True, score=0.6132267629238106, total= 1.6min\n",
      "[CV] features__text__use_idf=False, features__text__norm=None, features__text__ngram_range=(1, 2), features__text__max_features=5000, features__text__max_df=0.5, features__text__binary=True \n"
     ]
    },
    {
     "name": "stderr",
     "output_type": "stream",
     "text": [
      "C:\\Users\\David\\AppData\\Local\\Continuum\\miniconda3\\envs\\udadsnd-p5\\lib\\site-packages\\sklearn\\svm\\base.py:922: ConvergenceWarning: Liblinear failed to converge, increase the number of iterations.\n",
      "  \"the number of iterations.\", ConvergenceWarning)\n"
     ]
    },
    {
     "name": "stdout",
     "output_type": "stream",
     "text": [
      "[CV]  features__text__use_idf=False, features__text__norm=None, features__text__ngram_range=(1, 2), features__text__max_features=5000, features__text__max_df=0.5, features__text__binary=True, score=0.6035655889023683, total= 1.7min\n",
      "[CV] features__text__use_idf=False, features__text__norm=None, features__text__ngram_range=(1, 2), features__text__max_features=5000, features__text__max_df=0.5, features__text__binary=True \n"
     ]
    },
    {
     "name": "stderr",
     "output_type": "stream",
     "text": [
      "C:\\Users\\David\\AppData\\Local\\Continuum\\miniconda3\\envs\\udadsnd-p5\\lib\\site-packages\\sklearn\\svm\\base.py:922: ConvergenceWarning: Liblinear failed to converge, increase the number of iterations.\n",
      "  \"the number of iterations.\", ConvergenceWarning)\n"
     ]
    },
    {
     "name": "stdout",
     "output_type": "stream",
     "text": [
      "[CV]  features__text__use_idf=False, features__text__norm=None, features__text__ngram_range=(1, 2), features__text__max_features=5000, features__text__max_df=0.5, features__text__binary=True, score=0.6100461437046802, total= 1.6min\n",
      "[CV] features__text__use_idf=False, features__text__norm=l2, features__text__ngram_range=(1, 1), features__text__max_features=3000, features__text__max_df=0.7, features__text__binary=True \n",
      "[CV]  features__text__use_idf=False, features__text__norm=l2, features__text__ngram_range=(1, 1), features__text__max_features=3000, features__text__max_df=0.7, features__text__binary=True, score=0.45836858006042297, total= 1.1min\n",
      "[CV] features__text__use_idf=False, features__text__norm=l2, features__text__ngram_range=(1, 1), features__text__max_features=3000, features__text__max_df=0.7, features__text__binary=True \n",
      "[CV]  features__text__use_idf=False, features__text__norm=l2, features__text__ngram_range=(1, 1), features__text__max_features=3000, features__text__max_df=0.7, features__text__binary=True, score=0.4603261530972374, total= 1.1min\n",
      "[CV] features__text__use_idf=False, features__text__norm=l2, features__text__ngram_range=(1, 1), features__text__max_features=3000, features__text__max_df=0.7, features__text__binary=True \n",
      "[CV]  features__text__use_idf=False, features__text__norm=l2, features__text__ngram_range=(1, 1), features__text__max_features=3000, features__text__max_df=0.7, features__text__binary=True, score=0.466711747710088, total= 1.1min\n",
      "[CV] features__text__use_idf=False, features__text__norm=l1, features__text__ngram_range=(1, 2), features__text__max_features=3000, features__text__max_df=0.7, features__text__binary=False \n",
      "[CV]  features__text__use_idf=False, features__text__norm=l1, features__text__ngram_range=(1, 2), features__text__max_features=3000, features__text__max_df=0.7, features__text__binary=False, score=0.4610423512791376, total= 1.5min\n",
      "[CV] features__text__use_idf=False, features__text__norm=l1, features__text__ngram_range=(1, 2), features__text__max_features=3000, features__text__max_df=0.7, features__text__binary=False \n",
      "[CV]  features__text__use_idf=False, features__text__norm=l1, features__text__ngram_range=(1, 2), features__text__max_features=3000, features__text__max_df=0.7, features__text__binary=False, score=0.45696867904575283, total= 1.5min\n",
      "[CV] features__text__use_idf=False, features__text__norm=l1, features__text__ngram_range=(1, 2), features__text__max_features=3000, features__text__max_df=0.7, features__text__binary=False \n"
     ]
    },
    {
     "name": "stderr",
     "output_type": "stream",
     "text": [
      "C:\\Users\\David\\AppData\\Local\\Continuum\\miniconda3\\envs\\udadsnd-p5\\lib\\site-packages\\sklearn\\svm\\base.py:922: ConvergenceWarning: Liblinear failed to converge, increase the number of iterations.\n",
      "  \"the number of iterations.\", ConvergenceWarning)\n"
     ]
    },
    {
     "name": "stdout",
     "output_type": "stream",
     "text": [
      "[CV]  features__text__use_idf=False, features__text__norm=l1, features__text__ngram_range=(1, 2), features__text__max_features=3000, features__text__max_df=0.7, features__text__binary=False, score=0.4647114474929044, total= 1.5min\n",
      "[CV] features__text__use_idf=False, features__text__norm=l2, features__text__ngram_range=(1, 2), features__text__max_features=3000, features__text__max_df=0.7, features__text__binary=True \n"
     ]
    },
    {
     "name": "stderr",
     "output_type": "stream",
     "text": [
      "C:\\Users\\David\\AppData\\Local\\Continuum\\miniconda3\\envs\\udadsnd-p5\\lib\\site-packages\\sklearn\\svm\\base.py:922: ConvergenceWarning: Liblinear failed to converge, increase the number of iterations.\n",
      "  \"the number of iterations.\", ConvergenceWarning)\n"
     ]
    },
    {
     "name": "stdout",
     "output_type": "stream",
     "text": [
      "[CV]  features__text__use_idf=False, features__text__norm=l2, features__text__ngram_range=(1, 2), features__text__max_features=3000, features__text__max_df=0.7, features__text__binary=True, score=0.5961803071165171, total= 1.6min\n",
      "[CV] features__text__use_idf=False, features__text__norm=l2, features__text__ngram_range=(1, 2), features__text__max_features=3000, features__text__max_df=0.7, features__text__binary=True \n",
      "[CV]  features__text__use_idf=False, features__text__norm=l2, features__text__ngram_range=(1, 2), features__text__max_features=3000, features__text__max_df=0.7, features__text__binary=True, score=0.5925822487851198, total= 1.6min\n",
      "[CV] features__text__use_idf=False, features__text__norm=l2, features__text__ngram_range=(1, 2), features__text__max_features=3000, features__text__max_df=0.7, features__text__binary=True \n"
     ]
    },
    {
     "name": "stderr",
     "output_type": "stream",
     "text": [
      "C:\\Users\\David\\AppData\\Local\\Continuum\\miniconda3\\envs\\udadsnd-p5\\lib\\site-packages\\sklearn\\svm\\base.py:922: ConvergenceWarning: Liblinear failed to converge, increase the number of iterations.\n",
      "  \"the number of iterations.\", ConvergenceWarning)\n"
     ]
    },
    {
     "name": "stdout",
     "output_type": "stream",
     "text": [
      "[CV]  features__text__use_idf=False, features__text__norm=l2, features__text__ngram_range=(1, 2), features__text__max_features=3000, features__text__max_df=0.7, features__text__binary=True, score=0.5970233876683203, total= 1.6min\n",
      "[CV] features__text__use_idf=False, features__text__norm=None, features__text__ngram_range=(1, 1), features__text__max_features=5000, features__text__max_df=1.0, features__text__binary=False \n",
      "[CV]  features__text__use_idf=False, features__text__norm=None, features__text__ngram_range=(1, 1), features__text__max_features=5000, features__text__max_df=1.0, features__text__binary=False, score=0.47979500471253533, total= 1.3min\n",
      "[CV] features__text__use_idf=False, features__text__norm=None, features__text__ngram_range=(1, 1), features__text__max_features=5000, features__text__max_df=1.0, features__text__binary=False \n",
      "[CV]  features__text__use_idf=False, features__text__norm=None, features__text__ngram_range=(1, 1), features__text__max_features=5000, features__text__max_df=1.0, features__text__binary=False, score=0.4766700435015792, total= 1.3min\n",
      "[CV] features__text__use_idf=False, features__text__norm=None, features__text__ngram_range=(1, 1), features__text__max_features=5000, features__text__max_df=1.0, features__text__binary=False \n"
     ]
    },
    {
     "name": "stderr",
     "output_type": "stream",
     "text": [
      "C:\\Users\\David\\AppData\\Local\\Continuum\\miniconda3\\envs\\udadsnd-p5\\lib\\site-packages\\sklearn\\svm\\base.py:922: ConvergenceWarning: Liblinear failed to converge, increase the number of iterations.\n",
      "  \"the number of iterations.\", ConvergenceWarning)\n"
     ]
    },
    {
     "name": "stdout",
     "output_type": "stream",
     "text": [
      "[CV]  features__text__use_idf=False, features__text__norm=None, features__text__ngram_range=(1, 1), features__text__max_features=5000, features__text__max_df=1.0, features__text__binary=False, score=0.47465842648974516, total= 1.3min\n",
      "[CV] features__text__use_idf=False, features__text__norm=l1, features__text__ngram_range=(1, 1), features__text__max_features=3000, features__text__max_df=0.7, features__text__binary=True \n",
      "[CV]  features__text__use_idf=False, features__text__norm=l1, features__text__ngram_range=(1, 1), features__text__max_features=3000, features__text__max_df=0.7, features__text__binary=True, score=0.44048349490735056, total= 1.1min\n",
      "[CV] features__text__use_idf=False, features__text__norm=l1, features__text__ngram_range=(1, 1), features__text__max_features=3000, features__text__max_df=0.7, features__text__binary=True \n",
      "[CV]  features__text__use_idf=False, features__text__norm=l1, features__text__ngram_range=(1, 1), features__text__max_features=3000, features__text__max_df=0.7, features__text__binary=True, score=0.4373116241493956, total= 1.1min\n",
      "[CV] features__text__use_idf=False, features__text__norm=l1, features__text__ngram_range=(1, 1), features__text__max_features=3000, features__text__max_df=0.7, features__text__binary=True \n",
      "[CV]  features__text__use_idf=False, features__text__norm=l1, features__text__ngram_range=(1, 1), features__text__max_features=3000, features__text__max_df=0.7, features__text__binary=True, score=0.44893863857272753, total= 1.1min\n",
      "[CV] features__text__use_idf=False, features__text__norm=l2, features__text__ngram_range=(1, 2), features__text__max_features=5000, features__text__max_df=1.0, features__text__binary=False \n"
     ]
    },
    {
     "name": "stderr",
     "output_type": "stream",
     "text": [
      "C:\\Users\\David\\AppData\\Local\\Continuum\\miniconda3\\envs\\udadsnd-p5\\lib\\site-packages\\sklearn\\svm\\base.py:922: ConvergenceWarning: Liblinear failed to converge, increase the number of iterations.\n",
      "  \"the number of iterations.\", ConvergenceWarning)\n"
     ]
    },
    {
     "name": "stdout",
     "output_type": "stream",
     "text": [
      "[CV]  features__text__use_idf=False, features__text__norm=l2, features__text__ngram_range=(1, 2), features__text__max_features=5000, features__text__max_df=1.0, features__text__binary=False, score=0.5520478548327085, total= 1.8min\n",
      "[CV] features__text__use_idf=False, features__text__norm=l2, features__text__ngram_range=(1, 2), features__text__max_features=5000, features__text__max_df=1.0, features__text__binary=False \n"
     ]
    },
    {
     "name": "stderr",
     "output_type": "stream",
     "text": [
      "C:\\Users\\David\\AppData\\Local\\Continuum\\miniconda3\\envs\\udadsnd-p5\\lib\\site-packages\\sklearn\\svm\\base.py:922: ConvergenceWarning: Liblinear failed to converge, increase the number of iterations.\n",
      "  \"the number of iterations.\", ConvergenceWarning)\n"
     ]
    },
    {
     "name": "stdout",
     "output_type": "stream",
     "text": [
      "[CV]  features__text__use_idf=False, features__text__norm=l2, features__text__ngram_range=(1, 2), features__text__max_features=5000, features__text__max_df=1.0, features__text__binary=False, score=0.5474762764161378, total= 1.7min\n",
      "[CV] features__text__use_idf=False, features__text__norm=l2, features__text__ngram_range=(1, 2), features__text__max_features=5000, features__text__max_df=1.0, features__text__binary=False \n"
     ]
    },
    {
     "name": "stderr",
     "output_type": "stream",
     "text": [
      "C:\\Users\\David\\AppData\\Local\\Continuum\\miniconda3\\envs\\udadsnd-p5\\lib\\site-packages\\sklearn\\svm\\base.py:922: ConvergenceWarning: Liblinear failed to converge, increase the number of iterations.\n",
      "  \"the number of iterations.\", ConvergenceWarning)\n"
     ]
    },
    {
     "name": "stdout",
     "output_type": "stream",
     "text": [
      "[CV]  features__text__use_idf=False, features__text__norm=l2, features__text__ngram_range=(1, 2), features__text__max_features=5000, features__text__max_df=1.0, features__text__binary=False, score=0.5515305519442146, total= 1.9min\n",
      "[CV] features__text__use_idf=False, features__text__norm=l2, features__text__ngram_range=(1, 2), features__text__max_features=5000, features__text__max_df=0.5, features__text__binary=True \n"
     ]
    },
    {
     "name": "stderr",
     "output_type": "stream",
     "text": [
      "C:\\Users\\David\\AppData\\Local\\Continuum\\miniconda3\\envs\\udadsnd-p5\\lib\\site-packages\\sklearn\\svm\\base.py:922: ConvergenceWarning: Liblinear failed to converge, increase the number of iterations.\n",
      "  \"the number of iterations.\", ConvergenceWarning)\n"
     ]
    },
    {
     "name": "stdout",
     "output_type": "stream",
     "text": [
      "[CV]  features__text__use_idf=False, features__text__norm=l2, features__text__ngram_range=(1, 2), features__text__max_features=5000, features__text__max_df=0.5, features__text__binary=True, score=0.5953979962567434, total= 1.5min\n",
      "[CV] features__text__use_idf=False, features__text__norm=l2, features__text__ngram_range=(1, 2), features__text__max_features=5000, features__text__max_df=0.5, features__text__binary=True \n"
     ]
    },
    {
     "name": "stderr",
     "output_type": "stream",
     "text": [
      "C:\\Users\\David\\AppData\\Local\\Continuum\\miniconda3\\envs\\udadsnd-p5\\lib\\site-packages\\sklearn\\svm\\base.py:922: ConvergenceWarning: Liblinear failed to converge, increase the number of iterations.\n",
      "  \"the number of iterations.\", ConvergenceWarning)\n"
     ]
    },
    {
     "name": "stdout",
     "output_type": "stream",
     "text": [
      "[CV]  features__text__use_idf=False, features__text__norm=l2, features__text__ngram_range=(1, 2), features__text__max_features=5000, features__text__max_df=0.5, features__text__binary=True, score=0.5938440950150552, total= 1.5min\n",
      "[CV] features__text__use_idf=False, features__text__norm=l2, features__text__ngram_range=(1, 2), features__text__max_features=5000, features__text__max_df=0.5, features__text__binary=True \n",
      "[CV]  features__text__use_idf=False, features__text__norm=l2, features__text__ngram_range=(1, 2), features__text__max_features=5000, features__text__max_df=0.5, features__text__binary=True, score=0.5990890316009845, total= 1.5min\n",
      "[CV] features__text__use_idf=False, features__text__norm=None, features__text__ngram_range=(1, 2), features__text__max_features=5000, features__text__max_df=0.7, features__text__binary=False \n"
     ]
    },
    {
     "name": "stderr",
     "output_type": "stream",
     "text": [
      "C:\\Users\\David\\AppData\\Local\\Continuum\\miniconda3\\envs\\udadsnd-p5\\lib\\site-packages\\sklearn\\svm\\base.py:922: ConvergenceWarning: Liblinear failed to converge, increase the number of iterations.\n",
      "  \"the number of iterations.\", ConvergenceWarning)\n"
     ]
    },
    {
     "name": "stdout",
     "output_type": "stream",
     "text": [
      "[CV]  features__text__use_idf=False, features__text__norm=None, features__text__ngram_range=(1, 2), features__text__max_features=5000, features__text__max_df=0.7, features__text__binary=False, score=0.6053467648198374, total= 2.2min\n",
      "[CV] features__text__use_idf=False, features__text__norm=None, features__text__ngram_range=(1, 2), features__text__max_features=5000, features__text__max_df=0.7, features__text__binary=False \n"
     ]
    },
    {
     "name": "stderr",
     "output_type": "stream",
     "text": [
      "C:\\Users\\David\\AppData\\Local\\Continuum\\miniconda3\\envs\\udadsnd-p5\\lib\\site-packages\\sklearn\\svm\\base.py:922: ConvergenceWarning: Liblinear failed to converge, increase the number of iterations.\n",
      "  \"the number of iterations.\", ConvergenceWarning)\n"
     ]
    },
    {
     "name": "stdout",
     "output_type": "stream",
     "text": [
      "[CV]  features__text__use_idf=False, features__text__norm=None, features__text__ngram_range=(1, 2), features__text__max_features=5000, features__text__max_df=0.7, features__text__binary=False, score=0.6007670484396344, total= 2.2min\n",
      "[CV] features__text__use_idf=False, features__text__norm=None, features__text__ngram_range=(1, 2), features__text__max_features=5000, features__text__max_df=0.7, features__text__binary=False \n"
     ]
    },
    {
     "name": "stderr",
     "output_type": "stream",
     "text": [
      "C:\\Users\\David\\AppData\\Local\\Continuum\\miniconda3\\envs\\udadsnd-p5\\lib\\site-packages\\sklearn\\svm\\base.py:922: ConvergenceWarning: Liblinear failed to converge, increase the number of iterations.\n",
      "  \"the number of iterations.\", ConvergenceWarning)\n"
     ]
    },
    {
     "name": "stdout",
     "output_type": "stream",
     "text": [
      "[CV]  features__text__use_idf=False, features__text__norm=None, features__text__ngram_range=(1, 2), features__text__max_features=5000, features__text__max_df=0.7, features__text__binary=False, score=0.5999468932554435, total= 2.1min\n",
      "[CV] features__text__use_idf=False, features__text__norm=l2, features__text__ngram_range=(1, 2), features__text__max_features=5000, features__text__max_df=0.7, features__text__binary=False \n",
      "[CV]  features__text__use_idf=False, features__text__norm=l2, features__text__ngram_range=(1, 2), features__text__max_features=5000, features__text__max_df=0.7, features__text__binary=False, score=0.5897698634689413, total= 1.6min\n",
      "[CV] features__text__use_idf=False, features__text__norm=l2, features__text__ngram_range=(1, 2), features__text__max_features=5000, features__text__max_df=0.7, features__text__binary=False \n"
     ]
    },
    {
     "name": "stderr",
     "output_type": "stream",
     "text": [
      "C:\\Users\\David\\AppData\\Local\\Continuum\\miniconda3\\envs\\udadsnd-p5\\lib\\site-packages\\sklearn\\svm\\base.py:922: ConvergenceWarning: Liblinear failed to converge, increase the number of iterations.\n",
      "  \"the number of iterations.\", ConvergenceWarning)\n"
     ]
    },
    {
     "name": "stdout",
     "output_type": "stream",
     "text": [
      "[CV]  features__text__use_idf=False, features__text__norm=l2, features__text__ngram_range=(1, 2), features__text__max_features=5000, features__text__max_df=0.7, features__text__binary=False, score=0.5906243007384201, total= 1.6min\n",
      "[CV] features__text__use_idf=False, features__text__norm=l2, features__text__ngram_range=(1, 2), features__text__max_features=5000, features__text__max_df=0.7, features__text__binary=False \n"
     ]
    },
    {
     "name": "stderr",
     "output_type": "stream",
     "text": [
      "C:\\Users\\David\\AppData\\Local\\Continuum\\miniconda3\\envs\\udadsnd-p5\\lib\\site-packages\\sklearn\\svm\\base.py:922: ConvergenceWarning: Liblinear failed to converge, increase the number of iterations.\n",
      "  \"the number of iterations.\", ConvergenceWarning)\n"
     ]
    },
    {
     "name": "stdout",
     "output_type": "stream",
     "text": [
      "[CV]  features__text__use_idf=False, features__text__norm=l2, features__text__ngram_range=(1, 2), features__text__max_features=5000, features__text__max_df=0.7, features__text__binary=False, score=0.5952340328726611, total= 1.6min\n",
      "[CV] features__text__use_idf=False, features__text__norm=l1, features__text__ngram_range=(1, 1), features__text__max_features=3000, features__text__max_df=1.0, features__text__binary=False \n",
      "[CV]  features__text__use_idf=False, features__text__norm=l1, features__text__ngram_range=(1, 1), features__text__max_features=3000, features__text__max_df=1.0, features__text__binary=False, score=0.44345706439569255, total= 1.2min\n",
      "[CV] features__text__use_idf=False, features__text__norm=l1, features__text__ngram_range=(1, 1), features__text__max_features=3000, features__text__max_df=1.0, features__text__binary=False \n"
     ]
    },
    {
     "name": "stderr",
     "output_type": "stream",
     "text": [
      "C:\\Users\\David\\AppData\\Local\\Continuum\\miniconda3\\envs\\udadsnd-p5\\lib\\site-packages\\sklearn\\svm\\base.py:922: ConvergenceWarning: Liblinear failed to converge, increase the number of iterations.\n",
      "  \"the number of iterations.\", ConvergenceWarning)\n"
     ]
    },
    {
     "name": "stdout",
     "output_type": "stream",
     "text": [
      "[CV]  features__text__use_idf=False, features__text__norm=l1, features__text__ngram_range=(1, 1), features__text__max_features=3000, features__text__max_df=1.0, features__text__binary=False, score=0.43628157713282767, total= 1.1min\n",
      "[CV] features__text__use_idf=False, features__text__norm=l1, features__text__ngram_range=(1, 1), features__text__max_features=3000, features__text__max_df=1.0, features__text__binary=False \n",
      "[CV]  features__text__use_idf=False, features__text__norm=l1, features__text__ngram_range=(1, 1), features__text__max_features=3000, features__text__max_df=1.0, features__text__binary=False, score=0.4507734475914433, total= 1.2min\n",
      "[CV] features__text__use_idf=False, features__text__norm=l1, features__text__ngram_range=(1, 2), features__text__max_features=3000, features__text__max_df=0.5, features__text__binary=False \n"
     ]
    },
    {
     "name": "stderr",
     "output_type": "stream",
     "text": [
      "C:\\Users\\David\\AppData\\Local\\Continuum\\miniconda3\\envs\\udadsnd-p5\\lib\\site-packages\\sklearn\\svm\\base.py:922: ConvergenceWarning: Liblinear failed to converge, increase the number of iterations.\n",
      "  \"the number of iterations.\", ConvergenceWarning)\n"
     ]
    },
    {
     "name": "stdout",
     "output_type": "stream",
     "text": [
      "[CV]  features__text__use_idf=False, features__text__norm=l1, features__text__ngram_range=(1, 2), features__text__max_features=3000, features__text__max_df=0.5, features__text__binary=False, score=0.4686640171201467, total= 1.5min\n",
      "[CV] features__text__use_idf=False, features__text__norm=l1, features__text__ngram_range=(1, 2), features__text__max_features=3000, features__text__max_df=0.5, features__text__binary=False \n"
     ]
    },
    {
     "name": "stderr",
     "output_type": "stream",
     "text": [
      "C:\\Users\\David\\AppData\\Local\\Continuum\\miniconda3\\envs\\udadsnd-p5\\lib\\site-packages\\sklearn\\svm\\base.py:922: ConvergenceWarning: Liblinear failed to converge, increase the number of iterations.\n",
      "  \"the number of iterations.\", ConvergenceWarning)\n"
     ]
    },
    {
     "name": "stdout",
     "output_type": "stream",
     "text": [
      "[CV]  features__text__use_idf=False, features__text__norm=l1, features__text__ngram_range=(1, 2), features__text__max_features=3000, features__text__max_df=0.5, features__text__binary=False, score=0.46575003096742235, total= 1.4min\n",
      "[CV] features__text__use_idf=False, features__text__norm=l1, features__text__ngram_range=(1, 2), features__text__max_features=3000, features__text__max_df=0.5, features__text__binary=False \n"
     ]
    },
    {
     "name": "stderr",
     "output_type": "stream",
     "text": [
      "C:\\Users\\David\\AppData\\Local\\Continuum\\miniconda3\\envs\\udadsnd-p5\\lib\\site-packages\\sklearn\\svm\\base.py:922: ConvergenceWarning: Liblinear failed to converge, increase the number of iterations.\n",
      "  \"the number of iterations.\", ConvergenceWarning)\n"
     ]
    },
    {
     "name": "stdout",
     "output_type": "stream",
     "text": [
      "[CV]  features__text__use_idf=False, features__text__norm=l1, features__text__ngram_range=(1, 2), features__text__max_features=3000, features__text__max_df=0.5, features__text__binary=False, score=0.4757963380988212, total= 1.5min\n",
      "[CV] features__text__use_idf=False, features__text__norm=None, features__text__ngram_range=(1, 1), features__text__max_features=5000, features__text__max_df=0.7, features__text__binary=False \n",
      "[CV]  features__text__use_idf=False, features__text__norm=None, features__text__ngram_range=(1, 1), features__text__max_features=5000, features__text__max_df=0.7, features__text__binary=False, score=0.443970507586375, total= 1.1min\n",
      "[CV] features__text__use_idf=False, features__text__norm=None, features__text__ngram_range=(1, 1), features__text__max_features=5000, features__text__max_df=0.7, features__text__binary=False \n",
      "[CV]  features__text__use_idf=False, features__text__norm=None, features__text__ngram_range=(1, 1), features__text__max_features=5000, features__text__max_df=0.7, features__text__binary=False, score=0.446680823561998, total= 1.1min\n",
      "[CV] features__text__use_idf=False, features__text__norm=None, features__text__ngram_range=(1, 1), features__text__max_features=5000, features__text__max_df=0.7, features__text__binary=False \n",
      "[CV]  features__text__use_idf=False, features__text__norm=None, features__text__ngram_range=(1, 1), features__text__max_features=5000, features__text__max_df=0.7, features__text__binary=False, score=0.45625445198055065, total= 1.1min\n",
      "[CV] features__text__use_idf=False, features__text__norm=None, features__text__ngram_range=(1, 1), features__text__max_features=3000, features__text__max_df=0.7, features__text__binary=False \n",
      "[CV]  features__text__use_idf=False, features__text__norm=None, features__text__ngram_range=(1, 1), features__text__max_features=3000, features__text__max_df=0.7, features__text__binary=False, score=0.443970507586375, total= 1.1min\n",
      "[CV] features__text__use_idf=False, features__text__norm=None, features__text__ngram_range=(1, 1), features__text__max_features=3000, features__text__max_df=0.7, features__text__binary=False \n",
      "[CV]  features__text__use_idf=False, features__text__norm=None, features__text__ngram_range=(1, 1), features__text__max_features=3000, features__text__max_df=0.7, features__text__binary=False, score=0.446680823561998, total= 1.1min\n",
      "[CV] features__text__use_idf=False, features__text__norm=None, features__text__ngram_range=(1, 1), features__text__max_features=3000, features__text__max_df=0.7, features__text__binary=False \n",
      "[CV]  features__text__use_idf=False, features__text__norm=None, features__text__ngram_range=(1, 1), features__text__max_features=3000, features__text__max_df=0.7, features__text__binary=False, score=0.45625445198055065, total= 1.1min\n",
      "[CV] features__text__use_idf=False, features__text__norm=l1, features__text__ngram_range=(1, 1), features__text__max_features=5000, features__text__max_df=0.7, features__text__binary=True \n",
      "[CV]  features__text__use_idf=False, features__text__norm=l1, features__text__ngram_range=(1, 1), features__text__max_features=5000, features__text__max_df=0.7, features__text__binary=True, score=0.44048349490735056, total= 1.1min\n",
      "[CV] features__text__use_idf=False, features__text__norm=l1, features__text__ngram_range=(1, 1), features__text__max_features=5000, features__text__max_df=0.7, features__text__binary=True \n",
      "[CV]  features__text__use_idf=False, features__text__norm=l1, features__text__ngram_range=(1, 1), features__text__max_features=5000, features__text__max_df=0.7, features__text__binary=True, score=0.4373116241493956, total= 1.1min\n",
      "[CV] features__text__use_idf=False, features__text__norm=l1, features__text__ngram_range=(1, 1), features__text__max_features=5000, features__text__max_df=0.7, features__text__binary=True \n",
      "[CV]  features__text__use_idf=False, features__text__norm=l1, features__text__ngram_range=(1, 1), features__text__max_features=5000, features__text__max_df=0.7, features__text__binary=True, score=0.44893863857272753, total= 1.1min\n",
      "[CV] features__text__use_idf=False, features__text__norm=l1, features__text__ngram_range=(1, 2), features__text__max_features=5000, features__text__max_df=0.7, features__text__binary=True \n"
     ]
    },
    {
     "name": "stderr",
     "output_type": "stream",
     "text": [
      "C:\\Users\\David\\AppData\\Local\\Continuum\\miniconda3\\envs\\udadsnd-p5\\lib\\site-packages\\sklearn\\svm\\base.py:922: ConvergenceWarning: Liblinear failed to converge, increase the number of iterations.\n",
      "  \"the number of iterations.\", ConvergenceWarning)\n"
     ]
    },
    {
     "name": "stdout",
     "output_type": "stream",
     "text": [
      "[CV]  features__text__use_idf=False, features__text__norm=l1, features__text__ngram_range=(1, 2), features__text__max_features=5000, features__text__max_df=0.7, features__text__binary=True, score=0.44743935309973043, total= 1.5min\n",
      "[CV] features__text__use_idf=False, features__text__norm=l1, features__text__ngram_range=(1, 2), features__text__max_features=5000, features__text__max_df=0.7, features__text__binary=True \n"
     ]
    },
    {
     "name": "stderr",
     "output_type": "stream",
     "text": [
      "C:\\Users\\David\\AppData\\Local\\Continuum\\miniconda3\\envs\\udadsnd-p5\\lib\\site-packages\\sklearn\\svm\\base.py:922: ConvergenceWarning: Liblinear failed to converge, increase the number of iterations.\n",
      "  \"the number of iterations.\", ConvergenceWarning)\n"
     ]
    },
    {
     "name": "stdout",
     "output_type": "stream",
     "text": [
      "[CV]  features__text__use_idf=False, features__text__norm=l1, features__text__ngram_range=(1, 2), features__text__max_features=5000, features__text__max_df=0.7, features__text__binary=True, score=0.4458666666666667, total= 1.5min\n",
      "[CV] features__text__use_idf=False, features__text__norm=l1, features__text__ngram_range=(1, 2), features__text__max_features=5000, features__text__max_df=0.7, features__text__binary=True \n"
     ]
    },
    {
     "name": "stderr",
     "output_type": "stream",
     "text": [
      "C:\\Users\\David\\AppData\\Local\\Continuum\\miniconda3\\envs\\udadsnd-p5\\lib\\site-packages\\sklearn\\svm\\base.py:922: ConvergenceWarning: Liblinear failed to converge, increase the number of iterations.\n",
      "  \"the number of iterations.\", ConvergenceWarning)\n"
     ]
    },
    {
     "name": "stdout",
     "output_type": "stream",
     "text": [
      "[CV]  features__text__use_idf=False, features__text__norm=l1, features__text__ngram_range=(1, 2), features__text__max_features=5000, features__text__max_df=0.7, features__text__binary=True, score=0.4584165636196455, total= 1.5min\n",
      "[CV] features__text__use_idf=False, features__text__norm=l2, features__text__ngram_range=(1, 2), features__text__max_features=5000, features__text__max_df=0.5, features__text__binary=False \n",
      "[CV]  features__text__use_idf=False, features__text__norm=l2, features__text__ngram_range=(1, 2), features__text__max_features=5000, features__text__max_df=0.5, features__text__binary=False, score=0.5933151470061447, total= 1.5min\n",
      "[CV] features__text__use_idf=False, features__text__norm=l2, features__text__ngram_range=(1, 2), features__text__max_features=5000, features__text__max_df=0.5, features__text__binary=False \n"
     ]
    },
    {
     "name": "stderr",
     "output_type": "stream",
     "text": [
      "C:\\Users\\David\\AppData\\Local\\Continuum\\miniconda3\\envs\\udadsnd-p5\\lib\\site-packages\\sklearn\\svm\\base.py:922: ConvergenceWarning: Liblinear failed to converge, increase the number of iterations.\n",
      "  \"the number of iterations.\", ConvergenceWarning)\n"
     ]
    },
    {
     "name": "stdout",
     "output_type": "stream",
     "text": [
      "[CV]  features__text__use_idf=False, features__text__norm=l2, features__text__ngram_range=(1, 2), features__text__max_features=5000, features__text__max_df=0.5, features__text__binary=False, score=0.5965584235359424, total= 1.5min\n",
      "[CV] features__text__use_idf=False, features__text__norm=l2, features__text__ngram_range=(1, 2), features__text__max_features=5000, features__text__max_df=0.5, features__text__binary=False \n"
     ]
    },
    {
     "name": "stderr",
     "output_type": "stream",
     "text": [
      "C:\\Users\\David\\AppData\\Local\\Continuum\\miniconda3\\envs\\udadsnd-p5\\lib\\site-packages\\sklearn\\svm\\base.py:922: ConvergenceWarning: Liblinear failed to converge, increase the number of iterations.\n",
      "  \"the number of iterations.\", ConvergenceWarning)\n"
     ]
    },
    {
     "name": "stdout",
     "output_type": "stream",
     "text": [
      "[CV]  features__text__use_idf=False, features__text__norm=l2, features__text__ngram_range=(1, 2), features__text__max_features=5000, features__text__max_df=0.5, features__text__binary=False, score=0.5974011235317482, total= 1.5min\n",
      "[CV] features__text__use_idf=False, features__text__norm=l1, features__text__ngram_range=(1, 1), features__text__max_features=5000, features__text__max_df=1.0, features__text__binary=True \n"
     ]
    },
    {
     "name": "stderr",
     "output_type": "stream",
     "text": [
      "C:\\Users\\David\\AppData\\Local\\Continuum\\miniconda3\\envs\\udadsnd-p5\\lib\\site-packages\\sklearn\\svm\\base.py:922: ConvergenceWarning: Liblinear failed to converge, increase the number of iterations.\n",
      "  \"the number of iterations.\", ConvergenceWarning)\n"
     ]
    },
    {
     "name": "stdout",
     "output_type": "stream",
     "text": [
      "[CV]  features__text__use_idf=False, features__text__norm=l1, features__text__ngram_range=(1, 1), features__text__max_features=5000, features__text__max_df=1.0, features__text__binary=True, score=0.4272866856766835, total= 1.2min\n",
      "[CV] features__text__use_idf=False, features__text__norm=l1, features__text__ngram_range=(1, 1), features__text__max_features=5000, features__text__max_df=1.0, features__text__binary=True \n"
     ]
    },
    {
     "name": "stderr",
     "output_type": "stream",
     "text": [
      "C:\\Users\\David\\AppData\\Local\\Continuum\\miniconda3\\envs\\udadsnd-p5\\lib\\site-packages\\sklearn\\svm\\base.py:922: ConvergenceWarning: Liblinear failed to converge, increase the number of iterations.\n",
      "  \"the number of iterations.\", ConvergenceWarning)\n"
     ]
    },
    {
     "name": "stdout",
     "output_type": "stream",
     "text": [
      "[CV]  features__text__use_idf=False, features__text__norm=l1, features__text__ngram_range=(1, 1), features__text__max_features=5000, features__text__max_df=1.0, features__text__binary=True, score=0.42863019333607566, total= 1.2min\n",
      "[CV] features__text__use_idf=False, features__text__norm=l1, features__text__ngram_range=(1, 1), features__text__max_features=5000, features__text__max_df=1.0, features__text__binary=True \n"
     ]
    },
    {
     "name": "stderr",
     "output_type": "stream",
     "text": [
      "C:\\Users\\David\\AppData\\Local\\Continuum\\miniconda3\\envs\\udadsnd-p5\\lib\\site-packages\\sklearn\\svm\\base.py:922: ConvergenceWarning: Liblinear failed to converge, increase the number of iterations.\n",
      "  \"the number of iterations.\", ConvergenceWarning)\n"
     ]
    },
    {
     "name": "stdout",
     "output_type": "stream",
     "text": [
      "[CV]  features__text__use_idf=False, features__text__norm=l1, features__text__ngram_range=(1, 1), features__text__max_features=5000, features__text__max_df=1.0, features__text__binary=True, score=0.44054717642932306, total= 1.2min\n",
      "[CV] features__text__use_idf=False, features__text__norm=None, features__text__ngram_range=(1, 2), features__text__max_features=5000, features__text__max_df=0.7, features__text__binary=True \n"
     ]
    },
    {
     "name": "stderr",
     "output_type": "stream",
     "text": [
      "C:\\Users\\David\\AppData\\Local\\Continuum\\miniconda3\\envs\\udadsnd-p5\\lib\\site-packages\\sklearn\\svm\\base.py:922: ConvergenceWarning: Liblinear failed to converge, increase the number of iterations.\n",
      "  \"the number of iterations.\", ConvergenceWarning)\n"
     ]
    },
    {
     "name": "stdout",
     "output_type": "stream",
     "text": [
      "[CV]  features__text__use_idf=False, features__text__norm=None, features__text__ngram_range=(1, 2), features__text__max_features=5000, features__text__max_df=0.7, features__text__binary=True, score=0.611557064937738, total= 1.7min\n",
      "[CV] features__text__use_idf=False, features__text__norm=None, features__text__ngram_range=(1, 2), features__text__max_features=5000, features__text__max_df=0.7, features__text__binary=True \n"
     ]
    },
    {
     "name": "stderr",
     "output_type": "stream",
     "text": [
      "C:\\Users\\David\\AppData\\Local\\Continuum\\miniconda3\\envs\\udadsnd-p5\\lib\\site-packages\\sklearn\\svm\\base.py:922: ConvergenceWarning: Liblinear failed to converge, increase the number of iterations.\n",
      "  \"the number of iterations.\", ConvergenceWarning)\n"
     ]
    },
    {
     "name": "stdout",
     "output_type": "stream",
     "text": [
      "[CV]  features__text__use_idf=False, features__text__norm=None, features__text__ngram_range=(1, 2), features__text__max_features=5000, features__text__max_df=0.7, features__text__binary=True, score=0.6097256208673921, total= 1.8min\n",
      "[CV] features__text__use_idf=False, features__text__norm=None, features__text__ngram_range=(1, 2), features__text__max_features=5000, features__text__max_df=0.7, features__text__binary=True \n"
     ]
    },
    {
     "name": "stderr",
     "output_type": "stream",
     "text": [
      "C:\\Users\\David\\AppData\\Local\\Continuum\\miniconda3\\envs\\udadsnd-p5\\lib\\site-packages\\sklearn\\svm\\base.py:922: ConvergenceWarning: Liblinear failed to converge, increase the number of iterations.\n",
      "  \"the number of iterations.\", ConvergenceWarning)\n"
     ]
    },
    {
     "name": "stdout",
     "output_type": "stream",
     "text": [
      "[CV]  features__text__use_idf=False, features__text__norm=None, features__text__ngram_range=(1, 2), features__text__max_features=5000, features__text__max_df=0.7, features__text__binary=True, score=0.6131613582521717, total= 1.7min\n",
      "[CV] features__text__use_idf=False, features__text__norm=l1, features__text__ngram_range=(1, 2), features__text__max_features=3000, features__text__max_df=0.5, features__text__binary=True \n"
     ]
    },
    {
     "name": "stderr",
     "output_type": "stream",
     "text": [
      "C:\\Users\\David\\AppData\\Local\\Continuum\\miniconda3\\envs\\udadsnd-p5\\lib\\site-packages\\sklearn\\svm\\base.py:922: ConvergenceWarning: Liblinear failed to converge, increase the number of iterations.\n",
      "  \"the number of iterations.\", ConvergenceWarning)\n"
     ]
    },
    {
     "name": "stdout",
     "output_type": "stream",
     "text": [
      "[CV]  features__text__use_idf=False, features__text__norm=l1, features__text__ngram_range=(1, 2), features__text__max_features=3000, features__text__max_df=0.5, features__text__binary=True, score=0.45994466646172766, total= 1.4min\n",
      "[CV] features__text__use_idf=False, features__text__norm=l1, features__text__ngram_range=(1, 2), features__text__max_features=3000, features__text__max_df=0.5, features__text__binary=True \n"
     ]
    },
    {
     "name": "stderr",
     "output_type": "stream",
     "text": [
      "C:\\Users\\David\\AppData\\Local\\Continuum\\miniconda3\\envs\\udadsnd-p5\\lib\\site-packages\\sklearn\\svm\\base.py:922: ConvergenceWarning: Liblinear failed to converge, increase the number of iterations.\n",
      "  \"the number of iterations.\", ConvergenceWarning)\n"
     ]
    },
    {
     "name": "stdout",
     "output_type": "stream",
     "text": [
      "[CV]  features__text__use_idf=False, features__text__norm=l1, features__text__ngram_range=(1, 2), features__text__max_features=3000, features__text__max_df=0.5, features__text__binary=True, score=0.4600454135431895, total= 1.5min\n",
      "[CV] features__text__use_idf=False, features__text__norm=l1, features__text__ngram_range=(1, 2), features__text__max_features=3000, features__text__max_df=0.5, features__text__binary=True \n"
     ]
    },
    {
     "name": "stderr",
     "output_type": "stream",
     "text": [
      "C:\\Users\\David\\AppData\\Local\\Continuum\\miniconda3\\envs\\udadsnd-p5\\lib\\site-packages\\sklearn\\svm\\base.py:922: ConvergenceWarning: Liblinear failed to converge, increase the number of iterations.\n",
      "  \"the number of iterations.\", ConvergenceWarning)\n"
     ]
    },
    {
     "name": "stdout",
     "output_type": "stream",
     "text": [
      "[CV]  features__text__use_idf=False, features__text__norm=l1, features__text__ngram_range=(1, 2), features__text__max_features=3000, features__text__max_df=0.5, features__text__binary=True, score=0.46949184560166235, total= 1.5min\n",
      "[CV] features__text__use_idf=False, features__text__norm=l2, features__text__ngram_range=(1, 2), features__text__max_features=3000, features__text__max_df=0.5, features__text__binary=True \n"
     ]
    },
    {
     "name": "stderr",
     "output_type": "stream",
     "text": [
      "C:\\Users\\David\\AppData\\Local\\Continuum\\miniconda3\\envs\\udadsnd-p5\\lib\\site-packages\\sklearn\\svm\\base.py:922: ConvergenceWarning: Liblinear failed to converge, increase the number of iterations.\n",
      "  \"the number of iterations.\", ConvergenceWarning)\n"
     ]
    },
    {
     "name": "stdout",
     "output_type": "stream",
     "text": [
      "[CV]  features__text__use_idf=False, features__text__norm=l2, features__text__ngram_range=(1, 2), features__text__max_features=3000, features__text__max_df=0.5, features__text__binary=True, score=0.5953979962567434, total= 1.5min\n",
      "[CV] features__text__use_idf=False, features__text__norm=l2, features__text__ngram_range=(1, 2), features__text__max_features=3000, features__text__max_df=0.5, features__text__binary=True \n"
     ]
    },
    {
     "name": "stderr",
     "output_type": "stream",
     "text": [
      "C:\\Users\\David\\AppData\\Local\\Continuum\\miniconda3\\envs\\udadsnd-p5\\lib\\site-packages\\sklearn\\svm\\base.py:922: ConvergenceWarning: Liblinear failed to converge, increase the number of iterations.\n",
      "  \"the number of iterations.\", ConvergenceWarning)\n"
     ]
    },
    {
     "name": "stdout",
     "output_type": "stream",
     "text": [
      "[CV]  features__text__use_idf=False, features__text__norm=l2, features__text__ngram_range=(1, 2), features__text__max_features=3000, features__text__max_df=0.5, features__text__binary=True, score=0.5938440950150552, total= 1.5min\n",
      "[CV] features__text__use_idf=False, features__text__norm=l2, features__text__ngram_range=(1, 2), features__text__max_features=3000, features__text__max_df=0.5, features__text__binary=True \n",
      "[CV]  features__text__use_idf=False, features__text__norm=l2, features__text__ngram_range=(1, 2), features__text__max_features=3000, features__text__max_df=0.5, features__text__binary=True, score=0.5990890316009845, total= 1.5min\n",
      "[CV] features__text__use_idf=False, features__text__norm=l2, features__text__ngram_range=(1, 1), features__text__max_features=5000, features__text__max_df=0.5, features__text__binary=True \n",
      "[CV]  features__text__use_idf=False, features__text__norm=l2, features__text__ngram_range=(1, 1), features__text__max_features=5000, features__text__max_df=0.5, features__text__binary=True, score=0.45369143683006136, total= 1.1min\n",
      "[CV] features__text__use_idf=False, features__text__norm=l2, features__text__ngram_range=(1, 1), features__text__max_features=5000, features__text__max_df=0.5, features__text__binary=True \n",
      "[CV]  features__text__use_idf=False, features__text__norm=l2, features__text__ngram_range=(1, 1), features__text__max_features=5000, features__text__max_df=0.5, features__text__binary=True, score=0.451473189776124, total= 1.0min\n",
      "[CV] features__text__use_idf=False, features__text__norm=l2, features__text__ngram_range=(1, 1), features__text__max_features=5000, features__text__max_df=0.5, features__text__binary=True \n",
      "[CV]  features__text__use_idf=False, features__text__norm=l2, features__text__ngram_range=(1, 1), features__text__max_features=5000, features__text__max_df=0.5, features__text__binary=True, score=0.45614469006028746, total= 1.1min\n",
      "[CV] features__text__use_idf=False, features__text__norm=l1, features__text__ngram_range=(1, 2), features__text__max_features=3000, features__text__max_df=1.0, features__text__binary=False \n"
     ]
    },
    {
     "name": "stderr",
     "output_type": "stream",
     "text": [
      "C:\\Users\\David\\AppData\\Local\\Continuum\\miniconda3\\envs\\udadsnd-p5\\lib\\site-packages\\sklearn\\svm\\base.py:922: ConvergenceWarning: Liblinear failed to converge, increase the number of iterations.\n",
      "  \"the number of iterations.\", ConvergenceWarning)\n"
     ]
    },
    {
     "name": "stdout",
     "output_type": "stream",
     "text": [
      "[CV]  features__text__use_idf=False, features__text__norm=l1, features__text__ngram_range=(1, 2), features__text__max_features=3000, features__text__max_df=1.0, features__text__binary=False, score=0.43598615916955014, total= 1.6min\n",
      "[CV] features__text__use_idf=False, features__text__norm=l1, features__text__ngram_range=(1, 2), features__text__max_features=3000, features__text__max_df=1.0, features__text__binary=False \n",
      "[CV]  features__text__use_idf=False, features__text__norm=l1, features__text__ngram_range=(1, 2), features__text__max_features=3000, features__text__max_df=1.0, features__text__binary=False, score=0.43276368575670465, total= 1.6min\n",
      "[CV] features__text__use_idf=False, features__text__norm=l1, features__text__ngram_range=(1, 2), features__text__max_features=3000, features__text__max_df=1.0, features__text__binary=False \n",
      "[CV]  features__text__use_idf=False, features__text__norm=l1, features__text__ngram_range=(1, 2), features__text__max_features=3000, features__text__max_df=1.0, features__text__binary=False, score=0.4457324840764331, total= 1.6min\n",
      "[CV] features__text__use_idf=False, features__text__norm=None, features__text__ngram_range=(1, 2), features__text__max_features=3000, features__text__max_df=1.0, features__text__binary=False \n"
     ]
    },
    {
     "name": "stderr",
     "output_type": "stream",
     "text": [
      "C:\\Users\\David\\AppData\\Local\\Continuum\\miniconda3\\envs\\udadsnd-p5\\lib\\site-packages\\sklearn\\svm\\base.py:922: ConvergenceWarning: Liblinear failed to converge, increase the number of iterations.\n",
      "  \"the number of iterations.\", ConvergenceWarning)\n"
     ]
    },
    {
     "name": "stdout",
     "output_type": "stream",
     "text": [
      "[CV]  features__text__use_idf=False, features__text__norm=None, features__text__ngram_range=(1, 2), features__text__max_features=3000, features__text__max_df=1.0, features__text__binary=False, score=0.6071161338596899, total= 2.7min\n",
      "[CV] features__text__use_idf=False, features__text__norm=None, features__text__ngram_range=(1, 2), features__text__max_features=3000, features__text__max_df=1.0, features__text__binary=False \n"
     ]
    },
    {
     "name": "stderr",
     "output_type": "stream",
     "text": [
      "C:\\Users\\David\\AppData\\Local\\Continuum\\miniconda3\\envs\\udadsnd-p5\\lib\\site-packages\\sklearn\\svm\\base.py:922: ConvergenceWarning: Liblinear failed to converge, increase the number of iterations.\n",
      "  \"the number of iterations.\", ConvergenceWarning)\n"
     ]
    },
    {
     "name": "stdout",
     "output_type": "stream",
     "text": [
      "[CV]  features__text__use_idf=False, features__text__norm=None, features__text__ngram_range=(1, 2), features__text__max_features=3000, features__text__max_df=1.0, features__text__binary=False, score=0.5951271186440678, total= 2.5min\n",
      "[CV] features__text__use_idf=False, features__text__norm=None, features__text__ngram_range=(1, 2), features__text__max_features=3000, features__text__max_df=1.0, features__text__binary=False \n"
     ]
    },
    {
     "name": "stderr",
     "output_type": "stream",
     "text": [
      "C:\\Users\\David\\AppData\\Local\\Continuum\\miniconda3\\envs\\udadsnd-p5\\lib\\site-packages\\sklearn\\svm\\base.py:922: ConvergenceWarning: Liblinear failed to converge, increase the number of iterations.\n",
      "  \"the number of iterations.\", ConvergenceWarning)\n"
     ]
    },
    {
     "name": "stdout",
     "output_type": "stream",
     "text": [
      "[CV]  features__text__use_idf=False, features__text__norm=None, features__text__ngram_range=(1, 2), features__text__max_features=3000, features__text__max_df=1.0, features__text__binary=False, score=0.5995923661293311, total= 2.7min\n",
      "[CV] features__text__use_idf=False, features__text__norm=l1, features__text__ngram_range=(1, 2), features__text__max_features=3000, features__text__max_df=1.0, features__text__binary=True \n",
      "[CV]  features__text__use_idf=False, features__text__norm=l1, features__text__ngram_range=(1, 2), features__text__max_features=3000, features__text__max_df=1.0, features__text__binary=True, score=0.4344044303995494, total= 1.5min\n",
      "[CV] features__text__use_idf=False, features__text__norm=l1, features__text__ngram_range=(1, 2), features__text__max_features=3000, features__text__max_df=1.0, features__text__binary=True \n"
     ]
    },
    {
     "name": "stderr",
     "output_type": "stream",
     "text": [
      "C:\\Users\\David\\AppData\\Local\\Continuum\\miniconda3\\envs\\udadsnd-p5\\lib\\site-packages\\sklearn\\svm\\base.py:922: ConvergenceWarning: Liblinear failed to converge, increase the number of iterations.\n",
      "  \"the number of iterations.\", ConvergenceWarning)\n"
     ]
    },
    {
     "name": "stdout",
     "output_type": "stream",
     "text": [
      "[CV]  features__text__use_idf=False, features__text__norm=l1, features__text__ngram_range=(1, 2), features__text__max_features=3000, features__text__max_df=1.0, features__text__binary=True, score=0.4325352782622483, total= 1.6min\n",
      "[CV] features__text__use_idf=False, features__text__norm=l1, features__text__ngram_range=(1, 2), features__text__max_features=3000, features__text__max_df=1.0, features__text__binary=True \n"
     ]
    },
    {
     "name": "stderr",
     "output_type": "stream",
     "text": [
      "C:\\Users\\David\\AppData\\Local\\Continuum\\miniconda3\\envs\\udadsnd-p5\\lib\\site-packages\\sklearn\\svm\\base.py:922: ConvergenceWarning: Liblinear failed to converge, increase the number of iterations.\n",
      "  \"the number of iterations.\", ConvergenceWarning)\n"
     ]
    },
    {
     "name": "stdout",
     "output_type": "stream",
     "text": [
      "[CV]  features__text__use_idf=False, features__text__norm=l1, features__text__ngram_range=(1, 2), features__text__max_features=3000, features__text__max_df=1.0, features__text__binary=True, score=0.4443234587670136, total= 1.6min\n",
      "[CV] features__text__use_idf=False, features__text__norm=l1, features__text__ngram_range=(1, 2), features__text__max_features=5000, features__text__max_df=1.0, features__text__binary=False \n"
     ]
    },
    {
     "name": "stderr",
     "output_type": "stream",
     "text": [
      "C:\\Users\\David\\AppData\\Local\\Continuum\\miniconda3\\envs\\udadsnd-p5\\lib\\site-packages\\sklearn\\svm\\base.py:922: ConvergenceWarning: Liblinear failed to converge, increase the number of iterations.\n",
      "  \"the number of iterations.\", ConvergenceWarning)\n"
     ]
    },
    {
     "name": "stdout",
     "output_type": "stream",
     "text": [
      "[CV]  features__text__use_idf=False, features__text__norm=l1, features__text__ngram_range=(1, 2), features__text__max_features=5000, features__text__max_df=1.0, features__text__binary=False, score=0.43598615916955014, total= 1.6min\n",
      "[CV] features__text__use_idf=False, features__text__norm=l1, features__text__ngram_range=(1, 2), features__text__max_features=5000, features__text__max_df=1.0, features__text__binary=False \n",
      "[CV]  features__text__use_idf=False, features__text__norm=l1, features__text__ngram_range=(1, 2), features__text__max_features=5000, features__text__max_df=1.0, features__text__binary=False, score=0.43276368575670465, total= 1.6min\n",
      "[CV] features__text__use_idf=False, features__text__norm=l1, features__text__ngram_range=(1, 2), features__text__max_features=5000, features__text__max_df=1.0, features__text__binary=False \n",
      "[CV]  features__text__use_idf=False, features__text__norm=l1, features__text__ngram_range=(1, 2), features__text__max_features=5000, features__text__max_df=1.0, features__text__binary=False, score=0.4457324840764331, total= 1.6min\n"
     ]
    },
    {
     "name": "stderr",
     "output_type": "stream",
     "text": [
      "[Parallel(n_jobs=1)]: Done 150 out of 150 | elapsed: 328.0min finished\n",
      "C:\\Users\\David\\AppData\\Local\\Continuum\\miniconda3\\envs\\udadsnd-p5\\lib\\site-packages\\sklearn\\svm\\base.py:922: ConvergenceWarning: Liblinear failed to converge, increase the number of iterations.\n",
      "  \"the number of iterations.\", ConvergenceWarning)\n"
     ]
    },
    {
     "name": "stdout",
     "output_type": "stream",
     "text": [
      "Wall time: 5h 30min 13s\n"
     ]
    },
    {
     "data": {
      "text/plain": [
       "RandomizedSearchCV(cv=3, error_score='raise-deprecating',\n",
       "          estimator=Pipeline(memory=None,\n",
       "     steps=[('features', FeatureUnion(n_jobs=None,\n",
       "       transformer_list=[('text', TfidfVectorizer(analyzer='word', binary=False, decode_error='strict',\n",
       "        dtype=<class 'numpy.float64'>, encoding='utf-8', input='content',\n",
       "        lowercase=True, max_df=0.5, max_features=5000, min_df=1,\n",
       "        ngr...ne, solver='liblinear',\n",
       "          tol=0.0001, verbose=0, warm_start=False),\n",
       "          n_jobs=None))]),\n",
       "          fit_params=None, iid='warn', n_iter=50, n_jobs=None,\n",
       "          param_distributions={'features__text__ngram_range': ((1, 1), (1, 2)), 'features__text__max_df': [0.5, 0.7, 1.0], 'features__text__max_features': [3000, 5000], 'features__text__norm': [None, 'l1', 'l2'], 'features__text__binary': [True, False], 'features__text__use_idf': [False]},\n",
       "          pre_dispatch='2*n_jobs', random_state=None, refit=True,\n",
       "          return_train_score='warn',\n",
       "          scoring=make_scorer(f1_score, average=micro), verbose=3)"
      ]
     },
     "execution_count": 26,
     "metadata": {},
     "output_type": "execute_result"
    }
   ],
   "source": [
    "%%time\n",
    "rs.fit(x_train_val, y_train_val)"
   ]
  },
  {
   "cell_type": "code",
   "execution_count": 27,
   "metadata": {},
   "outputs": [
    {
     "name": "stdout",
     "output_type": "stream",
     "text": [
      "Best score is 0.6115 with params = {'features__text__use_idf': False, 'features__text__norm': None, 'features__text__ngram_range': (1, 2), 'features__text__max_features': 5000, 'features__text__max_df': 0.7, 'features__text__binary': True}\n"
     ]
    }
   ],
   "source": [
    "print(\"Best score is {:.4f} with params = {}\".format(rs.best_score_, rs.best_params_))"
   ]
  },
  {
   "cell_type": "markdown",
   "metadata": {},
   "source": [
    "#### See cross validation results table"
   ]
  },
  {
   "cell_type": "code",
   "execution_count": 31,
   "metadata": {},
   "outputs": [
    {
     "data": {
      "text/plain": [
       "dict_keys(['mean_fit_time', 'std_fit_time', 'mean_score_time', 'std_score_time', 'param_features__text__use_idf', 'param_features__text__norm', 'param_features__text__ngram_range', 'param_features__text__max_features', 'param_features__text__max_df', 'param_features__text__binary', 'params', 'split0_test_score', 'split1_test_score', 'split2_test_score', 'mean_test_score', 'std_test_score', 'rank_test_score', 'split0_train_score', 'split1_train_score', 'split2_train_score', 'mean_train_score', 'std_train_score'])"
      ]
     },
     "execution_count": 31,
     "metadata": {},
     "output_type": "execute_result"
    }
   ],
   "source": [
    "rs.cv_results_.keys()"
   ]
  },
  {
   "cell_type": "code",
   "execution_count": 38,
   "metadata": {
    "scrolled": false
   },
   "outputs": [
    {
     "data": {
      "text/html": [
       "<div>\n",
       "<style scoped>\n",
       "    .dataframe tbody tr th:only-of-type {\n",
       "        vertical-align: middle;\n",
       "    }\n",
       "\n",
       "    .dataframe tbody tr th {\n",
       "        vertical-align: top;\n",
       "    }\n",
       "\n",
       "    .dataframe thead th {\n",
       "        text-align: right;\n",
       "    }\n",
       "</style>\n",
       "<table border=\"1\" class=\"dataframe\">\n",
       "  <thead>\n",
       "    <tr style=\"text-align: right;\">\n",
       "      <th></th>\n",
       "      <th>norm</th>\n",
       "      <th>ngram_range</th>\n",
       "      <th>max_features</th>\n",
       "      <th>max_df</th>\n",
       "      <th>binary</th>\n",
       "      <th>mean_test_score</th>\n",
       "      <th>rank_test_score</th>\n",
       "    </tr>\n",
       "  </thead>\n",
       "  <tbody>\n",
       "    <tr>\n",
       "      <td>42</td>\n",
       "      <td>None</td>\n",
       "      <td>(1, 2)</td>\n",
       "      <td>5000</td>\n",
       "      <td>0.7</td>\n",
       "      <td>True</td>\n",
       "      <td>0.611481</td>\n",
       "      <td>1</td>\n",
       "    </tr>\n",
       "    <tr>\n",
       "      <td>24</td>\n",
       "      <td>None</td>\n",
       "      <td>(1, 2)</td>\n",
       "      <td>5000</td>\n",
       "      <td>0.5</td>\n",
       "      <td>True</td>\n",
       "      <td>0.608946</td>\n",
       "      <td>2</td>\n",
       "    </tr>\n",
       "    <tr>\n",
       "      <td>15</td>\n",
       "      <td>None</td>\n",
       "      <td>(1, 2)</td>\n",
       "      <td>3000</td>\n",
       "      <td>1</td>\n",
       "      <td>True</td>\n",
       "      <td>0.605768</td>\n",
       "      <td>3</td>\n",
       "    </tr>\n",
       "    <tr>\n",
       "      <td>0</td>\n",
       "      <td>None</td>\n",
       "      <td>(1, 2)</td>\n",
       "      <td>5000</td>\n",
       "      <td>1</td>\n",
       "      <td>True</td>\n",
       "      <td>0.605768</td>\n",
       "      <td>3</td>\n",
       "    </tr>\n",
       "    <tr>\n",
       "      <td>32</td>\n",
       "      <td>None</td>\n",
       "      <td>(1, 2)</td>\n",
       "      <td>5000</td>\n",
       "      <td>0.7</td>\n",
       "      <td>False</td>\n",
       "      <td>0.602020</td>\n",
       "      <td>5</td>\n",
       "    </tr>\n",
       "    <tr>\n",
       "      <td>18</td>\n",
       "      <td>None</td>\n",
       "      <td>(1, 2)</td>\n",
       "      <td>3000</td>\n",
       "      <td>0.7</td>\n",
       "      <td>False</td>\n",
       "      <td>0.602020</td>\n",
       "      <td>5</td>\n",
       "    </tr>\n",
       "    <tr>\n",
       "      <td>47</td>\n",
       "      <td>None</td>\n",
       "      <td>(1, 2)</td>\n",
       "      <td>3000</td>\n",
       "      <td>1</td>\n",
       "      <td>False</td>\n",
       "      <td>0.600612</td>\n",
       "      <td>7</td>\n",
       "    </tr>\n",
       "    <tr>\n",
       "      <td>7</td>\n",
       "      <td>None</td>\n",
       "      <td>(1, 2)</td>\n",
       "      <td>5000</td>\n",
       "      <td>1</td>\n",
       "      <td>False</td>\n",
       "      <td>0.600612</td>\n",
       "      <td>7</td>\n",
       "    </tr>\n",
       "    <tr>\n",
       "      <td>11</td>\n",
       "      <td>None</td>\n",
       "      <td>(1, 2)</td>\n",
       "      <td>3000</td>\n",
       "      <td>0.5</td>\n",
       "      <td>False</td>\n",
       "      <td>0.597660</td>\n",
       "      <td>9</td>\n",
       "    </tr>\n",
       "    <tr>\n",
       "      <td>44</td>\n",
       "      <td>l2</td>\n",
       "      <td>(1, 2)</td>\n",
       "      <td>3000</td>\n",
       "      <td>0.5</td>\n",
       "      <td>True</td>\n",
       "      <td>0.596110</td>\n",
       "      <td>10</td>\n",
       "    </tr>\n",
       "    <tr>\n",
       "      <td>31</td>\n",
       "      <td>l2</td>\n",
       "      <td>(1, 2)</td>\n",
       "      <td>5000</td>\n",
       "      <td>0.5</td>\n",
       "      <td>True</td>\n",
       "      <td>0.596110</td>\n",
       "      <td>10</td>\n",
       "    </tr>\n",
       "    <tr>\n",
       "      <td>9</td>\n",
       "      <td>l2</td>\n",
       "      <td>(1, 2)</td>\n",
       "      <td>3000</td>\n",
       "      <td>0.5</td>\n",
       "      <td>False</td>\n",
       "      <td>0.595758</td>\n",
       "      <td>12</td>\n",
       "    </tr>\n",
       "    <tr>\n",
       "      <td>40</td>\n",
       "      <td>l2</td>\n",
       "      <td>(1, 2)</td>\n",
       "      <td>5000</td>\n",
       "      <td>0.5</td>\n",
       "      <td>False</td>\n",
       "      <td>0.595758</td>\n",
       "      <td>12</td>\n",
       "    </tr>\n",
       "    <tr>\n",
       "      <td>27</td>\n",
       "      <td>l2</td>\n",
       "      <td>(1, 2)</td>\n",
       "      <td>3000</td>\n",
       "      <td>0.7</td>\n",
       "      <td>True</td>\n",
       "      <td>0.595262</td>\n",
       "      <td>14</td>\n",
       "    </tr>\n",
       "    <tr>\n",
       "      <td>33</td>\n",
       "      <td>l2</td>\n",
       "      <td>(1, 2)</td>\n",
       "      <td>5000</td>\n",
       "      <td>0.7</td>\n",
       "      <td>False</td>\n",
       "      <td>0.591876</td>\n",
       "      <td>15</td>\n",
       "    </tr>\n",
       "    <tr>\n",
       "      <td>16</td>\n",
       "      <td>l2</td>\n",
       "      <td>(1, 2)</td>\n",
       "      <td>3000</td>\n",
       "      <td>0.7</td>\n",
       "      <td>False</td>\n",
       "      <td>0.591876</td>\n",
       "      <td>15</td>\n",
       "    </tr>\n",
       "    <tr>\n",
       "      <td>3</td>\n",
       "      <td>l2</td>\n",
       "      <td>(1, 2)</td>\n",
       "      <td>3000</td>\n",
       "      <td>1</td>\n",
       "      <td>True</td>\n",
       "      <td>0.590636</td>\n",
       "      <td>17</td>\n",
       "    </tr>\n",
       "    <tr>\n",
       "      <td>30</td>\n",
       "      <td>l2</td>\n",
       "      <td>(1, 2)</td>\n",
       "      <td>5000</td>\n",
       "      <td>1</td>\n",
       "      <td>False</td>\n",
       "      <td>0.550352</td>\n",
       "      <td>18</td>\n",
       "    </tr>\n",
       "    <tr>\n",
       "      <td>1</td>\n",
       "      <td>l2</td>\n",
       "      <td>(1, 1)</td>\n",
       "      <td>3000</td>\n",
       "      <td>1</td>\n",
       "      <td>False</td>\n",
       "      <td>0.481033</td>\n",
       "      <td>19</td>\n",
       "    </tr>\n",
       "    <tr>\n",
       "      <td>4</td>\n",
       "      <td>None</td>\n",
       "      <td>(1, 1)</td>\n",
       "      <td>3000</td>\n",
       "      <td>1</td>\n",
       "      <td>True</td>\n",
       "      <td>0.479650</td>\n",
       "      <td>20</td>\n",
       "    </tr>\n",
       "    <tr>\n",
       "      <td>28</td>\n",
       "      <td>None</td>\n",
       "      <td>(1, 1)</td>\n",
       "      <td>5000</td>\n",
       "      <td>1</td>\n",
       "      <td>False</td>\n",
       "      <td>0.477041</td>\n",
       "      <td>21</td>\n",
       "    </tr>\n",
       "    <tr>\n",
       "      <td>23</td>\n",
       "      <td>l1</td>\n",
       "      <td>(1, 2)</td>\n",
       "      <td>5000</td>\n",
       "      <td>0.5</td>\n",
       "      <td>False</td>\n",
       "      <td>0.470070</td>\n",
       "      <td>22</td>\n",
       "    </tr>\n",
       "    <tr>\n",
       "      <td>35</td>\n",
       "      <td>l1</td>\n",
       "      <td>(1, 2)</td>\n",
       "      <td>3000</td>\n",
       "      <td>0.5</td>\n",
       "      <td>False</td>\n",
       "      <td>0.470070</td>\n",
       "      <td>22</td>\n",
       "    </tr>\n",
       "    <tr>\n",
       "      <td>43</td>\n",
       "      <td>l1</td>\n",
       "      <td>(1, 2)</td>\n",
       "      <td>3000</td>\n",
       "      <td>0.5</td>\n",
       "      <td>True</td>\n",
       "      <td>0.463160</td>\n",
       "      <td>24</td>\n",
       "    </tr>\n",
       "    <tr>\n",
       "      <td>22</td>\n",
       "      <td>l2</td>\n",
       "      <td>(1, 1)</td>\n",
       "      <td>5000</td>\n",
       "      <td>0.7</td>\n",
       "      <td>True</td>\n",
       "      <td>0.461802</td>\n",
       "      <td>25</td>\n",
       "    </tr>\n",
       "    <tr>\n",
       "      <td>25</td>\n",
       "      <td>l2</td>\n",
       "      <td>(1, 1)</td>\n",
       "      <td>3000</td>\n",
       "      <td>0.7</td>\n",
       "      <td>True</td>\n",
       "      <td>0.461802</td>\n",
       "      <td>25</td>\n",
       "    </tr>\n",
       "    <tr>\n",
       "      <td>26</td>\n",
       "      <td>l1</td>\n",
       "      <td>(1, 2)</td>\n",
       "      <td>3000</td>\n",
       "      <td>0.7</td>\n",
       "      <td>False</td>\n",
       "      <td>0.460907</td>\n",
       "      <td>27</td>\n",
       "    </tr>\n",
       "    <tr>\n",
       "      <td>13</td>\n",
       "      <td>l1</td>\n",
       "      <td>(1, 2)</td>\n",
       "      <td>5000</td>\n",
       "      <td>0.7</td>\n",
       "      <td>False</td>\n",
       "      <td>0.460907</td>\n",
       "      <td>27</td>\n",
       "    </tr>\n",
       "    <tr>\n",
       "      <td>21</td>\n",
       "      <td>l2</td>\n",
       "      <td>(1, 1)</td>\n",
       "      <td>5000</td>\n",
       "      <td>0.7</td>\n",
       "      <td>False</td>\n",
       "      <td>0.455397</td>\n",
       "      <td>29</td>\n",
       "    </tr>\n",
       "    <tr>\n",
       "      <td>45</td>\n",
       "      <td>l2</td>\n",
       "      <td>(1, 1)</td>\n",
       "      <td>5000</td>\n",
       "      <td>0.5</td>\n",
       "      <td>True</td>\n",
       "      <td>0.453770</td>\n",
       "      <td>30</td>\n",
       "    </tr>\n",
       "    <tr>\n",
       "      <td>12</td>\n",
       "      <td>l2</td>\n",
       "      <td>(1, 1)</td>\n",
       "      <td>3000</td>\n",
       "      <td>0.5</td>\n",
       "      <td>True</td>\n",
       "      <td>0.453770</td>\n",
       "      <td>30</td>\n",
       "    </tr>\n",
       "    <tr>\n",
       "      <td>20</td>\n",
       "      <td>l2</td>\n",
       "      <td>(1, 1)</td>\n",
       "      <td>3000</td>\n",
       "      <td>0.5</td>\n",
       "      <td>False</td>\n",
       "      <td>0.453241</td>\n",
       "      <td>32</td>\n",
       "    </tr>\n",
       "    <tr>\n",
       "      <td>14</td>\n",
       "      <td>l2</td>\n",
       "      <td>(1, 1)</td>\n",
       "      <td>5000</td>\n",
       "      <td>0.5</td>\n",
       "      <td>False</td>\n",
       "      <td>0.453241</td>\n",
       "      <td>32</td>\n",
       "    </tr>\n",
       "    <tr>\n",
       "      <td>39</td>\n",
       "      <td>l1</td>\n",
       "      <td>(1, 2)</td>\n",
       "      <td>5000</td>\n",
       "      <td>0.7</td>\n",
       "      <td>True</td>\n",
       "      <td>0.450574</td>\n",
       "      <td>34</td>\n",
       "    </tr>\n",
       "    <tr>\n",
       "      <td>36</td>\n",
       "      <td>None</td>\n",
       "      <td>(1, 1)</td>\n",
       "      <td>5000</td>\n",
       "      <td>0.7</td>\n",
       "      <td>False</td>\n",
       "      <td>0.448968</td>\n",
       "      <td>35</td>\n",
       "    </tr>\n",
       "    <tr>\n",
       "      <td>37</td>\n",
       "      <td>None</td>\n",
       "      <td>(1, 1)</td>\n",
       "      <td>3000</td>\n",
       "      <td>0.7</td>\n",
       "      <td>False</td>\n",
       "      <td>0.448968</td>\n",
       "      <td>35</td>\n",
       "    </tr>\n",
       "    <tr>\n",
       "      <td>5</td>\n",
       "      <td>None</td>\n",
       "      <td>(1, 1)</td>\n",
       "      <td>3000</td>\n",
       "      <td>0.5</td>\n",
       "      <td>True</td>\n",
       "      <td>0.447901</td>\n",
       "      <td>37</td>\n",
       "    </tr>\n",
       "    <tr>\n",
       "      <td>19</td>\n",
       "      <td>None</td>\n",
       "      <td>(1, 1)</td>\n",
       "      <td>5000</td>\n",
       "      <td>0.5</td>\n",
       "      <td>True</td>\n",
       "      <td>0.447901</td>\n",
       "      <td>37</td>\n",
       "    </tr>\n",
       "    <tr>\n",
       "      <td>6</td>\n",
       "      <td>l1</td>\n",
       "      <td>(1, 1)</td>\n",
       "      <td>5000</td>\n",
       "      <td>0.5</td>\n",
       "      <td>False</td>\n",
       "      <td>0.444658</td>\n",
       "      <td>39</td>\n",
       "    </tr>\n",
       "    <tr>\n",
       "      <td>10</td>\n",
       "      <td>l1</td>\n",
       "      <td>(1, 1)</td>\n",
       "      <td>5000</td>\n",
       "      <td>0.5</td>\n",
       "      <td>True</td>\n",
       "      <td>0.444260</td>\n",
       "      <td>40</td>\n",
       "    </tr>\n",
       "    <tr>\n",
       "      <td>17</td>\n",
       "      <td>l1</td>\n",
       "      <td>(1, 1)</td>\n",
       "      <td>5000</td>\n",
       "      <td>1</td>\n",
       "      <td>False</td>\n",
       "      <td>0.443504</td>\n",
       "      <td>41</td>\n",
       "    </tr>\n",
       "    <tr>\n",
       "      <td>34</td>\n",
       "      <td>l1</td>\n",
       "      <td>(1, 1)</td>\n",
       "      <td>3000</td>\n",
       "      <td>1</td>\n",
       "      <td>False</td>\n",
       "      <td>0.443504</td>\n",
       "      <td>41</td>\n",
       "    </tr>\n",
       "    <tr>\n",
       "      <td>38</td>\n",
       "      <td>l1</td>\n",
       "      <td>(1, 1)</td>\n",
       "      <td>5000</td>\n",
       "      <td>0.7</td>\n",
       "      <td>True</td>\n",
       "      <td>0.442244</td>\n",
       "      <td>43</td>\n",
       "    </tr>\n",
       "    <tr>\n",
       "      <td>29</td>\n",
       "      <td>l1</td>\n",
       "      <td>(1, 1)</td>\n",
       "      <td>3000</td>\n",
       "      <td>0.7</td>\n",
       "      <td>True</td>\n",
       "      <td>0.442244</td>\n",
       "      <td>43</td>\n",
       "    </tr>\n",
       "    <tr>\n",
       "      <td>2</td>\n",
       "      <td>l1</td>\n",
       "      <td>(1, 1)</td>\n",
       "      <td>3000</td>\n",
       "      <td>0.7</td>\n",
       "      <td>False</td>\n",
       "      <td>0.441157</td>\n",
       "      <td>45</td>\n",
       "    </tr>\n",
       "    <tr>\n",
       "      <td>46</td>\n",
       "      <td>l1</td>\n",
       "      <td>(1, 2)</td>\n",
       "      <td>3000</td>\n",
       "      <td>1</td>\n",
       "      <td>False</td>\n",
       "      <td>0.438160</td>\n",
       "      <td>46</td>\n",
       "    </tr>\n",
       "    <tr>\n",
       "      <td>49</td>\n",
       "      <td>l1</td>\n",
       "      <td>(1, 2)</td>\n",
       "      <td>5000</td>\n",
       "      <td>1</td>\n",
       "      <td>False</td>\n",
       "      <td>0.438160</td>\n",
       "      <td>46</td>\n",
       "    </tr>\n",
       "    <tr>\n",
       "      <td>8</td>\n",
       "      <td>l1</td>\n",
       "      <td>(1, 2)</td>\n",
       "      <td>5000</td>\n",
       "      <td>1</td>\n",
       "      <td>True</td>\n",
       "      <td>0.437087</td>\n",
       "      <td>48</td>\n",
       "    </tr>\n",
       "    <tr>\n",
       "      <td>48</td>\n",
       "      <td>l1</td>\n",
       "      <td>(1, 2)</td>\n",
       "      <td>3000</td>\n",
       "      <td>1</td>\n",
       "      <td>True</td>\n",
       "      <td>0.437087</td>\n",
       "      <td>48</td>\n",
       "    </tr>\n",
       "    <tr>\n",
       "      <td>41</td>\n",
       "      <td>l1</td>\n",
       "      <td>(1, 1)</td>\n",
       "      <td>5000</td>\n",
       "      <td>1</td>\n",
       "      <td>True</td>\n",
       "      <td>0.432154</td>\n",
       "      <td>50</td>\n",
       "    </tr>\n",
       "  </tbody>\n",
       "</table>\n",
       "</div>"
      ],
      "text/plain": [
       "    norm ngram_range max_features max_df binary  mean_test_score  \\\n",
       "42  None      (1, 2)         5000    0.7   True         0.611481   \n",
       "24  None      (1, 2)         5000    0.5   True         0.608946   \n",
       "15  None      (1, 2)         3000      1   True         0.605768   \n",
       "0   None      (1, 2)         5000      1   True         0.605768   \n",
       "32  None      (1, 2)         5000    0.7  False         0.602020   \n",
       "18  None      (1, 2)         3000    0.7  False         0.602020   \n",
       "47  None      (1, 2)         3000      1  False         0.600612   \n",
       "7   None      (1, 2)         5000      1  False         0.600612   \n",
       "11  None      (1, 2)         3000    0.5  False         0.597660   \n",
       "44    l2      (1, 2)         3000    0.5   True         0.596110   \n",
       "31    l2      (1, 2)         5000    0.5   True         0.596110   \n",
       "9     l2      (1, 2)         3000    0.5  False         0.595758   \n",
       "40    l2      (1, 2)         5000    0.5  False         0.595758   \n",
       "27    l2      (1, 2)         3000    0.7   True         0.595262   \n",
       "33    l2      (1, 2)         5000    0.7  False         0.591876   \n",
       "16    l2      (1, 2)         3000    0.7  False         0.591876   \n",
       "3     l2      (1, 2)         3000      1   True         0.590636   \n",
       "30    l2      (1, 2)         5000      1  False         0.550352   \n",
       "1     l2      (1, 1)         3000      1  False         0.481033   \n",
       "4   None      (1, 1)         3000      1   True         0.479650   \n",
       "28  None      (1, 1)         5000      1  False         0.477041   \n",
       "23    l1      (1, 2)         5000    0.5  False         0.470070   \n",
       "35    l1      (1, 2)         3000    0.5  False         0.470070   \n",
       "43    l1      (1, 2)         3000    0.5   True         0.463160   \n",
       "22    l2      (1, 1)         5000    0.7   True         0.461802   \n",
       "25    l2      (1, 1)         3000    0.7   True         0.461802   \n",
       "26    l1      (1, 2)         3000    0.7  False         0.460907   \n",
       "13    l1      (1, 2)         5000    0.7  False         0.460907   \n",
       "21    l2      (1, 1)         5000    0.7  False         0.455397   \n",
       "45    l2      (1, 1)         5000    0.5   True         0.453770   \n",
       "12    l2      (1, 1)         3000    0.5   True         0.453770   \n",
       "20    l2      (1, 1)         3000    0.5  False         0.453241   \n",
       "14    l2      (1, 1)         5000    0.5  False         0.453241   \n",
       "39    l1      (1, 2)         5000    0.7   True         0.450574   \n",
       "36  None      (1, 1)         5000    0.7  False         0.448968   \n",
       "37  None      (1, 1)         3000    0.7  False         0.448968   \n",
       "5   None      (1, 1)         3000    0.5   True         0.447901   \n",
       "19  None      (1, 1)         5000    0.5   True         0.447901   \n",
       "6     l1      (1, 1)         5000    0.5  False         0.444658   \n",
       "10    l1      (1, 1)         5000    0.5   True         0.444260   \n",
       "17    l1      (1, 1)         5000      1  False         0.443504   \n",
       "34    l1      (1, 1)         3000      1  False         0.443504   \n",
       "38    l1      (1, 1)         5000    0.7   True         0.442244   \n",
       "29    l1      (1, 1)         3000    0.7   True         0.442244   \n",
       "2     l1      (1, 1)         3000    0.7  False         0.441157   \n",
       "46    l1      (1, 2)         3000      1  False         0.438160   \n",
       "49    l1      (1, 2)         5000      1  False         0.438160   \n",
       "8     l1      (1, 2)         5000      1   True         0.437087   \n",
       "48    l1      (1, 2)         3000      1   True         0.437087   \n",
       "41    l1      (1, 1)         5000      1   True         0.432154   \n",
       "\n",
       "    rank_test_score  \n",
       "42                1  \n",
       "24                2  \n",
       "15                3  \n",
       "0                 3  \n",
       "32                5  \n",
       "18                5  \n",
       "47                7  \n",
       "7                 7  \n",
       "11                9  \n",
       "44               10  \n",
       "31               10  \n",
       "9                12  \n",
       "40               12  \n",
       "27               14  \n",
       "33               15  \n",
       "16               15  \n",
       "3                17  \n",
       "30               18  \n",
       "1                19  \n",
       "4                20  \n",
       "28               21  \n",
       "23               22  \n",
       "35               22  \n",
       "43               24  \n",
       "22               25  \n",
       "25               25  \n",
       "26               27  \n",
       "13               27  \n",
       "21               29  \n",
       "45               30  \n",
       "12               30  \n",
       "20               32  \n",
       "14               32  \n",
       "39               34  \n",
       "36               35  \n",
       "37               35  \n",
       "5                37  \n",
       "19               37  \n",
       "6                39  \n",
       "10               40  \n",
       "17               41  \n",
       "34               41  \n",
       "38               43  \n",
       "29               43  \n",
       "2                45  \n",
       "46               46  \n",
       "49               46  \n",
       "8                48  \n",
       "48               48  \n",
       "41               50  "
      ]
     },
     "execution_count": 38,
     "metadata": {},
     "output_type": "execute_result"
    }
   ],
   "source": [
    "rs_table = pd.DataFrame.from_dict(rs.cv_results_)[['param_features__text__norm', \n",
    "                                        'param_features__text__ngram_range', 'param_features__text__max_features', \n",
    "                                        'param_features__text__max_df', 'param_features__text__binary',\n",
    "                                       'mean_test_score', 'rank_test_score']].sort_values(by=['rank_test_score'], axis=0)\n",
    "rs_table.columns = ['norm', 'ngram_range', 'max_features', 'max_df', 'binary', 'mean_test_score', 'rank_test_score']\n",
    "rs_table"
   ]
  },
  {
   "cell_type": "markdown",
   "metadata": {},
   "source": [
    "***Observations:***\n",
    "* ***ngram_range*** and ***norm*** parameters are respectively _(1,2)_ and _'None'_ for the 9 best scores so I think it is safe to say that those values can be kept.\n",
    "* the 4 best scores have also the ***binary*** parameter set to _True_ so let's go with it as well.\n",
    "* for the others (***max_df*** and ***max_features***), to ensure we have found the best combination we could run another search with new ranges to explore. I will not do that and move forward."
   ]
  },
  {
   "cell_type": "code",
   "execution_count": 42,
   "metadata": {},
   "outputs": [
    {
     "name": "stdout",
     "output_type": "stream",
     "text": [
      "Model LogisticRegression tuned -- MICRO metrics -- Precision: 0.7359, Recall: 0.5344, F1-Score: 0.6191\n",
      "Model LogisticRegression tuned -- WEIGHTED metrics -- Precision: 0.6811, Recall: 0.5344, F1-Score: 0.5773\n"
     ]
    }
   ],
   "source": [
    "y_pred_lr_best, _ = evaluate_model_perf('LogisticRegression tuned', rs.best_estimator_, x_test, y_test)"
   ]
  },
  {
   "cell_type": "markdown",
   "metadata": {},
   "source": [
    "### 7.2. Apply TF-IDF tuned parameters to Random Forest\n",
    "Since this project focuses on code quality, process, and  pipelines, there is no minimum performance metric needed to pass. We could try to tune also the Random Forest but I will let this as a further improvement and move forward otherwise I may be running out of time.  \n",
    "For the moment I will only build the pipeline for RandomForest with the best parameters found for TF-IDF Logistic Regression and see if it improves the results which were, as a reminder:\n",
    "\n",
    "* **TF-IDF vectorizer only** with arbitrary values: Precision: 0.7683, Recall: 0.3281, **F1-Score: 0.4599**\n",
    "* **TF-IDF vectorizer + new features**: Precision: 0.7656, Recall: 0.3250, **F1-Score: 0.4563**\n",
    "\n",
    "Remember that those values are for `average='micro'`."
   ]
  },
  {
   "cell_type": "code",
   "execution_count": 39,
   "metadata": {},
   "outputs": [],
   "source": [
    "pipeline_rf_tfidf_tuned = Pipeline([\n",
    "            (\"features\", FeatureUnion([\n",
    "                (\"text\", TfidfVectorizer(tokenizer=lemmatize_txt, max_df=0.7, \n",
    "                                 max_features=5000, ngram_range=(1, 2),\n",
    "                                 binary=True, norm=None, \n",
    "                                 use_idf=False)),\n",
    "                (\"word-count\", WordCountExtractor()),\n",
    "                (\"word-len\", AverageWordLengthExtractor()),\n",
    "                (\"sentence-count\", SentenceCountExtractor()),\n",
    "                (\"sentence-len\", AverageSentenceLengthExtractor()),\n",
    "                (\"verb-count\", PosCountExtractor())\n",
    "            ])),    \n",
    "            (\"clf\", MultiOutputClassifier(RandomForestClassifier(random_state=42, max_depth=8,\n",
    "                                                                 n_estimators=300)))\n",
    "            ])"
   ]
  },
  {
   "cell_type": "code",
   "execution_count": 40,
   "metadata": {},
   "outputs": [
    {
     "name": "stdout",
     "output_type": "stream",
     "text": [
      "Wall time: 3min 15s\n"
     ]
    },
    {
     "data": {
      "text/plain": [
       "Pipeline(memory=None,\n",
       "     steps=[('features', FeatureUnion(n_jobs=None,\n",
       "       transformer_list=[('text', TfidfVectorizer(analyzer='word', binary=True, decode_error='strict',\n",
       "        dtype=<class 'numpy.float64'>, encoding='utf-8', input='content',\n",
       "        lowercase=True, max_df=0.7, max_features=5000, min_df=1,\n",
       "        ngra...           oob_score=False, random_state=42, verbose=0, warm_start=False),\n",
       "           n_jobs=None))])"
      ]
     },
     "execution_count": 40,
     "metadata": {},
     "output_type": "execute_result"
    }
   ],
   "source": [
    "%%time\n",
    "pipeline_rf_tfidf_tuned.fit(x_train_val, y_train_val)"
   ]
  },
  {
   "cell_type": "code",
   "execution_count": 41,
   "metadata": {},
   "outputs": [
    {
     "name": "stderr",
     "output_type": "stream",
     "text": [
      "C:\\Users\\David\\AppData\\Local\\Continuum\\miniconda3\\envs\\udadsnd-p5\\lib\\site-packages\\sklearn\\metrics\\classification.py:1143: UndefinedMetricWarning: Precision is ill-defined and being set to 0.0 in labels with no predicted samples.\n",
      "  'precision', 'predicted', average, warn_for)\n",
      "C:\\Users\\David\\AppData\\Local\\Continuum\\miniconda3\\envs\\udadsnd-p5\\lib\\site-packages\\sklearn\\metrics\\classification.py:1143: UndefinedMetricWarning: F-score is ill-defined and being set to 0.0 in labels with no predicted samples.\n",
      "  'precision', 'predicted', average, warn_for)\n"
     ]
    },
    {
     "name": "stdout",
     "output_type": "stream",
     "text": [
      "Model RandomForest with tuned TF-IDF -- MICRO metrics -- Precision: 0.7640, Recall: 0.3308, F1-Score: 0.4616\n",
      "Model RandomForest with tuned TF-IDF -- WEIGHTED metrics -- Precision: 0.6428, Recall: 0.3308, F1-Score: 0.3350\n"
     ]
    },
    {
     "name": "stderr",
     "output_type": "stream",
     "text": [
      "C:\\Users\\David\\AppData\\Local\\Continuum\\miniconda3\\envs\\udadsnd-p5\\lib\\site-packages\\sklearn\\metrics\\classification.py:1143: UndefinedMetricWarning: F-score is ill-defined and being set to 0.0 due to no predicted samples.\n",
      "  'precision', 'predicted', average, warn_for)\n"
     ]
    }
   ],
   "source": [
    "y_pred_rf_tfidf_tuned, _ = evaluate_model_perf('RandomForest with tuned TF-IDF', pipeline_rf_tfidf_tuned, x_test, y_test)"
   ]
  },
  {
   "cell_type": "markdown",
   "metadata": {},
   "source": [
    "Yes, **with the tuned TF-IDF vectorizer we managed to improve the F1-Score (0.461 vs. 0.459)!**. But the value for this model remains far far away from what we were able to achieve with Logistic Regression. To go further, _we should now start a new tuning session for all RandomForest_ parameters because there are high chances that results are poor because of bad arbitrary fixed parameters.  \n",
    "Again, as the main objective is not to get the best metric, I will let this part as a further improvement and move forward on the project."
   ]
  }
 ],
 "metadata": {
  "kernelspec": {
   "display_name": "Python 3",
   "language": "python",
   "name": "python3"
  },
  "language_info": {
   "codemirror_mode": {
    "name": "ipython",
    "version": 3
   },
   "file_extension": ".py",
   "mimetype": "text/x-python",
   "name": "python",
   "nbconvert_exporter": "python",
   "pygments_lexer": "ipython3",
   "version": "3.7.4"
  }
 },
 "nbformat": 4,
 "nbformat_minor": 2
}
